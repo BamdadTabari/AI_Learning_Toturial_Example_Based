{
  "cells": [
    {
      "cell_type": "code",
      "execution_count": null,
      "metadata": {
        "colab": {
          "base_uri": "https://localhost:8080/"
        },
        "id": "70HZSioCaLFI",
        "outputId": "f1169c42-48f7-44e4-fa81-ea247d0ed5fb"
      },
      "outputs": [
        {
          "name": "stdout",
          "output_type": "stream",
          "text": [
            "Colab only includes TensorFlow 2.x; %tensorflow_version has no effect.\n"
          ]
        }
      ],
      "source": [
        "#@title Run on TensorFlow 2.x\n",
        "%tensorflow_version 2.x"
      ]
    },
    {
      "cell_type": "code",
      "execution_count": null,
      "metadata": {
        "id": "uUhGNPz4ab7P"
      },
      "outputs": [],
      "source": [
        "# from __future__ import absolute_import, division, print_function, unicode_literals\n",
        "\n",
        "import numpy as np\n",
        "import pandas as pd\n",
        "import tensorflow as tf\n",
        "from tensorflow import feature_column\n",
        "from tensorflow.keras import layers\n",
        "\n",
        "from matplotlib import pyplot as plt\n",
        "\n",
        "# The following lines adjust the granularity of reporting.\n",
        "pd.options.display.max_rows = 10\n",
        "pd.options.display.float_format = \"{:.1f}\".format\n",
        "\n",
        "tf.keras.backend.set_floatx('float32')"
      ]
    },
    {
      "cell_type": "code",
      "execution_count": null,
      "metadata": {
        "id": "RkJdeTTda9UI"
      },
      "outputs": [],
      "source": [
        "# get all data\n",
        "df = pd.read_csv(\"/content/drive/MyDrive/bitcoin_ticker.csv\")\n",
        "\n",
        "# Scale the labels\n",
        "scale_factor = 1000.0\n",
        "# Scale the main set's label.\n",
        "df[[\"last\",\"bid\",\"ask\",\"low\",\"diff_24h\",\"high\",\"volume\"]] /= scale_factor \n",
        "\n",
        "# get btc data\n",
        "df = df.loc[(df['rpt_key'] == 'btc_usd')]"
      ]
    },
    {
      "cell_type": "code",
      "execution_count": null,
      "metadata": {
        "id": "KFXeYbInbwEp"
      },
      "outputs": [],
      "source": [
        "# buils train data frame and test data frame\n",
        "train_last_index = int(len(df) * 0.80)\n",
        "train_df, test_df = df.iloc[0:train_last_index], df.iloc[train_last_index:len(df)]\n",
        "# Shuffle the examples\n",
        "train_df = train_df.reindex(np.random.permutation(train_df.index))"
      ]
    },
    {
      "cell_type": "markdown",
      "metadata": {
        "id": "Z7DAmaS3wj21"
      },
      "source": [
        "this part is just a normal and one dimentional regrassion\n"
      ]
    },
    {
      "cell_type": "code",
      "execution_count": null,
      "metadata": {
        "id": "z1MJg0jDXQNA"
      },
      "outputs": [],
      "source": [
        "feature_columns = []\n",
        "\n",
        "bid = tf.feature_column.numeric_column('bid')\n",
        "feature_columns.append(bid)\n",
        "\n",
        "ask = tf.feature_column.numeric_column('ask')\n",
        "feature_columns.append(ask)\n",
        "\n",
        "low = tf.feature_column.numeric_column('low')\n",
        "feature_columns.append(low)\n",
        "\n",
        "diff_24h = tf.feature_column.numeric_column('diff_24h')\n",
        "feature_columns.append(diff_24h)\n",
        "\n",
        "high = tf.feature_column.numeric_column('high')\n",
        "feature_columns.append(high)\n",
        "\n",
        "volume = tf.feature_column.numeric_column('volume')\n",
        "feature_columns.append(volume)\n",
        "\n",
        "# Convert the list of feature columns into a layer that will ultimately become\n",
        "# part of the model. Understanding layers is not important right now.\n",
        "fp_feature_layer = layers.DenseFeatures(feature_columns)"
      ]
    },
    {
      "cell_type": "code",
      "execution_count": null,
      "metadata": {
        "colab": {
          "base_uri": "https://localhost:8080/"
        },
        "id": "Q7_UMsj3f1wQ",
        "outputId": "f3234a8d-c8bc-445a-f29a-d05ccfc4af49"
      },
      "outputs": [
        {
          "name": "stdout",
          "output_type": "stream",
          "text": [
            "Defined the create_model, train_model, and plot_the_loss_curve functions.\n"
          ]
        }
      ],
      "source": [
        "def create_model(my_learning_rate, feature_layer):\n",
        "  \"\"\"Create and compile a simple linear regression model.\"\"\"\n",
        "  # Most simple tf.keras models are sequential.\n",
        "  model = tf.keras.models.Sequential()\n",
        "\n",
        "  # Add the layer containing the feature columns to the model.\n",
        "  model.add(feature_layer)\n",
        "\n",
        "  # Add one linear layer to the model to yield a simple linear regressor.\n",
        "  model.add(tf.keras.layers.Dense(units=1, input_shape=(1,)))\n",
        "\n",
        "  # Construct the layers into a model that TensorFlow can execute.\n",
        "  model.compile(optimizer=tf.keras.optimizers.RMSprop(lr=my_learning_rate),\n",
        "                loss=\"mean_squared_error\",\n",
        "                metrics=[tf.keras.metrics.RootMeanSquaredError()])\n",
        "\n",
        "  return model           \n",
        "\n",
        "\n",
        "def train_model(model, dataset, epochs, batch_size, label_name):\n",
        "  \"\"\"Feed a dataset into the model in order to train it.\"\"\"\n",
        "\n",
        "  features = {name:np.array(value) for name, value in dataset.items()}\n",
        "  label = np.array(features.pop(label_name))\n",
        "  history = model.fit(x=features, y=label, batch_size=batch_size,\n",
        "                      epochs=epochs, shuffle=True)\n",
        "\n",
        "  # The list of epochs is stored separately from the rest of history.\n",
        "  epochs = history.epoch\n",
        "  \n",
        "  # Isolate the mean absolute error for each epoch.\n",
        "  hist = pd.DataFrame(history.history)\n",
        "  rmse = hist[\"root_mean_squared_error\"]\n",
        "\n",
        "  return epochs, rmse   \n",
        "\n",
        "\n",
        "def plot_the_loss_curve(epochs, rmse):\n",
        "  \"\"\"Plot a curve of loss vs. epoch.\"\"\"\n",
        "\n",
        "  plt.figure()\n",
        "  plt.xlabel(\"Epoch\")\n",
        "  plt.ylabel(\"Root Mean Squared Error\")\n",
        "\n",
        "  plt.plot(epochs, rmse, label=\"Loss\")\n",
        "  plt.legend()\n",
        "  plt.ylim([rmse.min()*0.94, rmse.max()* 1.05])\n",
        "  plt.show()  \n",
        "\n",
        "print(\"Defined the create_model, train_model, and plot_the_loss_curve functions.\")"
      ]
    },
    {
      "cell_type": "code",
      "execution_count": null,
      "metadata": {
        "colab": {
          "base_uri": "https://localhost:8080/",
          "height": 1000
        },
        "id": "Es7tOMUiKTFv",
        "outputId": "9c611cb9-961c-4bd7-ffb0-b97e17d1ea97"
      },
      "outputs": [
        {
          "name": "stderr",
          "output_type": "stream",
          "text": [
            "/usr/local/lib/python3.7/dist-packages/keras/optimizer_v2/rmsprop.py:130: UserWarning: The `lr` argument is deprecated, use `learning_rate` instead.\n",
            "  super(RMSprop, self).__init__(name, **kwargs)\n"
          ]
        },
        {
          "name": "stdout",
          "output_type": "stream",
          "text": [
            "Epoch 1/30\n",
            "WARNING:tensorflow:Layers in a Sequential model should only have a single input tensor. Received: inputs={'date_id': <tf.Tensor 'IteratorGetNext:3' shape=(None,) dtype=string>, 'datetime_id': <tf.Tensor 'IteratorGetNext:4' shape=(None,) dtype=string>, 'market': <tf.Tensor 'IteratorGetNext:9' shape=(None,) dtype=string>, 'rpt_key': <tf.Tensor 'IteratorGetNext:10' shape=(None,) dtype=string>, 'diff_24h': <tf.Tensor 'IteratorGetNext:5' shape=(None,) dtype=float32>, 'diff_per_24h': <tf.Tensor 'IteratorGetNext:6' shape=(None,) dtype=float32>, 'bid': <tf.Tensor 'IteratorGetNext:1' shape=(None,) dtype=float32>, 'ask': <tf.Tensor 'IteratorGetNext:0' shape=(None,) dtype=float32>, 'low': <tf.Tensor 'IteratorGetNext:8' shape=(None,) dtype=float32>, 'high': <tf.Tensor 'IteratorGetNext:7' shape=(None,) dtype=float32>, 'volume': <tf.Tensor 'IteratorGetNext:12' shape=(None,) dtype=float32>, 'created_at': <tf.Tensor 'IteratorGetNext:2' shape=(None,) dtype=string>, 'updated_at': <tf.Tensor 'IteratorGetNext:11' shape=(None,) dtype=string>}. Consider rewriting this model with the Functional API.\n",
            "WARNING:tensorflow:Layers in a Sequential model should only have a single input tensor. Received: inputs={'date_id': <tf.Tensor 'IteratorGetNext:3' shape=(None,) dtype=string>, 'datetime_id': <tf.Tensor 'IteratorGetNext:4' shape=(None,) dtype=string>, 'market': <tf.Tensor 'IteratorGetNext:9' shape=(None,) dtype=string>, 'rpt_key': <tf.Tensor 'IteratorGetNext:10' shape=(None,) dtype=string>, 'diff_24h': <tf.Tensor 'IteratorGetNext:5' shape=(None,) dtype=float32>, 'diff_per_24h': <tf.Tensor 'IteratorGetNext:6' shape=(None,) dtype=float32>, 'bid': <tf.Tensor 'IteratorGetNext:1' shape=(None,) dtype=float32>, 'ask': <tf.Tensor 'IteratorGetNext:0' shape=(None,) dtype=float32>, 'low': <tf.Tensor 'IteratorGetNext:8' shape=(None,) dtype=float32>, 'high': <tf.Tensor 'IteratorGetNext:7' shape=(None,) dtype=float32>, 'volume': <tf.Tensor 'IteratorGetNext:12' shape=(None,) dtype=float32>, 'created_at': <tf.Tensor 'IteratorGetNext:2' shape=(None,) dtype=string>, 'updated_at': <tf.Tensor 'IteratorGetNext:11' shape=(None,) dtype=string>}. Consider rewriting this model with the Functional API.\n",
            "1004/1004 [==============================] - 6s 5ms/step - loss: 0.4021 - root_mean_squared_error: 0.6341\n",
            "Epoch 2/30\n",
            "1004/1004 [==============================] - 5s 5ms/step - loss: 0.3430 - root_mean_squared_error: 0.5857\n",
            "Epoch 3/30\n",
            "1004/1004 [==============================] - 5s 5ms/step - loss: 0.3405 - root_mean_squared_error: 0.5835\n",
            "Epoch 4/30\n",
            "1004/1004 [==============================] - 5s 5ms/step - loss: 0.3418 - root_mean_squared_error: 0.5846\n",
            "Epoch 5/30\n",
            "1004/1004 [==============================] - 5s 5ms/step - loss: 0.3405 - root_mean_squared_error: 0.5835\n",
            "Epoch 6/30\n",
            "1004/1004 [==============================] - 5s 5ms/step - loss: 0.3400 - root_mean_squared_error: 0.5831\n",
            "Epoch 7/30\n",
            "1004/1004 [==============================] - 5s 5ms/step - loss: 0.3390 - root_mean_squared_error: 0.5822\n",
            "Epoch 8/30\n",
            "1004/1004 [==============================] - 5s 5ms/step - loss: 0.3391 - root_mean_squared_error: 0.5823\n",
            "Epoch 9/30\n",
            "1004/1004 [==============================] - 5s 5ms/step - loss: 0.3390 - root_mean_squared_error: 0.5822\n",
            "Epoch 10/30\n",
            "1004/1004 [==============================] - 5s 5ms/step - loss: 0.3394 - root_mean_squared_error: 0.5826\n",
            "Epoch 11/30\n",
            "1004/1004 [==============================] - 5s 5ms/step - loss: 0.3395 - root_mean_squared_error: 0.5826\n",
            "Epoch 12/30\n",
            "1004/1004 [==============================] - 5s 5ms/step - loss: 0.3390 - root_mean_squared_error: 0.5822\n",
            "Epoch 13/30\n",
            "1004/1004 [==============================] - 5s 5ms/step - loss: 0.3384 - root_mean_squared_error: 0.5817\n",
            "Epoch 14/30\n",
            "1004/1004 [==============================] - 5s 5ms/step - loss: 0.3397 - root_mean_squared_error: 0.5829\n",
            "Epoch 15/30\n",
            "1004/1004 [==============================] - 5s 5ms/step - loss: 0.3388 - root_mean_squared_error: 0.5821\n",
            "Epoch 16/30\n",
            "1004/1004 [==============================] - 5s 5ms/step - loss: 0.3383 - root_mean_squared_error: 0.5816\n",
            "Epoch 17/30\n",
            "1004/1004 [==============================] - 5s 5ms/step - loss: 0.3398 - root_mean_squared_error: 0.5829\n",
            "Epoch 18/30\n",
            "1004/1004 [==============================] - 5s 5ms/step - loss: 0.3386 - root_mean_squared_error: 0.5819\n",
            "Epoch 19/30\n",
            "1004/1004 [==============================] - 5s 5ms/step - loss: 0.3383 - root_mean_squared_error: 0.5816\n",
            "Epoch 20/30\n",
            "1004/1004 [==============================] - 5s 5ms/step - loss: 0.3392 - root_mean_squared_error: 0.5824\n",
            "Epoch 21/30\n",
            "1004/1004 [==============================] - 5s 5ms/step - loss: 0.3391 - root_mean_squared_error: 0.5823\n",
            "Epoch 22/30\n",
            "1004/1004 [==============================] - 5s 5ms/step - loss: 0.3403 - root_mean_squared_error: 0.5834\n",
            "Epoch 23/30\n",
            "1004/1004 [==============================] - 5s 5ms/step - loss: 0.3373 - root_mean_squared_error: 0.5808\n",
            "Epoch 24/30\n",
            "1004/1004 [==============================] - 5s 5ms/step - loss: 0.3391 - root_mean_squared_error: 0.5823\n",
            "Epoch 25/30\n",
            "1004/1004 [==============================] - 5s 5ms/step - loss: 0.3400 - root_mean_squared_error: 0.5831\n",
            "Epoch 26/30\n",
            "1004/1004 [==============================] - 5s 5ms/step - loss: 0.3374 - root_mean_squared_error: 0.5808\n",
            "Epoch 27/30\n",
            "1004/1004 [==============================] - 5s 5ms/step - loss: 0.3393 - root_mean_squared_error: 0.5825\n",
            "Epoch 28/30\n",
            "1004/1004 [==============================] - 5s 5ms/step - loss: 0.3393 - root_mean_squared_error: 0.5825\n",
            "Epoch 29/30\n",
            "1004/1004 [==============================] - 5s 5ms/step - loss: 0.3389 - root_mean_squared_error: 0.5822\n",
            "Epoch 30/30\n",
            "1004/1004 [==============================] - 5s 5ms/step - loss: 0.3397 - root_mean_squared_error: 0.5828\n"
          ]
        },
        {
          "data": {
            "image/png": "[encoded data removed]",
            "text/plain": [
              "<Figure size 432x288 with 1 Axes>"
            ]
          },
          "metadata": {},
          "output_type": "display_data"
        },
        {
          "name": "stdout",
          "output_type": "stream",
          "text": [
            "\n",
            ": Evaluate the new model against the test set:\n",
            "WARNING:tensorflow:Layers in a Sequential model should only have a single input tensor. Received: inputs={'date_id': <tf.Tensor 'IteratorGetNext:3' shape=(None,) dtype=string>, 'datetime_id': <tf.Tensor 'IteratorGetNext:4' shape=(None,) dtype=string>, 'market': <tf.Tensor 'IteratorGetNext:9' shape=(None,) dtype=string>, 'rpt_key': <tf.Tensor 'IteratorGetNext:10' shape=(None,) dtype=string>, 'diff_24h': <tf.Tensor 'IteratorGetNext:5' shape=(None,) dtype=float32>, 'diff_per_24h': <tf.Tensor 'IteratorGetNext:6' shape=(None,) dtype=float32>, 'bid': <tf.Tensor 'IteratorGetNext:1' shape=(None,) dtype=float32>, 'ask': <tf.Tensor 'IteratorGetNext:0' shape=(None,) dtype=float32>, 'low': <tf.Tensor 'IteratorGetNext:8' shape=(None,) dtype=float32>, 'high': <tf.Tensor 'IteratorGetNext:7' shape=(None,) dtype=float32>, 'volume': <tf.Tensor 'IteratorGetNext:12' shape=(None,) dtype=float32>, 'created_at': <tf.Tensor 'IteratorGetNext:2' shape=(None,) dtype=string>, 'updated_at': <tf.Tensor 'IteratorGetNext:11' shape=(None,) dtype=string>}. Consider rewriting this model with the Functional API.\n",
            "251/251 [==============================] - 1s 2ms/step - loss: 0.2175 - root_mean_squared_error: 0.4664\n"
          ]
        },
        {
          "data": {
            "text/plain": [
              "[0.2175428569316864, 0.4664148986339569]"
            ]
          },
          "execution_count": 8,
          "metadata": {},
          "output_type": "execute_result"
        }
      ],
      "source": [
        "# The following variables are the hyperparameters.\n",
        "learning_rate = 0.05\n",
        "epochs = 30\n",
        "batch_size = 100\n",
        "label_name = 'last'\n",
        "\n",
        "# Create and compile the model's topography.\n",
        "my_model = create_model(learning_rate, fp_feature_layer)\n",
        "\n",
        "# Train the model on the training set.\n",
        "epochs, rmse = train_model(my_model, train_df, epochs, batch_size, label_name)\n",
        "\n",
        "plot_the_loss_curve(epochs, rmse)\n",
        "\n",
        "print(\"\\n: Evaluate the new model against the test set:\")\n",
        "test_features = {name:np.array(value) for name, value in test_df.items()}\n",
        "test_label = np.array(test_features.pop(label_name))\n",
        "my_model.evaluate(x=test_features, y=test_label, batch_size=batch_size)"
      ]
    },
    {
      "cell_type": "markdown",
      "metadata": {
        "id": "Mrst1xQFwxB1"
      },
      "source": [
        "in this part we represent our features in buckets (bins)"
      ]
    },
    {
      "cell_type": "code",
      "execution_count": null,
      "metadata": {
        "colab": {
          "base_uri": "https://localhost:8080/"
        },
        "id": "wrekFHxr1aNY",
        "outputId": "f00a1e9c-a34a-4930-94a0-86c67467f58e"
      },
      "outputs": [
        {
          "data": {
            "text/plain": [
              "date_id        100350\n",
              "datetime_id    100350\n",
              "market         100350\n",
              "rpt_key        100350\n",
              "last           100350\n",
              "                ...  \n",
              "low            100350\n",
              "high           100350\n",
              "volume         100350\n",
              "created_at     100350\n",
              "updated_at     100350\n",
              "Length: 14, dtype: int64"
            ]
          },
          "execution_count": 9,
          "metadata": {},
          "output_type": "execute_result"
        }
      ],
      "source": [
        "train_df.count()"
      ]
    },
    {
      "cell_type": "code",
      "execution_count": null,
      "metadata": {
        "id": "oFTJdho2w6A3"
      },
      "outputs": [],
      "source": [
        "resolution_in_degrees = 10\n",
        "\n",
        "# Create a new empty list that will eventually hold the generated feature column.\n",
        "feature_columns = []\n",
        "\n",
        "# Create a bucket feature column for bid.\n",
        "bid_as_a_numeric_column = tf.feature_column.numeric_column(\"bid\")\n",
        "bid_boundaries = list(np.arange(int(min(train_df['bid'])), \n",
        "                                     int(max(train_df['bid'])), \n",
        "                                     resolution_in_degrees))\n",
        "bid = tf.feature_column.bucketized_column(bid_as_a_numeric_column, \n",
        "                                               bid_boundaries)\n",
        "feature_columns.append(bid)\n",
        "\n",
        "\n",
        "# Create a bucket feature column for ask.\n",
        "ask_as_a_numeric_column = tf.feature_column.numeric_column(\"ask\")\n",
        "ask_boundaries = list(np.arange(int(min(train_df['ask'])), \n",
        "                                     int(max(train_df['ask'])), \n",
        "                                     resolution_in_degrees))\n",
        "ask = tf.feature_column.bucketized_column(ask_as_a_numeric_column, \n",
        "                                               ask_boundaries)\n",
        "feature_columns.append(ask)\n",
        "\n",
        "\n",
        "# Create a bucket feature column for diff_24h.\n",
        "diff_24h_as_a_numeric_column = tf.feature_column.numeric_column(\"diff_24h\")\n",
        "diff_24h_boundaries = list(np.arange(int(min(train_df['diff_24h'])), \n",
        "                                     int(max(train_df['diff_24h'])), \n",
        "                                     resolution_in_degrees))\n",
        "diff_24h = tf.feature_column.bucketized_column(diff_24h_as_a_numeric_column, \n",
        "                                              diff_24h_boundaries)\n",
        "feature_columns.append(diff_24h)\n",
        "\n",
        "\n",
        "# Create a bucket feature column for high.\n",
        "high_as_a_numeric_column = tf.feature_column.numeric_column(\"high\")\n",
        "high_boundaries = list(np.arange(int(min(train_df['high'])), \n",
        "                                     int(max(train_df['high'])), \n",
        "                                     resolution_in_degrees))\n",
        "high = tf.feature_column.bucketized_column(high_as_a_numeric_column, \n",
        "                                              high_boundaries)\n",
        "feature_columns.append(high)\n",
        "\n",
        "# Create a bucket feature column for volume.\n",
        "volume_as_a_numeric_column = tf.feature_column.numeric_column(\"volume\")\n",
        "volume_boundaries = list(np.arange(int(min(train_df['volume'])), \n",
        "                                     int(max(train_df['volume'])), \n",
        "                                     resolution_in_degrees))\n",
        "volume = tf.feature_column.bucketized_column(volume_as_a_numeric_column, \n",
        "                                              volume_boundaries)\n",
        "feature_columns.append(volume)\n",
        "\n",
        "# # Create a bucket feature column for diff_per_24h.\n",
        "# diff_per_24h_as_a_numeric_column = tf.feature_column.numeric_column(\"diff_per_24h\")\n",
        "# diff_per_24h_boundaries = list(np.arange(int(min(train_df['diff_per_24h'])), \n",
        "#                                      int(max(train_df['diff_per_24h'])), \n",
        "#                                      resolution_in_degrees))\n",
        "# diff_per_24h = tf.feature_column.bucketized_column(diff_per_24h_as_a_numeric_column, \n",
        "#                                               diff_per_24h_boundaries)\n",
        "# feature_columns.append(diff_per_24h)\n",
        "\n",
        "\n",
        "# Convert the list of feature columns into a layer that will ultimately become\n",
        "# part of the model. Understanding layers is not important right now.\n",
        "buckets_feature_layer = layers.DenseFeatures(feature_columns) "
      ]
    },
    {
      "cell_type": "code",
      "execution_count": null,
      "metadata": {
        "colab": {
          "background_save": true,
          "base_uri": "https://localhost:8080/"
        },
        "id": "xhCsAATd3LKB",
        "outputId": "51112282-de84-443f-c814-b0bd7317fbd2"
      },
      "outputs": [
        {
          "name": "stdout",
          "output_type": "stream",
          "text": [
            "Epoch 1/35\n",
            "WARNING:tensorflow:Layers in a Sequential model should only have a single input tensor. Received: inputs={'date_id': <tf.Tensor 'IteratorGetNext:3' shape=(None,) dtype=string>, 'datetime_id': <tf.Tensor 'IteratorGetNext:4' shape=(None,) dtype=string>, 'market': <tf.Tensor 'IteratorGetNext:9' shape=(None,) dtype=string>, 'rpt_key': <tf.Tensor 'IteratorGetNext:10' shape=(None,) dtype=string>, 'diff_24h': <tf.Tensor 'IteratorGetNext:5' shape=(None,) dtype=float32>, 'diff_per_24h': <tf.Tensor 'IteratorGetNext:6' shape=(None,) dtype=float32>, 'bid': <tf.Tensor 'IteratorGetNext:1' shape=(None,) dtype=float32>, 'ask': <tf.Tensor 'IteratorGetNext:0' shape=(None,) dtype=float32>, 'low': <tf.Tensor 'IteratorGetNext:8' shape=(None,) dtype=float32>, 'high': <tf.Tensor 'IteratorGetNext:7' shape=(None,) dtype=float32>, 'volume': <tf.Tensor 'IteratorGetNext:12' shape=(None,) dtype=float32>, 'created_at': <tf.Tensor 'IteratorGetNext:2' shape=(None,) dtype=string>, 'updated_at': <tf.Tensor 'IteratorGetNext:11' shape=(None,) dtype=string>}. Consider rewriting this model with the Functional API.\n"
          ]
        },
        {
          "name": "stderr",
          "output_type": "stream",
          "text": [
            "/usr/local/lib/python3.7/dist-packages/keras/optimizer_v2/rmsprop.py:130: UserWarning: The `lr` argument is deprecated, use `learning_rate` instead.\n",
            "  super(RMSprop, self).__init__(name, **kwargs)\n",
            "WARNING:tensorflow:Layers in a Sequential model should only have a single input tensor. Received: inputs={'date_id': <tf.Tensor 'IteratorGetNext:3' shape=(None,) dtype=string>, 'datetime_id': <tf.Tensor 'IteratorGetNext:4' shape=(None,) dtype=string>, 'market': <tf.Tensor 'IteratorGetNext:9' shape=(None,) dtype=string>, 'rpt_key': <tf.Tensor 'IteratorGetNext:10' shape=(None,) dtype=string>, 'diff_24h': <tf.Tensor 'IteratorGetNext:5' shape=(None,) dtype=float32>, 'diff_per_24h': <tf.Tensor 'IteratorGetNext:6' shape=(None,) dtype=float32>, 'bid': <tf.Tensor 'IteratorGetNext:1' shape=(None,) dtype=float32>, 'ask': <tf.Tensor 'IteratorGetNext:0' shape=(None,) dtype=float32>, 'low': <tf.Tensor 'IteratorGetNext:8' shape=(None,) dtype=float32>, 'high': <tf.Tensor 'IteratorGetNext:7' shape=(None,) dtype=float32>, 'volume': <tf.Tensor 'IteratorGetNext:12' shape=(None,) dtype=float32>, 'created_at': <tf.Tensor 'IteratorGetNext:2' shape=(None,) dtype=string>, 'updated_at': <tf.Tensor 'IteratorGetNext:11' shape=(None,) dtype=string>}. Consider rewriting this model with the Functional API.\n"
          ]
        },
        {
          "name": "stdout",
          "output_type": "stream",
          "text": [
            "WARNING:tensorflow:Layers in a Sequential model should only have a single input tensor. Received: inputs={'date_id': <tf.Tensor 'IteratorGetNext:3' shape=(None,) dtype=string>, 'datetime_id': <tf.Tensor 'IteratorGetNext:4' shape=(None,) dtype=string>, 'market': <tf.Tensor 'IteratorGetNext:9' shape=(None,) dtype=string>, 'rpt_key': <tf.Tensor 'IteratorGetNext:10' shape=(None,) dtype=string>, 'diff_24h': <tf.Tensor 'IteratorGetNext:5' shape=(None,) dtype=float32>, 'diff_per_24h': <tf.Tensor 'IteratorGetNext:6' shape=(None,) dtype=float32>, 'bid': <tf.Tensor 'IteratorGetNext:1' shape=(None,) dtype=float32>, 'ask': <tf.Tensor 'IteratorGetNext:0' shape=(None,) dtype=float32>, 'low': <tf.Tensor 'IteratorGetNext:8' shape=(None,) dtype=float32>, 'high': <tf.Tensor 'IteratorGetNext:7' shape=(None,) dtype=float32>, 'volume': <tf.Tensor 'IteratorGetNext:12' shape=(None,) dtype=float32>, 'created_at': <tf.Tensor 'IteratorGetNext:2' shape=(None,) dtype=string>, 'updated_at': <tf.Tensor 'IteratorGetNext:11' shape=(None,) dtype=string>}. Consider rewriting this model with the Functional API.\n"
          ]
        },
        {
          "name": "stderr",
          "output_type": "stream",
          "text": [
            "WARNING:tensorflow:Layers in a Sequential model should only have a single input tensor. Received: inputs={'date_id': <tf.Tensor 'IteratorGetNext:3' shape=(None,) dtype=string>, 'datetime_id': <tf.Tensor 'IteratorGetNext:4' shape=(None,) dtype=string>, 'market': <tf.Tensor 'IteratorGetNext:9' shape=(None,) dtype=string>, 'rpt_key': <tf.Tensor 'IteratorGetNext:10' shape=(None,) dtype=string>, 'diff_24h': <tf.Tensor 'IteratorGetNext:5' shape=(None,) dtype=float32>, 'diff_per_24h': <tf.Tensor 'IteratorGetNext:6' shape=(None,) dtype=float32>, 'bid': <tf.Tensor 'IteratorGetNext:1' shape=(None,) dtype=float32>, 'ask': <tf.Tensor 'IteratorGetNext:0' shape=(None,) dtype=float32>, 'low': <tf.Tensor 'IteratorGetNext:8' shape=(None,) dtype=float32>, 'high': <tf.Tensor 'IteratorGetNext:7' shape=(None,) dtype=float32>, 'volume': <tf.Tensor 'IteratorGetNext:12' shape=(None,) dtype=float32>, 'created_at': <tf.Tensor 'IteratorGetNext:2' shape=(None,) dtype=string>, 'updated_at': <tf.Tensor 'IteratorGetNext:11' shape=(None,) dtype=string>}. Consider rewriting this model with the Functional API.\n"
          ]
        },
        {
          "name": "stdout",
          "output_type": "stream",
          "text": [
            "1004/1004 [==============================] - 7s 6ms/step - loss: 0.0376 - root_mean_squared_error: 0.1939\n",
            "Epoch 2/35\n",
            "1004/1004 [==============================] - 6s 6ms/step - loss: 0.0336 - root_mean_squared_error: 0.1833\n",
            "Epoch 3/35\n",
            "1004/1004 [==============================] - 7s 7ms/step - loss: 0.0335 - root_mean_squared_error: 0.1831\n",
            "Epoch 4/35\n",
            "1004/1004 [==============================] - 6s 6ms/step - loss: 0.0337 - root_mean_squared_error: 0.1836\n",
            "Epoch 5/35\n",
            "1004/1004 [==============================] - 6s 6ms/step - loss: 0.0337 - root_mean_squared_error: 0.1836\n",
            "Epoch 6/35\n",
            "1004/1004 [==============================] - 6s 6ms/step - loss: 0.0336 - root_mean_squared_error: 0.1834\n",
            "Epoch 7/35\n",
            "1004/1004 [==============================] - 5s 5ms/step - loss: 0.0337 - root_mean_squared_error: 0.1835\n",
            "Epoch 8/35\n",
            "1004/1004 [==============================] - 6s 6ms/step - loss: 0.0339 - root_mean_squared_error: 0.1840\n",
            "Epoch 9/35\n",
            "1004/1004 [==============================] - 6s 6ms/step - loss: 0.0337 - root_mean_squared_error: 0.1835\n",
            "Epoch 10/35\n",
            "1004/1004 [==============================] - 6s 6ms/step - loss: 0.0336 - root_mean_squared_error: 0.1834\n",
            "Epoch 11/35\n",
            "1004/1004 [==============================] - 6s 6ms/step - loss: 0.0337 - root_mean_squared_error: 0.1835\n",
            "Epoch 12/35\n",
            "1004/1004 [==============================] - 6s 6ms/step - loss: 0.0336 - root_mean_squared_error: 0.1832\n",
            "Epoch 13/35\n",
            "1004/1004 [==============================] - 6s 6ms/step - loss: 0.0337 - root_mean_squared_error: 0.1837\n",
            "Epoch 14/35\n",
            "1004/1004 [==============================] - 6s 6ms/step - loss: 0.0338 - root_mean_squared_error: 0.1837\n",
            "Epoch 15/35\n",
            "1004/1004 [==============================] - 6s 6ms/step - loss: 0.0335 - root_mean_squared_error: 0.1829\n",
            "Epoch 16/35\n",
            "1004/1004 [==============================] - 6s 6ms/step - loss: 0.0337 - root_mean_squared_error: 0.1836\n",
            "Epoch 17/35\n",
            "1004/1004 [==============================] - 6s 6ms/step - loss: 0.0336 - root_mean_squared_error: 0.1832\n",
            "Epoch 18/35\n",
            "1004/1004 [==============================] - 5s 5ms/step - loss: 0.0339 - root_mean_squared_error: 0.1842\n",
            "Epoch 19/35\n",
            "1004/1004 [==============================] - 6s 6ms/step - loss: 0.0337 - root_mean_squared_error: 0.1835\n",
            "Epoch 20/35\n",
            "1004/1004 [==============================] - 6s 6ms/step - loss: 0.0335 - root_mean_squared_error: 0.1831\n",
            "Epoch 21/35\n",
            "1004/1004 [==============================] - 6s 6ms/step - loss: 0.0338 - root_mean_squared_error: 0.1840\n",
            "Epoch 22/35\n",
            "1004/1004 [==============================] - 6s 6ms/step - loss: 0.0337 - root_mean_squared_error: 0.1837\n",
            "Epoch 23/35\n",
            "1004/1004 [==============================] - 6s 6ms/step - loss: 0.0337 - root_mean_squared_error: 0.1836\n",
            "Epoch 24/35\n",
            "1004/1004 [==============================] - 5s 5ms/step - loss: 0.0337 - root_mean_squared_error: 0.1836\n",
            "Epoch 25/35\n",
            "1004/1004 [==============================] - 5s 5ms/step - loss: 0.0336 - root_mean_squared_error: 0.1833\n",
            "Epoch 26/35\n",
            "1004/1004 [==============================] - 5s 5ms/step - loss: 0.0336 - root_mean_squared_error: 0.1832\n",
            "Epoch 27/35\n",
            "1004/1004 [==============================] - 5s 5ms/step - loss: 0.0338 - root_mean_squared_error: 0.1838\n",
            "Epoch 28/35\n",
            "1004/1004 [==============================] - 5s 5ms/step - loss: 0.0339 - root_mean_squared_error: 0.1842\n",
            "Epoch 29/35\n",
            "1004/1004 [==============================] - 5s 5ms/step - loss: 0.0339 - root_mean_squared_error: 0.1842\n",
            "Epoch 30/35\n",
            "1004/1004 [==============================] - 6s 6ms/step - loss: 0.0338 - root_mean_squared_error: 0.1838\n",
            "Epoch 31/35\n",
            "1004/1004 [==============================] - 5s 5ms/step - loss: 0.0336 - root_mean_squared_error: 0.1833\n",
            "Epoch 32/35\n",
            "1004/1004 [==============================] - 6s 6ms/step - loss: 0.0338 - root_mean_squared_error: 0.1837\n",
            "Epoch 33/35\n",
            "1004/1004 [==============================] - 5s 5ms/step - loss: 0.0337 - root_mean_squared_error: 0.1835\n",
            "Epoch 34/35\n",
            "1004/1004 [==============================] - 5s 5ms/step - loss: 0.0336 - root_mean_squared_error: 0.1834\n",
            "Epoch 35/35\n",
            "1004/1004 [==============================] - 6s 6ms/step - loss: 0.0340 - root_mean_squared_error: 0.1843\n"
          ]
        },
        {
          "data": {
            "image/png": "[encoded data removed]",
            "text/plain": [
              "<Figure size 432x288 with 1 Axes>"
            ]
          },
          "metadata": {},
          "output_type": "display_data"
        },
        {
          "name": "stdout",
          "output_type": "stream",
          "text": [
            "\n",
            ": Evaluate the new model against the test set:\n",
            "WARNING:tensorflow:Layers in a Sequential model should only have a single input tensor. Received: inputs={'date_id': <tf.Tensor 'IteratorGetNext:3' shape=(None,) dtype=string>, 'datetime_id': <tf.Tensor 'IteratorGetNext:4' shape=(None,) dtype=string>, 'market': <tf.Tensor 'IteratorGetNext:9' shape=(None,) dtype=string>, 'rpt_key': <tf.Tensor 'IteratorGetNext:10' shape=(None,) dtype=string>, 'diff_24h': <tf.Tensor 'IteratorGetNext:5' shape=(None,) dtype=float32>, 'diff_per_24h': <tf.Tensor 'IteratorGetNext:6' shape=(None,) dtype=float32>, 'bid': <tf.Tensor 'IteratorGetNext:1' shape=(None,) dtype=float32>, 'ask': <tf.Tensor 'IteratorGetNext:0' shape=(None,) dtype=float32>, 'low': <tf.Tensor 'IteratorGetNext:8' shape=(None,) dtype=float32>, 'high': <tf.Tensor 'IteratorGetNext:7' shape=(None,) dtype=float32>, 'volume': <tf.Tensor 'IteratorGetNext:12' shape=(None,) dtype=float32>, 'created_at': <tf.Tensor 'IteratorGetNext:2' shape=(None,) dtype=string>, 'updated_at': <tf.Tensor 'IteratorGetNext:11' shape=(None,) dtype=string>}. Consider rewriting this model with the Functional API.\n"
          ]
        },
        {
          "name": "stderr",
          "output_type": "stream",
          "text": [
            "WARNING:tensorflow:Layers in a Sequential model should only have a single input tensor. Received: inputs={'date_id': <tf.Tensor 'IteratorGetNext:3' shape=(None,) dtype=string>, 'datetime_id': <tf.Tensor 'IteratorGetNext:4' shape=(None,) dtype=string>, 'market': <tf.Tensor 'IteratorGetNext:9' shape=(None,) dtype=string>, 'rpt_key': <tf.Tensor 'IteratorGetNext:10' shape=(None,) dtype=string>, 'diff_24h': <tf.Tensor 'IteratorGetNext:5' shape=(None,) dtype=float32>, 'diff_per_24h': <tf.Tensor 'IteratorGetNext:6' shape=(None,) dtype=float32>, 'bid': <tf.Tensor 'IteratorGetNext:1' shape=(None,) dtype=float32>, 'ask': <tf.Tensor 'IteratorGetNext:0' shape=(None,) dtype=float32>, 'low': <tf.Tensor 'IteratorGetNext:8' shape=(None,) dtype=float32>, 'high': <tf.Tensor 'IteratorGetNext:7' shape=(None,) dtype=float32>, 'volume': <tf.Tensor 'IteratorGetNext:12' shape=(None,) dtype=float32>, 'created_at': <tf.Tensor 'IteratorGetNext:2' shape=(None,) dtype=string>, 'updated_at': <tf.Tensor 'IteratorGetNext:11' shape=(None,) dtype=string>}. Consider rewriting this model with the Functional API.\n"
          ]
        },
        {
          "name": "stdout",
          "output_type": "stream",
          "text": [
            "251/251 [==============================] - 1s 2ms/step - loss: 0.0964 - root_mean_squared_error: 0.3105\n"
          ]
        },
        {
          "data": {
            "text/plain": [
              "[0.09641648083925247, 0.3105100393295288]"
            ]
          },
          "execution_count": 18,
          "metadata": {},
          "output_type": "execute_result"
        }
      ],
      "source": [
        "# The following variables are the hyperparameters.\n",
        "learning_rate = 0.04\n",
        "epochs = 35\n",
        "\n",
        "# Build the model, this time passing in the buckets_feature_layer.\n",
        "my_model = create_model(learning_rate, buckets_feature_layer)\n",
        "\n",
        "# Train the model on the training set.\n",
        "epochs, rmse = train_model(my_model, train_df, epochs, batch_size, label_name)\n",
        "\n",
        "plot_the_loss_curve(epochs, rmse)\n",
        "\n",
        "print(\"\\n: Evaluate the new model against the test set:\")\n",
        "my_model.evaluate(x=test_features, y=test_label, batch_size=batch_size)"
      ]
    },
    {
      "cell_type": "markdown",
      "metadata": {
        "id": "nQB8inRurGv7"
      },
      "source": [
        ">> now time for feature cross"
      ]
    },
    {
      "cell_type": "code",
      "execution_count": null,
      "metadata": {
        "id": "QKbomhnXq_gU"
      },
      "outputs": [],
      "source": [
        "resolution_in_degrees = 0.1\n",
        "\n",
        "# Create a new empty list that will eventually hold the generated feature column.\n",
        "feature_columns = []\n",
        "\n",
        "# Create a bucket feature column for bid.\n",
        "bid_as_a_numeric_column = tf.feature_column.numeric_column(\"bid\")\n",
        "bid_boundaries = list(np.arange(int(min(train_df['bid'])), \n",
        "                                     int(max(train_df['bid'])), \n",
        "                                     resolution_in_degrees))\n",
        "bid = tf.feature_column.bucketized_column(bid_as_a_numeric_column, \n",
        "                                               bid_boundaries)\n",
        "feature_columns.append(bid)\n",
        "\n",
        "\n",
        "# Create a bucket feature column for ask.\n",
        "ask_as_a_numeric_column = tf.feature_column.numeric_column(\"ask\")\n",
        "ask_boundaries = list(np.arange(int(min(train_df['ask'])), \n",
        "                                     int(max(train_df['ask'])), \n",
        "                                     resolution_in_degrees))\n",
        "ask = tf.feature_column.bucketized_column(ask_as_a_numeric_column, \n",
        "                                               ask_boundaries)\n",
        "feature_columns.append(ask)\n",
        "\n",
        "\n",
        "# Create a bucket feature column for diff_24h.\n",
        "diff_24h_as_a_numeric_column = tf.feature_column.numeric_column(\"diff_24h\")\n",
        "diff_24h_boundaries = list(np.arange(int(min(train_df['diff_24h'])), \n",
        "                                     int(max(train_df['diff_24h'])), \n",
        "                                     resolution_in_degrees))\n",
        "diff_24h = tf.feature_column.bucketized_column(diff_24h_as_a_numeric_column, \n",
        "                                              diff_24h_boundaries)\n",
        "feature_columns.append(diff_24h)\n",
        "\n",
        "\n",
        "# Create a bucket feature column for high.\n",
        "high_as_a_numeric_column = tf.feature_column.numeric_column(\"high\")\n",
        "high_boundaries = list(np.arange(int(min(train_df['high'])), \n",
        "                                     int(max(train_df['high'])), \n",
        "                                     resolution_in_degrees))\n",
        "high = tf.feature_column.bucketized_column(high_as_a_numeric_column, \n",
        "                                              high_boundaries)\n",
        "feature_columns.append(high)\n",
        "\n",
        "# Create a bucket feature column for volume.\n",
        "volume_as_a_numeric_column = tf.feature_column.numeric_column(\"volume\")\n",
        "volume_boundaries = list(np.arange(int(min(train_df['volume'])), \n",
        "                                     int(max(train_df['volume'])), \n",
        "                                     resolution_in_degrees))\n",
        "volume = tf.feature_column.bucketized_column(volume_as_a_numeric_column, \n",
        "                                              volume_boundaries)\n",
        "feature_columns.append(volume)\n",
        "\n",
        "# Create a feature cross of all fitures\n",
        "bid_x_ask_x_high_x_diff_24h_x_volume = tf.feature_column.crossed_column([bid, ask, high, diff_24h, volume], hash_bucket_size=100)\n",
        "crossed_feature = tf.feature_column.indicator_column(bid_x_ask_x_high_x_diff_24h_x_volume)\n",
        "feature_columns.append(crossed_feature)\n",
        "\n",
        "# Convert the list of feature columns into a layer that will later be fed into\n",
        "# the model. \n",
        "feature_cross_feature_layer = layers.DenseFeatures(feature_columns)"
      ]
    },
    {
      "cell_type": "code",
      "execution_count": null,
      "metadata": {
        "colab": {
          "base_uri": "https://localhost:8080/",
          "height": 1000
        },
        "id": "a2T3glouxRdH",
        "outputId": "9e30e1e0-b41e-4056-f43c-698df62fa767"
      },
      "outputs": [
        {
          "name": "stdout",
          "output_type": "stream",
          "text": [
            "Epoch 1/35\n",
            "WARNING:tensorflow:Layers in a Sequential model should only have a single input tensor. Received: inputs={'date_id': <tf.Tensor 'IteratorGetNext:3' shape=(None,) dtype=string>, 'datetime_id': <tf.Tensor 'IteratorGetNext:4' shape=(None,) dtype=string>, 'market': <tf.Tensor 'IteratorGetNext:9' shape=(None,) dtype=string>, 'rpt_key': <tf.Tensor 'IteratorGetNext:10' shape=(None,) dtype=string>, 'diff_24h': <tf.Tensor 'IteratorGetNext:5' shape=(None,) dtype=float32>, 'diff_per_24h': <tf.Tensor 'IteratorGetNext:6' shape=(None,) dtype=float32>, 'bid': <tf.Tensor 'IteratorGetNext:1' shape=(None,) dtype=float32>, 'ask': <tf.Tensor 'IteratorGetNext:0' shape=(None,) dtype=float32>, 'low': <tf.Tensor 'IteratorGetNext:8' shape=(None,) dtype=float32>, 'high': <tf.Tensor 'IteratorGetNext:7' shape=(None,) dtype=float32>, 'volume': <tf.Tensor 'IteratorGetNext:12' shape=(None,) dtype=float32>, 'created_at': <tf.Tensor 'IteratorGetNext:2' shape=(None,) dtype=string>, 'updated_at': <tf.Tensor 'IteratorGetNext:11' shape=(None,) dtype=string>}. Consider rewriting this model with the Functional API.\n"
          ]
        },
        {
          "name": "stderr",
          "output_type": "stream",
          "text": [
            "/usr/local/lib/python3.7/dist-packages/keras/optimizer_v2/rmsprop.py:130: UserWarning: The `lr` argument is deprecated, use `learning_rate` instead.\n",
            "  super(RMSprop, self).__init__(name, **kwargs)\n",
            "WARNING:tensorflow:Layers in a Sequential model should only have a single input tensor. Received: inputs={'date_id': <tf.Tensor 'IteratorGetNext:3' shape=(None,) dtype=string>, 'datetime_id': <tf.Tensor 'IteratorGetNext:4' shape=(None,) dtype=string>, 'market': <tf.Tensor 'IteratorGetNext:9' shape=(None,) dtype=string>, 'rpt_key': <tf.Tensor 'IteratorGetNext:10' shape=(None,) dtype=string>, 'diff_24h': <tf.Tensor 'IteratorGetNext:5' shape=(None,) dtype=float32>, 'diff_per_24h': <tf.Tensor 'IteratorGetNext:6' shape=(None,) dtype=float32>, 'bid': <tf.Tensor 'IteratorGetNext:1' shape=(None,) dtype=float32>, 'ask': <tf.Tensor 'IteratorGetNext:0' shape=(None,) dtype=float32>, 'low': <tf.Tensor 'IteratorGetNext:8' shape=(None,) dtype=float32>, 'high': <tf.Tensor 'IteratorGetNext:7' shape=(None,) dtype=float32>, 'volume': <tf.Tensor 'IteratorGetNext:12' shape=(None,) dtype=float32>, 'created_at': <tf.Tensor 'IteratorGetNext:2' shape=(None,) dtype=string>, 'updated_at': <tf.Tensor 'IteratorGetNext:11' shape=(None,) dtype=string>}. Consider rewriting this model with the Functional API.\n"
          ]
        },
        {
          "name": "stdout",
          "output_type": "stream",
          "text": [
            "WARNING:tensorflow:Layers in a Sequential model should only have a single input tensor. Received: inputs={'date_id': <tf.Tensor 'IteratorGetNext:3' shape=(None,) dtype=string>, 'datetime_id': <tf.Tensor 'IteratorGetNext:4' shape=(None,) dtype=string>, 'market': <tf.Tensor 'IteratorGetNext:9' shape=(None,) dtype=string>, 'rpt_key': <tf.Tensor 'IteratorGetNext:10' shape=(None,) dtype=string>, 'diff_24h': <tf.Tensor 'IteratorGetNext:5' shape=(None,) dtype=float32>, 'diff_per_24h': <tf.Tensor 'IteratorGetNext:6' shape=(None,) dtype=float32>, 'bid': <tf.Tensor 'IteratorGetNext:1' shape=(None,) dtype=float32>, 'ask': <tf.Tensor 'IteratorGetNext:0' shape=(None,) dtype=float32>, 'low': <tf.Tensor 'IteratorGetNext:8' shape=(None,) dtype=float32>, 'high': <tf.Tensor 'IteratorGetNext:7' shape=(None,) dtype=float32>, 'volume': <tf.Tensor 'IteratorGetNext:12' shape=(None,) dtype=float32>, 'created_at': <tf.Tensor 'IteratorGetNext:2' shape=(None,) dtype=string>, 'updated_at': <tf.Tensor 'IteratorGetNext:11' shape=(None,) dtype=string>}. Consider rewriting this model with the Functional API.\n"
          ]
        },
        {
          "name": "stderr",
          "output_type": "stream",
          "text": [
            "WARNING:tensorflow:Layers in a Sequential model should only have a single input tensor. Received: inputs={'date_id': <tf.Tensor 'IteratorGetNext:3' shape=(None,) dtype=string>, 'datetime_id': <tf.Tensor 'IteratorGetNext:4' shape=(None,) dtype=string>, 'market': <tf.Tensor 'IteratorGetNext:9' shape=(None,) dtype=string>, 'rpt_key': <tf.Tensor 'IteratorGetNext:10' shape=(None,) dtype=string>, 'diff_24h': <tf.Tensor 'IteratorGetNext:5' shape=(None,) dtype=float32>, 'diff_per_24h': <tf.Tensor 'IteratorGetNext:6' shape=(None,) dtype=float32>, 'bid': <tf.Tensor 'IteratorGetNext:1' shape=(None,) dtype=float32>, 'ask': <tf.Tensor 'IteratorGetNext:0' shape=(None,) dtype=float32>, 'low': <tf.Tensor 'IteratorGetNext:8' shape=(None,) dtype=float32>, 'high': <tf.Tensor 'IteratorGetNext:7' shape=(None,) dtype=float32>, 'volume': <tf.Tensor 'IteratorGetNext:12' shape=(None,) dtype=float32>, 'created_at': <tf.Tensor 'IteratorGetNext:2' shape=(None,) dtype=string>, 'updated_at': <tf.Tensor 'IteratorGetNext:11' shape=(None,) dtype=string>}. Consider rewriting this model with the Functional API.\n"
          ]
        },
        {
          "name": "stdout",
          "output_type": "stream",
          "text": [
            "1004/1004 [==============================] - 7s 6ms/step - loss: 0.0355 - root_mean_squared_error: 0.1885\n",
            "Epoch 2/35\n",
            "1004/1004 [==============================] - 6s 6ms/step - loss: 0.0205 - root_mean_squared_error: 0.1431\n",
            "Epoch 3/35\n",
            "1004/1004 [==============================] - 6s 6ms/step - loss: 0.0206 - root_mean_squared_error: 0.1434\n",
            "Epoch 4/35\n",
            "1004/1004 [==============================] - 6s 6ms/step - loss: 0.0206 - root_mean_squared_error: 0.1434\n",
            "Epoch 5/35\n",
            "1004/1004 [==============================] - 6s 6ms/step - loss: 0.0205 - root_mean_squared_error: 0.1432\n",
            "Epoch 6/35\n",
            "1004/1004 [==============================] - 6s 5ms/step - loss: 0.0205 - root_mean_squared_error: 0.1432\n",
            "Epoch 7/35\n",
            "1004/1004 [==============================] - 6s 6ms/step - loss: 0.0206 - root_mean_squared_error: 0.1434\n",
            "Epoch 8/35\n",
            "1004/1004 [==============================] - 6s 5ms/step - loss: 0.0205 - root_mean_squared_error: 0.1433\n",
            "Epoch 9/35\n",
            "1004/1004 [==============================] - 6s 6ms/step - loss: 0.0206 - root_mean_squared_error: 0.1435\n",
            "Epoch 10/35\n",
            "1004/1004 [==============================] - 6s 6ms/step - loss: 0.0206 - root_mean_squared_error: 0.1434\n",
            "Epoch 11/35\n",
            "1004/1004 [==============================] - 6s 6ms/step - loss: 0.0206 - root_mean_squared_error: 0.1436\n",
            "Epoch 12/35\n",
            "1004/1004 [==============================] - 6s 6ms/step - loss: 0.0204 - root_mean_squared_error: 0.1429\n",
            "Epoch 13/35\n",
            "1004/1004 [==============================] - 6s 6ms/step - loss: 0.0204 - root_mean_squared_error: 0.1427\n",
            "Epoch 14/35\n",
            "1004/1004 [==============================] - 7s 7ms/step - loss: 0.0205 - root_mean_squared_error: 0.1433\n",
            "Epoch 15/35\n",
            "1004/1004 [==============================] - 9s 9ms/step - loss: 0.0204 - root_mean_squared_error: 0.1429\n",
            "Epoch 16/35\n",
            "1004/1004 [==============================] - 6s 6ms/step - loss: 0.0206 - root_mean_squared_error: 0.1436\n",
            "Epoch 17/35\n",
            "1004/1004 [==============================] - 6s 6ms/step - loss: 0.0205 - root_mean_squared_error: 0.1432\n",
            "Epoch 18/35\n",
            "1004/1004 [==============================] - 6s 6ms/step - loss: 0.0205 - root_mean_squared_error: 0.1431\n",
            "Epoch 19/35\n",
            "1004/1004 [==============================] - 6s 6ms/step - loss: 0.0206 - root_mean_squared_error: 0.1435\n",
            "Epoch 20/35\n",
            "1004/1004 [==============================] - 6s 6ms/step - loss: 0.0205 - root_mean_squared_error: 0.1432\n",
            "Epoch 21/35\n",
            "1004/1004 [==============================] - 6s 6ms/step - loss: 0.0205 - root_mean_squared_error: 0.1433\n",
            "Epoch 22/35\n",
            "1004/1004 [==============================] - 6s 6ms/step - loss: 0.0206 - root_mean_squared_error: 0.1435\n",
            "Epoch 23/35\n",
            "1004/1004 [==============================] - 6s 6ms/step - loss: 0.0206 - root_mean_squared_error: 0.1437\n",
            "Epoch 24/35\n",
            "1004/1004 [==============================] - 6s 6ms/step - loss: 0.0205 - root_mean_squared_error: 0.1432\n",
            "Epoch 25/35\n",
            "1004/1004 [==============================] - 6s 6ms/step - loss: 0.0206 - root_mean_squared_error: 0.1434\n",
            "Epoch 26/35\n",
            "1004/1004 [==============================] - 6s 6ms/step - loss: 0.0205 - root_mean_squared_error: 0.1430\n",
            "Epoch 27/35\n",
            "1004/1004 [==============================] - 6s 6ms/step - loss: 0.0205 - root_mean_squared_error: 0.1433\n",
            "Epoch 28/35\n",
            "1004/1004 [==============================] - 6s 6ms/step - loss: 0.0205 - root_mean_squared_error: 0.1433\n",
            "Epoch 29/35\n",
            "1004/1004 [==============================] - 6s 6ms/step - loss: 0.0205 - root_mean_squared_error: 0.1432\n",
            "Epoch 30/35\n",
            "1004/1004 [==============================] - 6s 6ms/step - loss: 0.0205 - root_mean_squared_error: 0.1430\n",
            "Epoch 31/35\n",
            "1004/1004 [==============================] - 6s 6ms/step - loss: 0.0206 - root_mean_squared_error: 0.1437\n",
            "Epoch 32/35\n",
            "1004/1004 [==============================] - 6s 6ms/step - loss: 0.0204 - root_mean_squared_error: 0.1430\n",
            "Epoch 33/35\n",
            "1004/1004 [==============================] - 6s 6ms/step - loss: 0.0205 - root_mean_squared_error: 0.1431\n",
            "Epoch 34/35\n",
            "1004/1004 [==============================] - 6s 6ms/step - loss: 0.0206 - root_mean_squared_error: 0.1435\n",
            "Epoch 35/35\n",
            "1004/1004 [==============================] - 6s 6ms/step - loss: 0.0205 - root_mean_squared_error: 0.1433\n"
          ]
        },
        {
          "data": {
            "image/png": "[encoded data removed]",
            "text/plain": [
              "<Figure size 432x288 with 1 Axes>"
            ]
          },
          "metadata": {},
          "output_type": "display_data"
        },
        {
          "name": "stdout",
          "output_type": "stream",
          "text": [
            "\n",
            ": Evaluate the new model against the test set:\n",
            "WARNING:tensorflow:Layers in a Sequential model should only have a single input tensor. Received: inputs={'date_id': <tf.Tensor 'IteratorGetNext:3' shape=(None,) dtype=string>, 'datetime_id': <tf.Tensor 'IteratorGetNext:4' shape=(None,) dtype=string>, 'market': <tf.Tensor 'IteratorGetNext:9' shape=(None,) dtype=string>, 'rpt_key': <tf.Tensor 'IteratorGetNext:10' shape=(None,) dtype=string>, 'diff_24h': <tf.Tensor 'IteratorGetNext:5' shape=(None,) dtype=float32>, 'diff_per_24h': <tf.Tensor 'IteratorGetNext:6' shape=(None,) dtype=float32>, 'bid': <tf.Tensor 'IteratorGetNext:1' shape=(None,) dtype=float32>, 'ask': <tf.Tensor 'IteratorGetNext:0' shape=(None,) dtype=float32>, 'low': <tf.Tensor 'IteratorGetNext:8' shape=(None,) dtype=float32>, 'high': <tf.Tensor 'IteratorGetNext:7' shape=(None,) dtype=float32>, 'volume': <tf.Tensor 'IteratorGetNext:12' shape=(None,) dtype=float32>, 'created_at': <tf.Tensor 'IteratorGetNext:2' shape=(None,) dtype=string>, 'updated_at': <tf.Tensor 'IteratorGetNext:11' shape=(None,) dtype=string>}. Consider rewriting this model with the Functional API.\n"
          ]
        },
        {
          "name": "stderr",
          "output_type": "stream",
          "text": [
            "WARNING:tensorflow:Layers in a Sequential model should only have a single input tensor. Received: inputs={'date_id': <tf.Tensor 'IteratorGetNext:3' shape=(None,) dtype=string>, 'datetime_id': <tf.Tensor 'IteratorGetNext:4' shape=(None,) dtype=string>, 'market': <tf.Tensor 'IteratorGetNext:9' shape=(None,) dtype=string>, 'rpt_key': <tf.Tensor 'IteratorGetNext:10' shape=(None,) dtype=string>, 'diff_24h': <tf.Tensor 'IteratorGetNext:5' shape=(None,) dtype=float32>, 'diff_per_24h': <tf.Tensor 'IteratorGetNext:6' shape=(None,) dtype=float32>, 'bid': <tf.Tensor 'IteratorGetNext:1' shape=(None,) dtype=float32>, 'ask': <tf.Tensor 'IteratorGetNext:0' shape=(None,) dtype=float32>, 'low': <tf.Tensor 'IteratorGetNext:8' shape=(None,) dtype=float32>, 'high': <tf.Tensor 'IteratorGetNext:7' shape=(None,) dtype=float32>, 'volume': <tf.Tensor 'IteratorGetNext:12' shape=(None,) dtype=float32>, 'created_at': <tf.Tensor 'IteratorGetNext:2' shape=(None,) dtype=string>, 'updated_at': <tf.Tensor 'IteratorGetNext:11' shape=(None,) dtype=string>}. Consider rewriting this model with the Functional API.\n"
          ]
        },
        {
          "name": "stdout",
          "output_type": "stream",
          "text": [
            "251/251 [==============================] - 1s 3ms/step - loss: 0.0438 - root_mean_squared_error: 0.2094\n"
          ]
        },
        {
          "data": {
            "text/plain": [
              "[0.04384041205048561, 0.20938101410865784]"
            ]
          },
          "execution_count": 16,
          "metadata": {},
          "output_type": "execute_result"
        }
      ],
      "source": [
        "# The following variables are the hyperparameters.\n",
        "learning_rate = 0.04\n",
        "epochs = 35\n",
        "\n",
        "# Build the model, this time passing in the feature_cross_feature_layer: \n",
        "my_model = create_model(learning_rate, feature_cross_feature_layer)\n",
        "\n",
        "# Train the model on the training set.\n",
        "epochs, rmse = train_model(my_model, train_df, epochs, batch_size, label_name)\n",
        "\n",
        "plot_the_loss_curve(epochs, rmse)\n",
        "\n",
        "print(\"\\n: Evaluate the new model against the test set:\")\n",
        "my_model.evaluate(x=test_features, y=test_label, batch_size=batch_size)"
      ]
    }
  ],
  "metadata": {
    "colab": {
      "collapsed_sections": [],
      "name": "btc_predictor_no2.ipynb",
      "provenance": []
    },
    "kernelspec": {
      "display_name": "Python 3",
      "name": "python3"
    },
    "language_info": {
      "name": "python"
    }
  },
  "nbformat": 4,
  "nbformat_minor": 0
}