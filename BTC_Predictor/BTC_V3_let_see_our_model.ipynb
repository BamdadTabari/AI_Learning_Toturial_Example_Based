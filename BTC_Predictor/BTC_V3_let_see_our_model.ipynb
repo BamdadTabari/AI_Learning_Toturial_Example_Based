{
  "nbformat": 4,
  "nbformat_minor": 0,
  "metadata": {
    "colab": {
      "name": "BTC_V3_let_see_our_model.ipynb",
      "provenance": [],
      "collapsed_sections": []
    },
    "kernelspec": {
      "name": "python3",
      "display_name": "Python 3"
    },
    "language_info": {
      "name": "python"
    }
  },
  "cells": [
    {
      "cell_type": "markdown",
      "source": [
        "# What is this?\n",
        "in this part I gonna see how much my model doing well. \n",
        "\n",
        "we learn here how to normalize our data, add layer to our model.\n",
        "\n",
        "check model characteristic measurments like \"RecaLL\"\n",
        "\n",
        "And more important is that we finally see binary classification in action"
      ],
      "metadata": {
        "id": "WGmWKa7a35fq"
      }
    },
    {
      "cell_type": "code",
      "source": [
        "#@title Run on TensorFlow 2.x\n",
        "%tensorflow_version 2.x"
      ],
      "metadata": {
        "colab": {
          "base_uri": "https://localhost:8080/"
        },
        "id": "19HTv1bs4dZ3",
        "outputId": "50e8f47d-f079-4e25-f04e-b63502d6462a"
      },
      "execution_count": null,
      "outputs": [
        {
          "output_type": "stream",
          "name": "stdout",
          "text": [
            "Colab only includes TensorFlow 2.x; %tensorflow_version has no effect.\n"
          ]
        }
      ]
    },
    {
      "cell_type": "code",
      "source": [
        "#  Import libs that we need /  be sure you read a bit about them\n",
        "\n",
        "\n",
        "import numpy as np\n",
        "import pandas as pd\n",
        "import tensorflow as tf\n",
        "from tensorflow.keras import layers\n",
        "from matplotlib import pyplot as plt\n",
        "\n",
        "# these are pandas configs\n",
        "# The following lines adjust the granularity of reporting.\n",
        "pd.options.display.max_rows = 10\n",
        "pd.options.display.float_format = \"{:.1f}\".format\n",
        "\n",
        "# nothing to attention. just config keras float data type\n",
        "tf.keras.backend.set_floatx('float32')"
      ],
      "metadata": {
        "id": "bS09ooY24mov"
      },
      "execution_count": null,
      "outputs": []
    },
    {
      "cell_type": "code",
      "source": [
        "# like last verions we just get our row data from csv/  you can download it from my repo\n",
        "\n",
        "# get all data\n",
        "data_frame = pd.read_csv(\"/content/drive/MyDrive/bitcoin_ticker.csv\")\n",
        " # shuffle the data_frame before doing anything\n",
        "data_frame = data_frame.reindex(np.random.permutation(data_frame.index))\n",
        "# get btc data\n",
        "data_frame = data_frame.loc[(data_frame['rpt_key'] == 'btc_usd')]\n",
        "# in next version we dont delete this columns at all. we del these here just to be simple for now\n",
        "del data_frame[\"datetime_id\"]\n",
        "del data_frame[\"date_id\"]\n",
        "del data_frame[\"created_at\"]\n",
        "del data_frame[\"updated_at\"]\n",
        "del data_frame[\"market\"]\n",
        "del data_frame[\"rpt_key\"]\n",
        "#  a big BUUUUT : we are not gonna use scale factor  we just gonna use z-score you will see\n",
        "# first let me build train and test dataset\n",
        "# build train data frame and test data frame\n",
        "train_last_index = int(len(data_frame) * 0.80)\n",
        "train_df, test_df = data_frame.iloc[0:train_last_index], data_frame.iloc[train_last_index:len(data_frame) + 1] # i just add +1 to make sure wont get anny train data in test data\n",
        " # shuffle the train_df after doing sepration\n",
        "train_df = train_df.reindex(np.random.permutation(train_df.index))\n",
        "train_df.head()"
      ],
      "metadata": {
        "id": "umyYcpF85l5K",
        "colab": {
          "base_uri": "https://localhost:8080/",
          "height": 206
        },
        "outputId": "f772e422-17e6-4e81-d7f5-1b1ba80f0ca2"
      },
      "execution_count": null,
      "outputs": [
        {
          "output_type": "execute_result",
          "data": {
            "text/plain": [
              "         last  diff_24h  diff_per_24h    bid    ask    low   high  volume\n",
              "410644 2653.0    2608.6           1.7 2653.0 2659.4 2576.0 2750.0  1009.3\n",
              "154864 3006.2    2878.3           4.4 3004.9 3008.0 2880.0 3048.0  2825.2\n",
              "86444  2960.1    2747.3           7.7 2960.2 2963.1 2684.3 3095.0  3990.6\n",
              "1534   2403.4    2239.0           7.3 2403.4 2403.9 2129.8 2423.0  5136.5\n",
              "497543 2548.0    2616.5          -2.6 2544.5 2548.0 2540.0 2639.5 10450.3"
            ],
            "text/html": [
              "\n",
              "  <div id=\"df-ec4f0c06-0d80-415a-bec1-a0a68dbf0e51\">\n",
              "    <div class=\"colab-df-container\">\n",
              "      <div>\n",
              "<style scoped>\n",
              "    .dataframe tbody tr th:only-of-type {\n",
              "        vertical-align: middle;\n",
              "    }\n",
              "\n",
              "    .dataframe tbody tr th {\n",
              "        vertical-align: top;\n",
              "    }\n",
              "\n",
              "    .dataframe thead th {\n",
              "        text-align: right;\n",
              "    }\n",
              "</style>\n",
              "<table border=\"1\" class=\"dataframe\">\n",
              "  <thead>\n",
              "    <tr style=\"text-align: right;\">\n",
              "      <th></th>\n",
              "      <th>last</th>\n",
              "      <th>diff_24h</th>\n",
              "      <th>diff_per_24h</th>\n",
              "      <th>bid</th>\n",
              "      <th>ask</th>\n",
              "      <th>low</th>\n",
              "      <th>high</th>\n",
              "      <th>volume</th>\n",
              "    </tr>\n",
              "  </thead>\n",
              "  <tbody>\n",
              "    <tr>\n",
              "      <th>410644</th>\n",
              "      <td>2653.0</td>\n",
              "      <td>2608.6</td>\n",
              "      <td>1.7</td>\n",
              "      <td>2653.0</td>\n",
              "      <td>2659.4</td>\n",
              "      <td>2576.0</td>\n",
              "      <td>2750.0</td>\n",
              "      <td>1009.3</td>\n",
              "    </tr>\n",
              "    <tr>\n",
              "      <th>154864</th>\n",
              "      <td>3006.2</td>\n",
              "      <td>2878.3</td>\n",
              "      <td>4.4</td>\n",
              "      <td>3004.9</td>\n",
              "      <td>3008.0</td>\n",
              "      <td>2880.0</td>\n",
              "      <td>3048.0</td>\n",
              "      <td>2825.2</td>\n",
              "    </tr>\n",
              "    <tr>\n",
              "      <th>86444</th>\n",
              "      <td>2960.1</td>\n",
              "      <td>2747.3</td>\n",
              "      <td>7.7</td>\n",
              "      <td>2960.2</td>\n",
              "      <td>2963.1</td>\n",
              "      <td>2684.3</td>\n",
              "      <td>3095.0</td>\n",
              "      <td>3990.6</td>\n",
              "    </tr>\n",
              "    <tr>\n",
              "      <th>1534</th>\n",
              "      <td>2403.4</td>\n",
              "      <td>2239.0</td>\n",
              "      <td>7.3</td>\n",
              "      <td>2403.4</td>\n",
              "      <td>2403.9</td>\n",
              "      <td>2129.8</td>\n",
              "      <td>2423.0</td>\n",
              "      <td>5136.5</td>\n",
              "    </tr>\n",
              "    <tr>\n",
              "      <th>497543</th>\n",
              "      <td>2548.0</td>\n",
              "      <td>2616.5</td>\n",
              "      <td>-2.6</td>\n",
              "      <td>2544.5</td>\n",
              "      <td>2548.0</td>\n",
              "      <td>2540.0</td>\n",
              "      <td>2639.5</td>\n",
              "      <td>10450.3</td>\n",
              "    </tr>\n",
              "  </tbody>\n",
              "</table>\n",
              "</div>\n",
              "      <button class=\"colab-df-convert\" onclick=\"convertToInteractive('df-ec4f0c06-0d80-415a-bec1-a0a68dbf0e51')\"\n",
              "              title=\"Convert this dataframe to an interactive table.\"\n",
              "              style=\"display:none;\">\n",
              "        \n",
              "  <svg xmlns=\"http://www.w3.org/2000/svg\" height=\"24px\"viewBox=\"0 0 24 24\"\n",
              "       width=\"24px\">\n",
              "    <path d=\"M0 0h24v24H0V0z\" fill=\"none\"/>\n",
              "    <path d=\"M18.56 5.44l.94 2.06.94-2.06 2.06-.94-2.06-.94-.94-2.06-.94 2.06-2.06.94zm-11 1L8.5 8.5l.94-2.06 2.06-.94-2.06-.94L8.5 2.5l-.94 2.06-2.06.94zm10 10l.94 2.06.94-2.06 2.06-.94-2.06-.94-.94-2.06-.94 2.06-2.06.94z\"/><path d=\"M17.41 7.96l-1.37-1.37c-.4-.4-.92-.59-1.43-.59-.52 0-1.04.2-1.43.59L10.3 9.45l-7.72 7.72c-.78.78-.78 2.05 0 2.83L4 21.41c.39.39.9.59 1.41.59.51 0 1.02-.2 1.41-.59l7.78-7.78 2.81-2.81c.8-.78.8-2.07 0-2.86zM5.41 20L4 18.59l7.72-7.72 1.47 1.35L5.41 20z\"/>\n",
              "  </svg>\n",
              "      </button>\n",
              "      \n",
              "  <style>\n",
              "    .colab-df-container {\n",
              "      display:flex;\n",
              "      flex-wrap:wrap;\n",
              "      gap: 12px;\n",
              "    }\n",
              "\n",
              "    .colab-df-convert {\n",
              "      background-color: #E8F0FE;\n",
              "      border: none;\n",
              "      border-radius: 50%;\n",
              "      cursor: pointer;\n",
              "      display: none;\n",
              "      fill: #1967D2;\n",
              "      height: 32px;\n",
              "      padding: 0 0 0 0;\n",
              "      width: 32px;\n",
              "    }\n",
              "\n",
              "    .colab-df-convert:hover {\n",
              "      background-color: #E2EBFA;\n",
              "      box-shadow: 0px 1px 2px rgba(60, 64, 67, 0.3), 0px 1px 3px 1px rgba(60, 64, 67, 0.15);\n",
              "      fill: #174EA6;\n",
              "    }\n",
              "\n",
              "    [theme=dark] .colab-df-convert {\n",
              "      background-color: #3B4455;\n",
              "      fill: #D2E3FC;\n",
              "    }\n",
              "\n",
              "    [theme=dark] .colab-df-convert:hover {\n",
              "      background-color: #434B5C;\n",
              "      box-shadow: 0px 1px 3px 1px rgba(0, 0, 0, 0.15);\n",
              "      filter: drop-shadow(0px 1px 2px rgba(0, 0, 0, 0.3));\n",
              "      fill: #FFFFFF;\n",
              "    }\n",
              "  </style>\n",
              "\n",
              "      <script>\n",
              "        const buttonEl =\n",
              "          document.querySelector('#df-ec4f0c06-0d80-415a-bec1-a0a68dbf0e51 button.colab-df-convert');\n",
              "        buttonEl.style.display =\n",
              "          google.colab.kernel.accessAllowed ? 'block' : 'none';\n",
              "\n",
              "        async function convertToInteractive(key) {\n",
              "          const element = document.querySelector('#df-ec4f0c06-0d80-415a-bec1-a0a68dbf0e51');\n",
              "          const dataTable =\n",
              "            await google.colab.kernel.invokeFunction('convertToInteractive',\n",
              "                                                     [key], {});\n",
              "          if (!dataTable) return;\n",
              "\n",
              "          const docLinkHtml = 'Like what you see? Visit the ' +\n",
              "            '<a target=\"_blank\" href=https://colab.research.google.com/notebooks/data_table.ipynb>data table notebook</a>'\n",
              "            + ' to learn more about interactive tables.';\n",
              "          element.innerHTML = '';\n",
              "          dataTable['output_type'] = 'display_data';\n",
              "          await google.colab.output.renderOutput(dataTable, element);\n",
              "          const docLink = document.createElement('div');\n",
              "          docLink.innerHTML = docLinkHtml;\n",
              "          element.appendChild(docLink);\n",
              "        }\n",
              "      </script>\n",
              "    </div>\n",
              "  </div>\n",
              "  "
            ]
          },
          "metadata": {},
          "execution_count": 16
        }
      ]
    },
    {
      "cell_type": "markdown",
      "source": [
        "#SO What is the z-score that i call it \"Big But\" loudly \n",
        "\n",
        "z-score convert our mutiple ranged data. to a flat and goodboy data\n",
        "so we can use it easily. more than you think.\n",
        "\n",
        "# we call it normalization babe"
      ],
      "metadata": {
        "id": "-tMTZZA08RxU"
      }
    },
    {
      "cell_type": "code",
      "source": [
        "# Calculate the Z-scores of each column in the training set and\n",
        "# write those Z-scores into a new pandas DataFrame named train_df_norm.\n",
        "train_df_mean = train_df.mean()\n",
        "train_df_std = train_df.std()\n",
        "train_df_norm = (train_df - train_df_mean)/train_df_std\n",
        "\n",
        "# Calculate the Z-scores of each column in the test set and\n",
        "# write those Z-scores into a new pandas DataFrame named test_df_norm.\n",
        "test_df_mean = test_df.mean()\n",
        "test_df_std  = test_df.std()\n",
        "test_df_norm = (test_df - test_df_mean)/test_df_std"
      ],
      "metadata": {
        "id": "3u894dgL9VFD"
      },
      "execution_count": null,
      "outputs": []
    },
    {
      "cell_type": "markdown",
      "source": [
        "so here. we just put a condition:\n",
        "if tht \"last\" price value is greather than 2300 we add  \"last_value_is_high\" as a boolean type and set it to 1 ( true ) / else we set this new column value to 0 ( false )"
      ],
      "metadata": {
        "id": "Q4OjEPBaGR29"
      }
    },
    {
      "cell_type": "code",
      "source": [
        "# We arbitrarily set the threshold to 2300, which is \n",
        "# the 80th percentile for btc last value.  Every neighborhood\n",
        "# with a last price above 2300 will be labeled 1, \n",
        "# and all other neighborhoods will be labeled 0.\n",
        "threshold = 2500\n",
        "train_df_norm[\"last_value_is_high\"] = (train_df[\"last\"] > threshold).astype(float)\n",
        "test_df_norm[\"last_value_is_high\"] = (test_df[\"last\"] > threshold).astype(float) "
      ],
      "metadata": {
        "id": "36C4y4feq-UT"
      },
      "execution_count": null,
      "outputs": []
    },
    {
      "cell_type": "markdown",
      "source": [
        "This code cell specifies the features that you'll ultimately train the model on and how each of those features will be represented. The transformations (collected in feature_layer) don't actually get applied until you pass a DataFrame to it, which will happen when we train the model.\n",
        "( i just copied this code cell and use its own definition to descripe the code job )"
      ],
      "metadata": {
        "id": "ZaiDAoZ4Hxt_"
      }
    },
    {
      "cell_type": "code",
      "source": [
        "# Create an empty list that will eventually hold all created feature columns.\n",
        "feature_columns = []\n",
        "\n",
        "diff24h = tf.feature_column.numeric_column(\"diff_24h\")\n",
        "feature_columns.append(diff24h)\n",
        "\n",
        "bid = tf.feature_column.numeric_column(\"bid\")\n",
        "feature_columns.append(bid)\n",
        "\n",
        "ask = tf.feature_column.numeric_column(\"ask\")\n",
        "feature_columns.append(ask)\n",
        "\n",
        "low = tf.feature_column.numeric_column(\"low\")\n",
        "feature_columns.append(low)\n",
        "\n",
        "high = tf.feature_column.numeric_column(\"high\")\n",
        "feature_columns.append(high)\n",
        "\n",
        "volume = tf.feature_column.numeric_column(\"volume\")\n",
        "feature_columns.append(volume)\n",
        "\n",
        "# add feature  columns as layers for our model\n",
        "feature_layer = layers.DenseFeatures(feature_columns)\n",
        "\n",
        "# Print the first 3 and last 3 rows of the feature_layer's output when applied\n",
        "# to train_df_norm:\n",
        "feature_layer(dict(train_df_norm))"
      ],
      "metadata": {
        "colab": {
          "base_uri": "https://localhost:8080/"
        },
        "id": "WNGNa2pkGK1y",
        "outputId": "3870fc8d-a594-4b87-dabc-f9a0868c5928"
      },
      "execution_count": null,
      "outputs": [
        {
          "output_type": "execute_result",
          "data": {
            "text/plain": [
              "<tf.Tensor: shape=(100350, 6), dtype=float32, numpy=\n",
              "array([[ 0.16593446,  0.15368643, -0.107728  ,  0.18057564,  0.25963303,\n",
              "        -0.99059397],\n",
              "       [ 2.3348088 ,  2.3306978 ,  1.4879903 ,  1.9626656 ,  2.2901564 ,\n",
              "        -0.71966565],\n",
              "       [ 2.0553696 ,  2.0541174 ,  0.71290344,  2.2437334 ,  0.9828304 ,\n",
              "        -0.5457932 ],\n",
              "       ...,\n",
              "       [-0.77243644, -0.7617323 , -1.1935238 , -1.1427158 , -0.85224867,\n",
              "        -0.02429852],\n",
              "       [ 0.3942272 ,  0.30450347,  0.3422766 , -0.07830582,  0.28628454,\n",
              "        -0.94462556],\n",
              "       [ 0.31140965,  0.33531025,  0.32814002,  0.62304825,  0.6908663 ,\n",
              "        -0.7554366 ]], dtype=float32)>"
            ]
          },
          "metadata": {},
          "execution_count": 19
        }
      ]
    },
    {
      "cell_type": "markdown",
      "source": [
        ">> and like last two train we define our function. but with a little difference.\n",
        "check and find it !"
      ],
      "metadata": {
        "id": "K9TCgoUPgUqZ"
      }
    },
    {
      "cell_type": "code",
      "source": [
        "def create_model(my_learning_rate, feature_layer, my_metrics):\n",
        "  \"\"\"Create and compile a simple classification model.\"\"\"\n",
        "  # Most simple tf.keras models are sequential.\n",
        "  model = tf.keras.models.Sequential()\n",
        "\n",
        "  # Add the feature layer (the list of features and how they are represented)\n",
        "  # to the model.\n",
        "  model.add(feature_layer)\n",
        "\n",
        "  # Funnel the regression value through a sigmoid function.\n",
        "  model.add(tf.keras.layers.Dense(units=1, input_shape=(1,),\n",
        "                                  activation=tf.sigmoid),)\n",
        "\n",
        "  # Call the compile method to construct the layers into a model that\n",
        "  # TensorFlow can execute.  Notice that we're using a different loss\n",
        "  # function for classification than for regression. => \"BinaryCrossentropy\"   \n",
        "  model.compile(optimizer=tf.keras.optimizers.RMSprop(lr=my_learning_rate),                                                   \n",
        "                loss=tf.keras.losses.BinaryCrossentropy(),\n",
        "                metrics=my_metrics)\n",
        "\n",
        "  return model        \n",
        "\n",
        "\n",
        "def train_model(model, dataset, epochs, label_name,\n",
        "                batch_size=None, shuffle=True):\n",
        "  \"\"\"Feed a dataset into the model in order to train it.\"\"\"\n",
        "\n",
        "  # The x parameter of tf.keras.Model.fit can be a list of arrays, where\n",
        "  # each array contains the data for one feature.  Here, we're passing\n",
        "  # every column in the dataset. Note that the feature_layer will filter\n",
        "  # away most of those columns, leaving only the desired columns and their\n",
        "  # representations as features.\n",
        "  features = {name:np.array(value) for name, value in dataset.items()}\n",
        "  label = np.array(features.pop(label_name)) \n",
        "  history = model.fit(x=features, y=label, batch_size=batch_size,\n",
        "                      epochs=epochs, shuffle=shuffle)\n",
        "  \n",
        "  # The list of epochs is stored separately from the rest of history.\n",
        "  epochs = history.epoch\n",
        "\n",
        "  # Isolate the classification metric for each epoch.\n",
        "  hist = pd.DataFrame(history.history)\n",
        "\n",
        "  return epochs, hist  "
      ],
      "metadata": {
        "id": "hZAguP0vg0yI"
      },
      "execution_count": null,
      "outputs": []
    },
    {
      "cell_type": "markdown",
      "source": [
        ">> like past we define our plot functions"
      ],
      "metadata": {
        "id": "Bvb3mjpxhxRH"
      }
    },
    {
      "cell_type": "code",
      "source": [
        "def plot_curve(epochs, hist, list_of_metrics):\n",
        "  \"\"\"Plot a curve of one or more classification metrics vs. epoch.\"\"\"  \n",
        "  # list_of_metrics should be one of the names shown in:\n",
        "  # https://www.tensorflow.org/tutorials/structured_data/imbalanced_data#define_the_model_and_metrics  \n",
        "\n",
        "  plt.figure()\n",
        "  plt.xlabel(\"Epoch\")\n",
        "  plt.ylabel(\"Value\")\n",
        "\n",
        "  for m in list_of_metrics:\n",
        "    x = hist[m]\n",
        "    plt.plot(epochs[1:], x[1:], label=m)\n",
        "\n",
        "  plt.legend()"
      ],
      "metadata": {
        "id": "VHOd7CElh7Td"
      },
      "execution_count": null,
      "outputs": []
    },
    {
      "cell_type": "markdown",
      "source": [
        " copied purely from google source:\n",
        "# Invoke the creating, training, and plotting functions\n",
        "The following code cell calls specify the hyperparameters, and then invokes the functions to create and train the model, and then to plot the results.\n",
        "\n",
        "=====================================================================\n",
        "#  this  Part we calculate our model accuracy / make sure you read about that"
      ],
      "metadata": {
        "id": "kX6ksYviiIYY"
      }
    },
    {
      "cell_type": "code",
      "source": [
        "\n",
        "\n",
        "# The following variables are the hyperparameters.\n",
        "learning_rate = 0.001\n",
        "epochs = 20\n",
        "batch_size = 100\n",
        "label_name = \"last_value_is_high\"\n",
        "classification_threshold = 0.35\n",
        "\n",
        "# Establish the metrics the model will measure.\n",
        "METRICS = [\n",
        "           tf.keras.metrics.BinaryAccuracy(name='accuracy', \n",
        "                                           threshold=classification_threshold),\n",
        "          ]\n",
        "\n",
        "# Establish the model's topography.\n",
        "my_model = create_model(learning_rate, feature_layer, METRICS)\n",
        "\n",
        "# Train the model on the training set.\n",
        "epochs, hist = train_model(my_model, train_df_norm, epochs, \n",
        "                           label_name, batch_size)\n",
        "\n",
        "# Plot a graph of the metric(s) vs. epochs.\n",
        "list_of_metrics_to_plot = ['accuracy'] \n",
        "\n",
        "plot_curve(epochs, hist, list_of_metrics_to_plot)"
      ],
      "metadata": {
        "colab": {
          "base_uri": "https://localhost:8080/",
          "height": 1000
        },
        "id": "3MKNGbE-iX-4",
        "outputId": "a6ad4c16-286a-4770-e51a-ed210fb082c5"
      },
      "execution_count": null,
      "outputs": [
        {
          "output_type": "stream",
          "name": "stdout",
          "text": [
            "Epoch 1/20\n"
          ]
        },
        {
          "output_type": "stream",
          "name": "stderr",
          "text": [
            "/usr/local/lib/python3.7/dist-packages/keras/optimizer_v2/rmsprop.py:130: UserWarning: The `lr` argument is deprecated, use `learning_rate` instead.\n",
            "  super(RMSprop, self).__init__(name, **kwargs)\n",
            "WARNING:tensorflow:Layers in a Sequential model should only have a single input tensor. Received: inputs={'last': <tf.Tensor 'IteratorGetNext:5' shape=(None,) dtype=float32>, 'diff_24h': <tf.Tensor 'IteratorGetNext:2' shape=(None,) dtype=float32>, 'diff_per_24h': <tf.Tensor 'IteratorGetNext:3' shape=(None,) dtype=float32>, 'bid': <tf.Tensor 'IteratorGetNext:1' shape=(None,) dtype=float32>, 'ask': <tf.Tensor 'IteratorGetNext:0' shape=(None,) dtype=float32>, 'low': <tf.Tensor 'IteratorGetNext:6' shape=(None,) dtype=float32>, 'high': <tf.Tensor 'IteratorGetNext:4' shape=(None,) dtype=float32>, 'volume': <tf.Tensor 'IteratorGetNext:7' shape=(None,) dtype=float32>}. Consider rewriting this model with the Functional API.\n",
            "WARNING:tensorflow:Layers in a Sequential model should only have a single input tensor. Received: inputs={'last': <tf.Tensor 'IteratorGetNext:5' shape=(None,) dtype=float32>, 'diff_24h': <tf.Tensor 'IteratorGetNext:2' shape=(None,) dtype=float32>, 'diff_per_24h': <tf.Tensor 'IteratorGetNext:3' shape=(None,) dtype=float32>, 'bid': <tf.Tensor 'IteratorGetNext:1' shape=(None,) dtype=float32>, 'ask': <tf.Tensor 'IteratorGetNext:0' shape=(None,) dtype=float32>, 'low': <tf.Tensor 'IteratorGetNext:6' shape=(None,) dtype=float32>, 'high': <tf.Tensor 'IteratorGetNext:4' shape=(None,) dtype=float32>, 'volume': <tf.Tensor 'IteratorGetNext:7' shape=(None,) dtype=float32>}. Consider rewriting this model with the Functional API.\n"
          ]
        },
        {
          "output_type": "stream",
          "name": "stdout",
          "text": [
            "1004/1004 [==============================] - 2s 2ms/step - loss: 0.3483 - accuracy: 0.9339\n",
            "Epoch 2/20\n",
            "1004/1004 [==============================] - 2s 2ms/step - loss: 0.2110 - accuracy: 0.9562\n",
            "Epoch 3/20\n",
            "1004/1004 [==============================] - 2s 2ms/step - loss: 0.1505 - accuracy: 0.9628\n",
            "Epoch 4/20\n",
            "1004/1004 [==============================] - 2s 2ms/step - loss: 0.1202 - accuracy: 0.9719\n",
            "Epoch 5/20\n",
            "1004/1004 [==============================] - 2s 2ms/step - loss: 0.1027 - accuracy: 0.9748\n",
            "Epoch 6/20\n",
            "1004/1004 [==============================] - 2s 2ms/step - loss: 0.0914 - accuracy: 0.9768\n",
            "Epoch 7/20\n",
            "1004/1004 [==============================] - 2s 2ms/step - loss: 0.0833 - accuracy: 0.9783\n",
            "Epoch 8/20\n",
            "1004/1004 [==============================] - 2s 2ms/step - loss: 0.0771 - accuracy: 0.9796\n",
            "Epoch 9/20\n",
            "1004/1004 [==============================] - 2s 2ms/step - loss: 0.0721 - accuracy: 0.9804\n",
            "Epoch 10/20\n",
            "1004/1004 [==============================] - 2s 2ms/step - loss: 0.0682 - accuracy: 0.9814\n",
            "Epoch 11/20\n",
            "1004/1004 [==============================] - 2s 2ms/step - loss: 0.0649 - accuracy: 0.9822\n",
            "Epoch 12/20\n",
            "1004/1004 [==============================] - 2s 2ms/step - loss: 0.0622 - accuracy: 0.9828\n",
            "Epoch 13/20\n",
            "1004/1004 [==============================] - 2s 2ms/step - loss: 0.0598 - accuracy: 0.9833\n",
            "Epoch 14/20\n",
            "1004/1004 [==============================] - 2s 2ms/step - loss: 0.0577 - accuracy: 0.9839\n",
            "Epoch 15/20\n",
            "1004/1004 [==============================] - 2s 2ms/step - loss: 0.0559 - accuracy: 0.9844\n",
            "Epoch 16/20\n",
            "1004/1004 [==============================] - 2s 2ms/step - loss: 0.0543 - accuracy: 0.9847\n",
            "Epoch 17/20\n",
            "1004/1004 [==============================] - 2s 2ms/step - loss: 0.0528 - accuracy: 0.9851\n",
            "Epoch 18/20\n",
            "1004/1004 [==============================] - 2s 2ms/step - loss: 0.0514 - accuracy: 0.9855\n",
            "Epoch 19/20\n",
            "1004/1004 [==============================] - 2s 2ms/step - loss: 0.0502 - accuracy: 0.9858\n",
            "Epoch 20/20\n",
            "1004/1004 [==============================] - 2s 2ms/step - loss: 0.0491 - accuracy: 0.9864\n"
          ]
        },
        {
          "output_type": "display_data",
          "data": {
            "text/plain": [
              "<Figure size 432x288 with 1 Axes>"
            ],
            "image/png": "[encoded data removed]"
          },
          "metadata": {
            "needs_background": "light"
          }
        }
      ]
    },
    {
      "cell_type": "markdown",
      "source": [
        "# sooo let see our model in action. lets test it with test set\n"
      ],
      "metadata": {
        "id": "kfhTrjX7Uyu6"
      }
    },
    {
      "cell_type": "code",
      "source": [
        "features = {name:np.array(value) for name, value in test_df_norm.items()}\n",
        "label = np.array(features.pop(label_name))\n",
        "\n",
        "my_model.evaluate(x = features, y = label, batch_size=batch_size)"
      ],
      "metadata": {
        "colab": {
          "base_uri": "https://localhost:8080/"
        },
        "id": "QjGBG3prVD6b",
        "outputId": "a6590624-b710-4aec-81e9-70b11c4b64ea"
      },
      "execution_count": null,
      "outputs": [
        {
          "output_type": "stream",
          "name": "stderr",
          "text": [
            "WARNING:tensorflow:Layers in a Sequential model should only have a single input tensor. Received: inputs={'last': <tf.Tensor 'IteratorGetNext:5' shape=(None,) dtype=float32>, 'diff_24h': <tf.Tensor 'IteratorGetNext:2' shape=(None,) dtype=float32>, 'diff_per_24h': <tf.Tensor 'IteratorGetNext:3' shape=(None,) dtype=float32>, 'bid': <tf.Tensor 'IteratorGetNext:1' shape=(None,) dtype=float32>, 'ask': <tf.Tensor 'IteratorGetNext:0' shape=(None,) dtype=float32>, 'low': <tf.Tensor 'IteratorGetNext:6' shape=(None,) dtype=float32>, 'high': <tf.Tensor 'IteratorGetNext:4' shape=(None,) dtype=float32>, 'volume': <tf.Tensor 'IteratorGetNext:7' shape=(None,) dtype=float32>}. Consider rewriting this model with the Functional API.\n"
          ]
        },
        {
          "output_type": "stream",
          "name": "stdout",
          "text": [
            "251/251 [==============================] - 1s 2ms/step - loss: 0.0478 - accuracy: 0.9847\n"
          ]
        },
        {
          "output_type": "execute_result",
          "data": {
            "text/plain": [
              "[0.047798678278923035, 0.9846938848495483]"
            ]
          },
          "metadata": {},
          "execution_count": 24
        }
      ]
    },
    {
      "cell_type": "markdown",
      "source": [
        "#ok!! 98% percent. looks really good.\n",
        "# but, is it realy true? \n",
        "lets chalenge our model with Adding precision and recall as metrics"
      ],
      "metadata": {
        "id": "yyfs36GSWSvX"
      }
    },
    {
      "cell_type": "code",
      "source": [
        "\n",
        "# The following variables are the hyperparameters.\n",
        "learning_rate = 0.001\n",
        "epochs = 20\n",
        "batch_size = 100\n",
        "classification_threshold = 0.35  # =>> you can change it to see different result\n",
        "label_name = \"last_value_is_high\"\n",
        "\n",
        "# Here is the updated definition of METRICS:\n",
        "METRICS = [\n",
        "      tf.keras.metrics.BinaryAccuracy(name='accuracy', \n",
        "                                      threshold=classification_threshold),\n",
        "      tf.keras.metrics.Precision(thresholds=classification_threshold,\n",
        "                                 name='precision' \n",
        "                                 ),\n",
        "      tf.keras.metrics.Recall(thresholds=classification_threshold,\n",
        "                              name=\"recall\"),\n",
        "]\n",
        "\n",
        "# Establish the model's topography.\n",
        "my_model = create_model(learning_rate, feature_layer, METRICS)\n",
        "\n",
        "# Train the model on the training set.\n",
        "epochs, hist = train_model(my_model, train_df_norm, epochs, \n",
        "                           label_name, batch_size)\n",
        "\n",
        "# Plot metrics vs. epochs\n",
        "list_of_metrics_to_plot = ['accuracy', \"precision\", \"recall\"] \n",
        "plot_curve(epochs, hist, list_of_metrics_to_plot)\n",
        "\n",
        "\n",
        "# The new graphs suggest that precision and recall are \n",
        "# somewhat in conflict. That is, improvements to one of\n",
        "# those metrics may hurt the other metric."
      ],
      "metadata": {
        "colab": {
          "base_uri": "https://localhost:8080/",
          "height": 1000
        },
        "id": "mRzU8DeSW4AQ",
        "outputId": "27c61aee-1a3a-49a5-e9a0-1bdf290c2ed8"
      },
      "execution_count": null,
      "outputs": [
        {
          "metadata": {
            "tags": null
          },
          "name": "stdout",
          "output_type": "stream",
          "text": [
            "Epoch 1/20\n"
          ]
        },
        {
          "metadata": {
            "tags": null
          },
          "name": "stderr",
          "output_type": "stream",
          "text": [
            "/usr/local/lib/python3.7/dist-packages/keras/optimizer_v2/rmsprop.py:130: UserWarning: The `lr` argument is deprecated, use `learning_rate` instead.\n",
            "  super(RMSprop, self).__init__(name, **kwargs)\n",
            "WARNING:tensorflow:Layers in a Sequential model should only have a single input tensor. Received: inputs={'last': <tf.Tensor 'IteratorGetNext:5' shape=(None,) dtype=float32>, 'diff_24h': <tf.Tensor 'IteratorGetNext:2' shape=(None,) dtype=float32>, 'diff_per_24h': <tf.Tensor 'IteratorGetNext:3' shape=(None,) dtype=float32>, 'bid': <tf.Tensor 'IteratorGetNext:1' shape=(None,) dtype=float32>, 'ask': <tf.Tensor 'IteratorGetNext:0' shape=(None,) dtype=float32>, 'low': <tf.Tensor 'IteratorGetNext:6' shape=(None,) dtype=float32>, 'high': <tf.Tensor 'IteratorGetNext:4' shape=(None,) dtype=float32>, 'volume': <tf.Tensor 'IteratorGetNext:7' shape=(None,) dtype=float32>}. Consider rewriting this model with the Functional API.\n",
            "WARNING:tensorflow:Layers in a Sequential model should only have a single input tensor. Received: inputs={'last': <tf.Tensor 'IteratorGetNext:5' shape=(None,) dtype=float32>, 'diff_24h': <tf.Tensor 'IteratorGetNext:2' shape=(None,) dtype=float32>, 'diff_per_24h': <tf.Tensor 'IteratorGetNext:3' shape=(None,) dtype=float32>, 'bid': <tf.Tensor 'IteratorGetNext:1' shape=(None,) dtype=float32>, 'ask': <tf.Tensor 'IteratorGetNext:0' shape=(None,) dtype=float32>, 'low': <tf.Tensor 'IteratorGetNext:6' shape=(None,) dtype=float32>, 'high': <tf.Tensor 'IteratorGetNext:4' shape=(None,) dtype=float32>, 'volume': <tf.Tensor 'IteratorGetNext:7' shape=(None,) dtype=float32>}. Consider rewriting this model with the Functional API.\n"
          ]
        },
        {
          "metadata": {
            "tags": null
          },
          "name": "stdout",
          "output_type": "stream",
          "text": [
            "1004/1004 [==============================] - 3s 2ms/step - loss: 0.4201 - accuracy: 0.5685 - precision: 1.0000 - recall: 0.4157\n",
            "Epoch 2/20\n",
            "1004/1004 [==============================] - 2s 2ms/step - loss: 0.2357 - accuracy: 0.7644 - precision: 1.0000 - recall: 0.6810\n",
            "Epoch 3/20\n",
            "1004/1004 [==============================] - 2s 2ms/step - loss: 0.1640 - accuracy: 0.8438 - precision: 1.0000 - recall: 0.7885\n",
            "Epoch 4/20\n",
            "1004/1004 [==============================] - 2s 2ms/step - loss: 0.1290 - accuracy: 0.8798 - precision: 1.0000 - recall: 0.8372\n",
            "Epoch 5/20\n",
            "1004/1004 [==============================] - 2s 2ms/step - loss: 0.1084 - accuracy: 0.9027 - precision: 1.0000 - recall: 0.8682\n",
            "Epoch 6/20\n",
            "1004/1004 [==============================] - 2s 2ms/step - loss: 0.0951 - accuracy: 0.9169 - precision: 1.0000 - recall: 0.8874\n",
            "Epoch 7/20\n",
            "1004/1004 [==============================] - 2s 2ms/step - loss: 0.0858 - accuracy: 0.9256 - precision: 1.0000 - recall: 0.8992\n",
            "Epoch 8/20\n",
            "1004/1004 [==============================] - 2s 2ms/step - loss: 0.0789 - accuracy: 0.9327 - precision: 1.0000 - recall: 0.9089\n",
            "Epoch 9/20\n",
            "1004/1004 [==============================] - 2s 2ms/step - loss: 0.0736 - accuracy: 0.9374 - precision: 1.0000 - recall: 0.9153\n",
            "Epoch 10/20\n",
            "1004/1004 [==============================] - 2s 2ms/step - loss: 0.0694 - accuracy: 0.9417 - precision: 1.0000 - recall: 0.9211\n",
            "Epoch 11/20\n",
            "1004/1004 [==============================] - 2s 2ms/step - loss: 0.0659 - accuracy: 0.9447 - precision: 0.9999 - recall: 0.9252\n",
            "Epoch 12/20\n",
            "1004/1004 [==============================] - 2s 2ms/step - loss: 0.0630 - accuracy: 0.9476 - precision: 0.9999 - recall: 0.9292\n",
            "Epoch 13/20\n",
            "1004/1004 [==============================] - 2s 2ms/step - loss: 0.0605 - accuracy: 0.9497 - precision: 0.9999 - recall: 0.9321\n",
            "Epoch 14/20\n",
            "1004/1004 [==============================] - 2s 2ms/step - loss: 0.0582 - accuracy: 0.9525 - precision: 0.9999 - recall: 0.9358\n",
            "Epoch 15/20\n",
            "1004/1004 [==============================] - 2s 2ms/step - loss: 0.0563 - accuracy: 0.9541 - precision: 0.9999 - recall: 0.9380\n",
            "Epoch 16/20\n",
            "1004/1004 [==============================] - 2s 2ms/step - loss: 0.0546 - accuracy: 0.9558 - precision: 0.9998 - recall: 0.9403\n",
            "Epoch 17/20\n",
            "1004/1004 [==============================] - 2s 2ms/step - loss: 0.0530 - accuracy: 0.9575 - precision: 0.9998 - recall: 0.9426\n",
            "Epoch 18/20\n",
            "1004/1004 [==============================] - 2s 2ms/step - loss: 0.0517 - accuracy: 0.9586 - precision: 0.9998 - recall: 0.9440\n",
            "Epoch 19/20\n",
            "1004/1004 [==============================] - 2s 2ms/step - loss: 0.0504 - accuracy: 0.9603 - precision: 0.9998 - recall: 0.9464\n",
            "Epoch 20/20\n",
            "1004/1004 [==============================] - 2s 2ms/step - loss: 0.0492 - accuracy: 0.9611 - precision: 0.9998 - recall: 0.9476\n"
          ]
        },
        {
          "output_type": "display_data",
          "data": {
            "text/plain": [
              "<Figure size 432x288 with 1 Axes>"
            ],
            "image/png": "[encoded data removed]"
          },
          "metadata": {
            "needs_background": "light"
          }
        }
      ]
    }
  ]
}