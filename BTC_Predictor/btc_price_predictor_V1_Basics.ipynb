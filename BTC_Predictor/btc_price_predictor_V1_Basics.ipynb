{
  "nbformat": 4,
  "nbformat_minor": 0,
  "metadata": {
    "colab": {
      "name": "btc_price_predictor.ipynb",
      "provenance": [],
      "collapsed_sections": []
    },
    "kernelspec": {
      "name": "python3",
      "display_name": "Python 3"
    },
    "language_info": {
      "name": "python"
    }
  },
  "cells": [
    {
      "cell_type": "markdown",
      "source": [
        "> import required libraries\n",
        "\n"
      ],
      "metadata": {
        "id": "RZkOAzKvUav6"
      }
    },
    {
      "cell_type": "code",
      "source": [
        "import numpy as np\n",
        "import pandas as pd\n",
        "import matplotlib.pyplot as plt\n",
        "import math\n",
        "from sklearn.preprocessing import MinMaxScaler\n",
        "from sklearn.metrics import mean_squared_error\n",
        "from keras.models import Sequential\n",
        "from keras.layers import  Dense\n",
        "from keras.layers import LSTM"
      ],
      "metadata": {
        "id": "6kfS_shETgFk"
      },
      "execution_count": null,
      "outputs": []
    },
    {
      "cell_type": "markdown",
      "source": [
        ">loading  data set from file"
      ],
      "metadata": {
        "id": "9FOY2KDLYXFX"
      }
    },
    {
      "cell_type": "code",
      "source": [
        "data_set = pd.read_csv(\"/content/drive/MyDrive/bitcoin_ticker.csv\")\n",
        "data_set.head()"
      ],
      "metadata": {
        "id": "iZfSlVvOYQIa",
        "colab": {
          "base_uri": "https://localhost:8080/",
          "height": 250
        },
        "outputId": "aa0637c5-8b0f-4ccc-8b20-0c1c5171bf6d"
      },
      "execution_count": null,
      "outputs": [
        {
          "output_type": "execute_result",
          "data": {
            "text/plain": [
              "      date_id          datetime_id    market  rpt_key        last    diff_24h  \\\n",
              "0  2017-05-31  2017-06-01 00:00:00  bitstamp  btc_eur     1996.72     2029.99   \n",
              "1  2017-05-31  2017-06-01 00:00:00  bitflyer  btc_jpy   267098.00   269649.00   \n",
              "2  2017-05-31  2017-06-01 00:00:00    korbit  btc_krw  3003500.00  3140000.00   \n",
              "3  2017-05-31  2017-06-01 00:00:00  bitstamp  btc_usd     2237.40     2239.37   \n",
              "4  2017-05-31  2017-06-01 00:00:00    okcoin  btc_usd     2318.82     2228.70   \n",
              "\n",
              "   diff_per_24h         bid         ask         low        high        volume  \\\n",
              "0     -1.638924     2005.50     2005.56     1950.00     2063.73   2314.500750   \n",
              "1     -0.946045   267124.00   267267.00   267124.00   267267.00  70922.880112   \n",
              "2     -4.347134  3003500.00  3004000.00  3002000.00  3209500.00   6109.752872   \n",
              "3     -0.087971     2233.09     2237.40     2154.28     2293.46  13681.282017   \n",
              "4      4.043613     2319.40     2319.99     2129.78     2318.82   4241.641516   \n",
              "\n",
              "            created_at           updated_at  \n",
              "0  2017-05-31 14:59:36  2017-05-31 14:59:36  \n",
              "1  2017-05-31 14:59:36  2017-05-31 14:59:36  \n",
              "2  2017-05-31 14:59:36  2017-05-31 14:59:36  \n",
              "3  2017-05-31 14:59:36  2017-05-31 14:59:36  \n",
              "4  2017-05-31 14:59:36  2017-05-31 14:59:36  "
            ],
            "text/html": [
              "\n",
              "  <div id=\"df-4844d157-1b4f-429e-aded-621b56124cd0\">\n",
              "    <div class=\"colab-df-container\">\n",
              "      <div>\n",
              "<style scoped>\n",
              "    .dataframe tbody tr th:only-of-type {\n",
              "        vertical-align: middle;\n",
              "    }\n",
              "\n",
              "    .dataframe tbody tr th {\n",
              "        vertical-align: top;\n",
              "    }\n",
              "\n",
              "    .dataframe thead th {\n",
              "        text-align: right;\n",
              "    }\n",
              "</style>\n",
              "<table border=\"1\" class=\"dataframe\">\n",
              "  <thead>\n",
              "    <tr style=\"text-align: right;\">\n",
              "      <th></th>\n",
              "      <th>date_id</th>\n",
              "      <th>datetime_id</th>\n",
              "      <th>market</th>\n",
              "      <th>rpt_key</th>\n",
              "      <th>last</th>\n",
              "      <th>diff_24h</th>\n",
              "      <th>diff_per_24h</th>\n",
              "      <th>bid</th>\n",
              "      <th>ask</th>\n",
              "      <th>low</th>\n",
              "      <th>high</th>\n",
              "      <th>volume</th>\n",
              "      <th>created_at</th>\n",
              "      <th>updated_at</th>\n",
              "    </tr>\n",
              "  </thead>\n",
              "  <tbody>\n",
              "    <tr>\n",
              "      <th>0</th>\n",
              "      <td>2017-05-31</td>\n",
              "      <td>2017-06-01 00:00:00</td>\n",
              "      <td>bitstamp</td>\n",
              "      <td>btc_eur</td>\n",
              "      <td>1996.72</td>\n",
              "      <td>2029.99</td>\n",
              "      <td>-1.638924</td>\n",
              "      <td>2005.50</td>\n",
              "      <td>2005.56</td>\n",
              "      <td>1950.00</td>\n",
              "      <td>2063.73</td>\n",
              "      <td>2314.500750</td>\n",
              "      <td>2017-05-31 14:59:36</td>\n",
              "      <td>2017-05-31 14:59:36</td>\n",
              "    </tr>\n",
              "    <tr>\n",
              "      <th>1</th>\n",
              "      <td>2017-05-31</td>\n",
              "      <td>2017-06-01 00:00:00</td>\n",
              "      <td>bitflyer</td>\n",
              "      <td>btc_jpy</td>\n",
              "      <td>267098.00</td>\n",
              "      <td>269649.00</td>\n",
              "      <td>-0.946045</td>\n",
              "      <td>267124.00</td>\n",
              "      <td>267267.00</td>\n",
              "      <td>267124.00</td>\n",
              "      <td>267267.00</td>\n",
              "      <td>70922.880112</td>\n",
              "      <td>2017-05-31 14:59:36</td>\n",
              "      <td>2017-05-31 14:59:36</td>\n",
              "    </tr>\n",
              "    <tr>\n",
              "      <th>2</th>\n",
              "      <td>2017-05-31</td>\n",
              "      <td>2017-06-01 00:00:00</td>\n",
              "      <td>korbit</td>\n",
              "      <td>btc_krw</td>\n",
              "      <td>3003500.00</td>\n",
              "      <td>3140000.00</td>\n",
              "      <td>-4.347134</td>\n",
              "      <td>3003500.00</td>\n",
              "      <td>3004000.00</td>\n",
              "      <td>3002000.00</td>\n",
              "      <td>3209500.00</td>\n",
              "      <td>6109.752872</td>\n",
              "      <td>2017-05-31 14:59:36</td>\n",
              "      <td>2017-05-31 14:59:36</td>\n",
              "    </tr>\n",
              "    <tr>\n",
              "      <th>3</th>\n",
              "      <td>2017-05-31</td>\n",
              "      <td>2017-06-01 00:00:00</td>\n",
              "      <td>bitstamp</td>\n",
              "      <td>btc_usd</td>\n",
              "      <td>2237.40</td>\n",
              "      <td>2239.37</td>\n",
              "      <td>-0.087971</td>\n",
              "      <td>2233.09</td>\n",
              "      <td>2237.40</td>\n",
              "      <td>2154.28</td>\n",
              "      <td>2293.46</td>\n",
              "      <td>13681.282017</td>\n",
              "      <td>2017-05-31 14:59:36</td>\n",
              "      <td>2017-05-31 14:59:36</td>\n",
              "    </tr>\n",
              "    <tr>\n",
              "      <th>4</th>\n",
              "      <td>2017-05-31</td>\n",
              "      <td>2017-06-01 00:00:00</td>\n",
              "      <td>okcoin</td>\n",
              "      <td>btc_usd</td>\n",
              "      <td>2318.82</td>\n",
              "      <td>2228.70</td>\n",
              "      <td>4.043613</td>\n",
              "      <td>2319.40</td>\n",
              "      <td>2319.99</td>\n",
              "      <td>2129.78</td>\n",
              "      <td>2318.82</td>\n",
              "      <td>4241.641516</td>\n",
              "      <td>2017-05-31 14:59:36</td>\n",
              "      <td>2017-05-31 14:59:36</td>\n",
              "    </tr>\n",
              "  </tbody>\n",
              "</table>\n",
              "</div>\n",
              "      <button class=\"colab-df-convert\" onclick=\"convertToInteractive('df-4844d157-1b4f-429e-aded-621b56124cd0')\"\n",
              "              title=\"Convert this dataframe to an interactive table.\"\n",
              "              style=\"display:none;\">\n",
              "        \n",
              "  <svg xmlns=\"http://www.w3.org/2000/svg\" height=\"24px\"viewBox=\"0 0 24 24\"\n",
              "       width=\"24px\">\n",
              "    <path d=\"M0 0h24v24H0V0z\" fill=\"none\"/>\n",
              "    <path d=\"M18.56 5.44l.94 2.06.94-2.06 2.06-.94-2.06-.94-.94-2.06-.94 2.06-2.06.94zm-11 1L8.5 8.5l.94-2.06 2.06-.94-2.06-.94L8.5 2.5l-.94 2.06-2.06.94zm10 10l.94 2.06.94-2.06 2.06-.94-2.06-.94-.94-2.06-.94 2.06-2.06.94z\"/><path d=\"M17.41 7.96l-1.37-1.37c-.4-.4-.92-.59-1.43-.59-.52 0-1.04.2-1.43.59L10.3 9.45l-7.72 7.72c-.78.78-.78 2.05 0 2.83L4 21.41c.39.39.9.59 1.41.59.51 0 1.02-.2 1.41-.59l7.78-7.78 2.81-2.81c.8-.78.8-2.07 0-2.86zM5.41 20L4 18.59l7.72-7.72 1.47 1.35L5.41 20z\"/>\n",
              "  </svg>\n",
              "      </button>\n",
              "      \n",
              "  <style>\n",
              "    .colab-df-container {\n",
              "      display:flex;\n",
              "      flex-wrap:wrap;\n",
              "      gap: 12px;\n",
              "    }\n",
              "\n",
              "    .colab-df-convert {\n",
              "      background-color: #E8F0FE;\n",
              "      border: none;\n",
              "      border-radius: 50%;\n",
              "      cursor: pointer;\n",
              "      display: none;\n",
              "      fill: #1967D2;\n",
              "      height: 32px;\n",
              "      padding: 0 0 0 0;\n",
              "      width: 32px;\n",
              "    }\n",
              "\n",
              "    .colab-df-convert:hover {\n",
              "      background-color: #E2EBFA;\n",
              "      box-shadow: 0px 1px 2px rgba(60, 64, 67, 0.3), 0px 1px 3px 1px rgba(60, 64, 67, 0.15);\n",
              "      fill: #174EA6;\n",
              "    }\n",
              "\n",
              "    [theme=dark] .colab-df-convert {\n",
              "      background-color: #3B4455;\n",
              "      fill: #D2E3FC;\n",
              "    }\n",
              "\n",
              "    [theme=dark] .colab-df-convert:hover {\n",
              "      background-color: #434B5C;\n",
              "      box-shadow: 0px 1px 3px 1px rgba(0, 0, 0, 0.15);\n",
              "      filter: drop-shadow(0px 1px 2px rgba(0, 0, 0, 0.3));\n",
              "      fill: #FFFFFF;\n",
              "    }\n",
              "  </style>\n",
              "\n",
              "      <script>\n",
              "        const buttonEl =\n",
              "          document.querySelector('#df-4844d157-1b4f-429e-aded-621b56124cd0 button.colab-df-convert');\n",
              "        buttonEl.style.display =\n",
              "          google.colab.kernel.accessAllowed ? 'block' : 'none';\n",
              "\n",
              "        async function convertToInteractive(key) {\n",
              "          const element = document.querySelector('#df-4844d157-1b4f-429e-aded-621b56124cd0');\n",
              "          const dataTable =\n",
              "            await google.colab.kernel.invokeFunction('convertToInteractive',\n",
              "                                                     [key], {});\n",
              "          if (!dataTable) return;\n",
              "\n",
              "          const docLinkHtml = 'Like what you see? Visit the ' +\n",
              "            '<a target=\"_blank\" href=https://colab.research.google.com/notebooks/data_table.ipynb>data table notebook</a>'\n",
              "            + ' to learn more about interactive tables.';\n",
              "          element.innerHTML = '';\n",
              "          dataTable['output_type'] = 'display_data';\n",
              "          await google.colab.output.renderOutput(dataTable, element);\n",
              "          const docLink = document.createElement('div');\n",
              "          docLink.innerHTML = docLinkHtml;\n",
              "          element.appendChild(docLink);\n",
              "        }\n",
              "      </script>\n",
              "    </div>\n",
              "  </div>\n",
              "  "
            ]
          },
          "metadata": {},
          "execution_count": 3
        }
      ]
    },
    {
      "cell_type": "markdown",
      "source": [
        "> some development actions, to get some understanding on data set"
      ],
      "metadata": {
        "id": "YtlNQVKXbZFC"
      }
    },
    {
      "cell_type": "code",
      "source": [
        "data_set['rpt_key'].value_counts()"
      ],
      "metadata": {
        "id": "DlDBP3cxaBZ2",
        "colab": {
          "base_uri": "https://localhost:8080/"
        },
        "outputId": "8e8011cd-a828-4802-f2fd-ba24a08fb123"
      },
      "execution_count": null,
      "outputs": [
        {
          "output_type": "execute_result",
          "data": {
            "text/plain": [
              "btc_usd       125438\n",
              "btc_eur        62719\n",
              "btc_jpy        62719\n",
              "btc_krw        62719\n",
              "etc_krw        62719\n",
              "eth_btc        62719\n",
              "eth_krw        62719\n",
              "fx_btc_jpy     62719\n",
              "ltc_usd        62719\n",
              "Name: rpt_key, dtype: int64"
            ]
          },
          "metadata": {},
          "execution_count": 4
        }
      ]
    },
    {
      "cell_type": "markdown",
      "source": [
        "# New Section"
      ],
      "metadata": {
        "id": "IkQungIuDI7e"
      }
    },
    {
      "cell_type": "markdown",
      "source": [
        "> building btc data frame"
      ],
      "metadata": {
        "id": "5m2xBjXLcxQ_"
      }
    },
    {
      "cell_type": "code",
      "source": [
        "data_frame = data_set.loc[(data_set['rpt_key'] == 'btc_usd')]\n",
        "data_frame.head()"
      ],
      "metadata": {
        "id": "c14M60bFc8Jh",
        "colab": {
          "base_uri": "https://localhost:8080/",
          "height": 206
        },
        "outputId": "7bdbc572-8fcb-4a5d-fd0b-6ab6a6ae034f"
      },
      "execution_count": null,
      "outputs": [
        {
          "output_type": "execute_result",
          "data": {
            "text/plain": [
              "       date_id          datetime_id    market  rpt_key     last  diff_24h  \\\n",
              "3   2017-05-31  2017-06-01 00:00:00  bitstamp  btc_usd  2237.40   2239.37   \n",
              "4   2017-05-31  2017-06-01 00:00:00    okcoin  btc_usd  2318.82   2228.70   \n",
              "15  2017-06-01  2017-06-01 00:01:00  bitstamp  btc_usd  2248.39   2242.44   \n",
              "16  2017-06-01  2017-06-01 00:01:00    okcoin  btc_usd  2320.42   2228.40   \n",
              "23  2017-06-01  2017-06-01 00:02:00  bitstamp  btc_usd  2248.35   2238.58   \n",
              "\n",
              "    diff_per_24h      bid      ask      low     high        volume  \\\n",
              "3      -0.087971  2233.09  2237.40  2154.28  2293.46  13681.282017   \n",
              "4       4.043613  2319.40  2319.99  2129.78  2318.82   4241.641516   \n",
              "15      0.265336  2247.77  2248.38  2154.28  2293.46  13701.698603   \n",
              "16      4.129420  2320.99  2321.49  2129.78  2322.00   4260.261516   \n",
              "23      0.436437  2248.35  2248.69  2154.28  2293.46  13742.110913   \n",
              "\n",
              "             created_at           updated_at  \n",
              "3   2017-05-31 14:59:36  2017-05-31 14:59:36  \n",
              "4   2017-05-31 14:59:36  2017-05-31 14:59:36  \n",
              "15  2017-05-31 15:00:36  2017-05-31 15:00:36  \n",
              "16  2017-05-31 15:00:36  2017-05-31 15:00:36  \n",
              "23  2017-05-31 15:01:36  2017-05-31 15:01:36  "
            ],
            "text/html": [
              "\n",
              "  <div id=\"df-9e42762c-7ecd-4d43-ae6d-3405c851fc2d\">\n",
              "    <div class=\"colab-df-container\">\n",
              "      <div>\n",
              "<style scoped>\n",
              "    .dataframe tbody tr th:only-of-type {\n",
              "        vertical-align: middle;\n",
              "    }\n",
              "\n",
              "    .dataframe tbody tr th {\n",
              "        vertical-align: top;\n",
              "    }\n",
              "\n",
              "    .dataframe thead th {\n",
              "        text-align: right;\n",
              "    }\n",
              "</style>\n",
              "<table border=\"1\" class=\"dataframe\">\n",
              "  <thead>\n",
              "    <tr style=\"text-align: right;\">\n",
              "      <th></th>\n",
              "      <th>date_id</th>\n",
              "      <th>datetime_id</th>\n",
              "      <th>market</th>\n",
              "      <th>rpt_key</th>\n",
              "      <th>last</th>\n",
              "      <th>diff_24h</th>\n",
              "      <th>diff_per_24h</th>\n",
              "      <th>bid</th>\n",
              "      <th>ask</th>\n",
              "      <th>low</th>\n",
              "      <th>high</th>\n",
              "      <th>volume</th>\n",
              "      <th>created_at</th>\n",
              "      <th>updated_at</th>\n",
              "    </tr>\n",
              "  </thead>\n",
              "  <tbody>\n",
              "    <tr>\n",
              "      <th>3</th>\n",
              "      <td>2017-05-31</td>\n",
              "      <td>2017-06-01 00:00:00</td>\n",
              "      <td>bitstamp</td>\n",
              "      <td>btc_usd</td>\n",
              "      <td>2237.40</td>\n",
              "      <td>2239.37</td>\n",
              "      <td>-0.087971</td>\n",
              "      <td>2233.09</td>\n",
              "      <td>2237.40</td>\n",
              "      <td>2154.28</td>\n",
              "      <td>2293.46</td>\n",
              "      <td>13681.282017</td>\n",
              "      <td>2017-05-31 14:59:36</td>\n",
              "      <td>2017-05-31 14:59:36</td>\n",
              "    </tr>\n",
              "    <tr>\n",
              "      <th>4</th>\n",
              "      <td>2017-05-31</td>\n",
              "      <td>2017-06-01 00:00:00</td>\n",
              "      <td>okcoin</td>\n",
              "      <td>btc_usd</td>\n",
              "      <td>2318.82</td>\n",
              "      <td>2228.70</td>\n",
              "      <td>4.043613</td>\n",
              "      <td>2319.40</td>\n",
              "      <td>2319.99</td>\n",
              "      <td>2129.78</td>\n",
              "      <td>2318.82</td>\n",
              "      <td>4241.641516</td>\n",
              "      <td>2017-05-31 14:59:36</td>\n",
              "      <td>2017-05-31 14:59:36</td>\n",
              "    </tr>\n",
              "    <tr>\n",
              "      <th>15</th>\n",
              "      <td>2017-06-01</td>\n",
              "      <td>2017-06-01 00:01:00</td>\n",
              "      <td>bitstamp</td>\n",
              "      <td>btc_usd</td>\n",
              "      <td>2248.39</td>\n",
              "      <td>2242.44</td>\n",
              "      <td>0.265336</td>\n",
              "      <td>2247.77</td>\n",
              "      <td>2248.38</td>\n",
              "      <td>2154.28</td>\n",
              "      <td>2293.46</td>\n",
              "      <td>13701.698603</td>\n",
              "      <td>2017-05-31 15:00:36</td>\n",
              "      <td>2017-05-31 15:00:36</td>\n",
              "    </tr>\n",
              "    <tr>\n",
              "      <th>16</th>\n",
              "      <td>2017-06-01</td>\n",
              "      <td>2017-06-01 00:01:00</td>\n",
              "      <td>okcoin</td>\n",
              "      <td>btc_usd</td>\n",
              "      <td>2320.42</td>\n",
              "      <td>2228.40</td>\n",
              "      <td>4.129420</td>\n",
              "      <td>2320.99</td>\n",
              "      <td>2321.49</td>\n",
              "      <td>2129.78</td>\n",
              "      <td>2322.00</td>\n",
              "      <td>4260.261516</td>\n",
              "      <td>2017-05-31 15:00:36</td>\n",
              "      <td>2017-05-31 15:00:36</td>\n",
              "    </tr>\n",
              "    <tr>\n",
              "      <th>23</th>\n",
              "      <td>2017-06-01</td>\n",
              "      <td>2017-06-01 00:02:00</td>\n",
              "      <td>bitstamp</td>\n",
              "      <td>btc_usd</td>\n",
              "      <td>2248.35</td>\n",
              "      <td>2238.58</td>\n",
              "      <td>0.436437</td>\n",
              "      <td>2248.35</td>\n",
              "      <td>2248.69</td>\n",
              "      <td>2154.28</td>\n",
              "      <td>2293.46</td>\n",
              "      <td>13742.110913</td>\n",
              "      <td>2017-05-31 15:01:36</td>\n",
              "      <td>2017-05-31 15:01:36</td>\n",
              "    </tr>\n",
              "  </tbody>\n",
              "</table>\n",
              "</div>\n",
              "      <button class=\"colab-df-convert\" onclick=\"convertToInteractive('df-9e42762c-7ecd-4d43-ae6d-3405c851fc2d')\"\n",
              "              title=\"Convert this dataframe to an interactive table.\"\n",
              "              style=\"display:none;\">\n",
              "        \n",
              "  <svg xmlns=\"http://www.w3.org/2000/svg\" height=\"24px\"viewBox=\"0 0 24 24\"\n",
              "       width=\"24px\">\n",
              "    <path d=\"M0 0h24v24H0V0z\" fill=\"none\"/>\n",
              "    <path d=\"M18.56 5.44l.94 2.06.94-2.06 2.06-.94-2.06-.94-.94-2.06-.94 2.06-2.06.94zm-11 1L8.5 8.5l.94-2.06 2.06-.94-2.06-.94L8.5 2.5l-.94 2.06-2.06.94zm10 10l.94 2.06.94-2.06 2.06-.94-2.06-.94-.94-2.06-.94 2.06-2.06.94z\"/><path d=\"M17.41 7.96l-1.37-1.37c-.4-.4-.92-.59-1.43-.59-.52 0-1.04.2-1.43.59L10.3 9.45l-7.72 7.72c-.78.78-.78 2.05 0 2.83L4 21.41c.39.39.9.59 1.41.59.51 0 1.02-.2 1.41-.59l7.78-7.78 2.81-2.81c.8-.78.8-2.07 0-2.86zM5.41 20L4 18.59l7.72-7.72 1.47 1.35L5.41 20z\"/>\n",
              "  </svg>\n",
              "      </button>\n",
              "      \n",
              "  <style>\n",
              "    .colab-df-container {\n",
              "      display:flex;\n",
              "      flex-wrap:wrap;\n",
              "      gap: 12px;\n",
              "    }\n",
              "\n",
              "    .colab-df-convert {\n",
              "      background-color: #E8F0FE;\n",
              "      border: none;\n",
              "      border-radius: 50%;\n",
              "      cursor: pointer;\n",
              "      display: none;\n",
              "      fill: #1967D2;\n",
              "      height: 32px;\n",
              "      padding: 0 0 0 0;\n",
              "      width: 32px;\n",
              "    }\n",
              "\n",
              "    .colab-df-convert:hover {\n",
              "      background-color: #E2EBFA;\n",
              "      box-shadow: 0px 1px 2px rgba(60, 64, 67, 0.3), 0px 1px 3px 1px rgba(60, 64, 67, 0.15);\n",
              "      fill: #174EA6;\n",
              "    }\n",
              "\n",
              "    [theme=dark] .colab-df-convert {\n",
              "      background-color: #3B4455;\n",
              "      fill: #D2E3FC;\n",
              "    }\n",
              "\n",
              "    [theme=dark] .colab-df-convert:hover {\n",
              "      background-color: #434B5C;\n",
              "      box-shadow: 0px 1px 3px 1px rgba(0, 0, 0, 0.15);\n",
              "      filter: drop-shadow(0px 1px 2px rgba(0, 0, 0, 0.3));\n",
              "      fill: #FFFFFF;\n",
              "    }\n",
              "  </style>\n",
              "\n",
              "      <script>\n",
              "        const buttonEl =\n",
              "          document.querySelector('#df-9e42762c-7ecd-4d43-ae6d-3405c851fc2d button.colab-df-convert');\n",
              "        buttonEl.style.display =\n",
              "          google.colab.kernel.accessAllowed ? 'block' : 'none';\n",
              "\n",
              "        async function convertToInteractive(key) {\n",
              "          const element = document.querySelector('#df-9e42762c-7ecd-4d43-ae6d-3405c851fc2d');\n",
              "          const dataTable =\n",
              "            await google.colab.kernel.invokeFunction('convertToInteractive',\n",
              "                                                     [key], {});\n",
              "          if (!dataTable) return;\n",
              "\n",
              "          const docLinkHtml = 'Like what you see? Visit the ' +\n",
              "            '<a target=\"_blank\" href=https://colab.research.google.com/notebooks/data_table.ipynb>data table notebook</a>'\n",
              "            + ' to learn more about interactive tables.';\n",
              "          element.innerHTML = '';\n",
              "          dataTable['output_type'] = 'display_data';\n",
              "          await google.colab.output.renderOutput(dataTable, element);\n",
              "          const docLink = document.createElement('div');\n",
              "          docLink.innerHTML = docLinkHtml;\n",
              "          element.appendChild(docLink);\n",
              "        }\n",
              "      </script>\n",
              "    </div>\n",
              "  </div>\n",
              "  "
            ]
          },
          "metadata": {},
          "execution_count": 5
        }
      ]
    },
    {
      "cell_type": "markdown",
      "source": [
        ">Convert datetime_id to data type and filter dates greater than  2017-06-28 00:00:00\""
      ],
      "metadata": {
        "id": "MyGuo32bdo-1"
      }
    },
    {
      "cell_type": "code",
      "source": [
        "data_frame = data_frame.reset_index(drop=True)\n",
        "data_frame['datetime'] = pd.to_datetime(data_frame['datetime_id'])\n",
        "data_frame = data_frame.loc[data_frame['datetime'] > pd.to_datetime('2017-06-28 00:00:00')]\n"
      ],
      "metadata": {
        "id": "8fvnZcKSdvXn"
      },
      "execution_count": null,
      "outputs": []
    },
    {
      "cell_type": "code",
      "source": [
        "data_frame.head(3)"
      ],
      "metadata": {
        "colab": {
          "base_uri": "https://localhost:8080/",
          "height": 239
        },
        "id": "d-LiwYwpkLhv",
        "outputId": "2115c8af-9549-4c9f-de7e-5fab3b190fc2"
      },
      "execution_count": null,
      "outputs": [
        {
          "output_type": "execute_result",
          "data": {
            "text/plain": [
              "          date_id          datetime_id    market  rpt_key     last  diff_24h  \\\n",
              "77762  2017-06-28  2017-06-28 00:01:00  bitstamp  btc_usd  2344.00   2491.98   \n",
              "77763  2017-06-28  2017-06-28 00:01:00    okcoin  btc_usd  2499.39   2682.25   \n",
              "77764  2017-06-28  2017-06-28 00:02:00  bitstamp  btc_usd  2337.18   2491.98   \n",
              "\n",
              "       diff_per_24h      bid      ask     low     high        volume  \\\n",
              "77762     -5.938250  2335.01  2343.89  2307.0  2473.19  20719.583592   \n",
              "77763     -6.817411  2495.00  2499.33  2444.0  2780.62   2265.557866   \n",
              "77764     -6.211928  2337.18  2340.00  2307.0  2473.19  20732.082581   \n",
              "\n",
              "                created_at           updated_at            datetime  \n",
              "77762  2017-06-27 15:00:41  2017-06-27 15:00:41 2017-06-28 00:01:00  \n",
              "77763  2017-06-27 15:00:41  2017-06-27 15:00:41 2017-06-28 00:01:00  \n",
              "77764  2017-06-27 15:01:41  2017-06-27 15:01:41 2017-06-28 00:02:00  "
            ],
            "text/html": [
              "\n",
              "  <div id=\"df-42618c68-55ef-4446-8e86-931e372ed730\">\n",
              "    <div class=\"colab-df-container\">\n",
              "      <div>\n",
              "<style scoped>\n",
              "    .dataframe tbody tr th:only-of-type {\n",
              "        vertical-align: middle;\n",
              "    }\n",
              "\n",
              "    .dataframe tbody tr th {\n",
              "        vertical-align: top;\n",
              "    }\n",
              "\n",
              "    .dataframe thead th {\n",
              "        text-align: right;\n",
              "    }\n",
              "</style>\n",
              "<table border=\"1\" class=\"dataframe\">\n",
              "  <thead>\n",
              "    <tr style=\"text-align: right;\">\n",
              "      <th></th>\n",
              "      <th>date_id</th>\n",
              "      <th>datetime_id</th>\n",
              "      <th>market</th>\n",
              "      <th>rpt_key</th>\n",
              "      <th>last</th>\n",
              "      <th>diff_24h</th>\n",
              "      <th>diff_per_24h</th>\n",
              "      <th>bid</th>\n",
              "      <th>ask</th>\n",
              "      <th>low</th>\n",
              "      <th>high</th>\n",
              "      <th>volume</th>\n",
              "      <th>created_at</th>\n",
              "      <th>updated_at</th>\n",
              "      <th>datetime</th>\n",
              "    </tr>\n",
              "  </thead>\n",
              "  <tbody>\n",
              "    <tr>\n",
              "      <th>77762</th>\n",
              "      <td>2017-06-28</td>\n",
              "      <td>2017-06-28 00:01:00</td>\n",
              "      <td>bitstamp</td>\n",
              "      <td>btc_usd</td>\n",
              "      <td>2344.00</td>\n",
              "      <td>2491.98</td>\n",
              "      <td>-5.938250</td>\n",
              "      <td>2335.01</td>\n",
              "      <td>2343.89</td>\n",
              "      <td>2307.0</td>\n",
              "      <td>2473.19</td>\n",
              "      <td>20719.583592</td>\n",
              "      <td>2017-06-27 15:00:41</td>\n",
              "      <td>2017-06-27 15:00:41</td>\n",
              "      <td>2017-06-28 00:01:00</td>\n",
              "    </tr>\n",
              "    <tr>\n",
              "      <th>77763</th>\n",
              "      <td>2017-06-28</td>\n",
              "      <td>2017-06-28 00:01:00</td>\n",
              "      <td>okcoin</td>\n",
              "      <td>btc_usd</td>\n",
              "      <td>2499.39</td>\n",
              "      <td>2682.25</td>\n",
              "      <td>-6.817411</td>\n",
              "      <td>2495.00</td>\n",
              "      <td>2499.33</td>\n",
              "      <td>2444.0</td>\n",
              "      <td>2780.62</td>\n",
              "      <td>2265.557866</td>\n",
              "      <td>2017-06-27 15:00:41</td>\n",
              "      <td>2017-06-27 15:00:41</td>\n",
              "      <td>2017-06-28 00:01:00</td>\n",
              "    </tr>\n",
              "    <tr>\n",
              "      <th>77764</th>\n",
              "      <td>2017-06-28</td>\n",
              "      <td>2017-06-28 00:02:00</td>\n",
              "      <td>bitstamp</td>\n",
              "      <td>btc_usd</td>\n",
              "      <td>2337.18</td>\n",
              "      <td>2491.98</td>\n",
              "      <td>-6.211928</td>\n",
              "      <td>2337.18</td>\n",
              "      <td>2340.00</td>\n",
              "      <td>2307.0</td>\n",
              "      <td>2473.19</td>\n",
              "      <td>20732.082581</td>\n",
              "      <td>2017-06-27 15:01:41</td>\n",
              "      <td>2017-06-27 15:01:41</td>\n",
              "      <td>2017-06-28 00:02:00</td>\n",
              "    </tr>\n",
              "  </tbody>\n",
              "</table>\n",
              "</div>\n",
              "      <button class=\"colab-df-convert\" onclick=\"convertToInteractive('df-42618c68-55ef-4446-8e86-931e372ed730')\"\n",
              "              title=\"Convert this dataframe to an interactive table.\"\n",
              "              style=\"display:none;\">\n",
              "        \n",
              "  <svg xmlns=\"http://www.w3.org/2000/svg\" height=\"24px\"viewBox=\"0 0 24 24\"\n",
              "       width=\"24px\">\n",
              "    <path d=\"M0 0h24v24H0V0z\" fill=\"none\"/>\n",
              "    <path d=\"M18.56 5.44l.94 2.06.94-2.06 2.06-.94-2.06-.94-.94-2.06-.94 2.06-2.06.94zm-11 1L8.5 8.5l.94-2.06 2.06-.94-2.06-.94L8.5 2.5l-.94 2.06-2.06.94zm10 10l.94 2.06.94-2.06 2.06-.94-2.06-.94-.94-2.06-.94 2.06-2.06.94z\"/><path d=\"M17.41 7.96l-1.37-1.37c-.4-.4-.92-.59-1.43-.59-.52 0-1.04.2-1.43.59L10.3 9.45l-7.72 7.72c-.78.78-.78 2.05 0 2.83L4 21.41c.39.39.9.59 1.41.59.51 0 1.02-.2 1.41-.59l7.78-7.78 2.81-2.81c.8-.78.8-2.07 0-2.86zM5.41 20L4 18.59l7.72-7.72 1.47 1.35L5.41 20z\"/>\n",
              "  </svg>\n",
              "      </button>\n",
              "      \n",
              "  <style>\n",
              "    .colab-df-container {\n",
              "      display:flex;\n",
              "      flex-wrap:wrap;\n",
              "      gap: 12px;\n",
              "    }\n",
              "\n",
              "    .colab-df-convert {\n",
              "      background-color: #E8F0FE;\n",
              "      border: none;\n",
              "      border-radius: 50%;\n",
              "      cursor: pointer;\n",
              "      display: none;\n",
              "      fill: #1967D2;\n",
              "      height: 32px;\n",
              "      padding: 0 0 0 0;\n",
              "      width: 32px;\n",
              "    }\n",
              "\n",
              "    .colab-df-convert:hover {\n",
              "      background-color: #E2EBFA;\n",
              "      box-shadow: 0px 1px 2px rgba(60, 64, 67, 0.3), 0px 1px 3px 1px rgba(60, 64, 67, 0.15);\n",
              "      fill: #174EA6;\n",
              "    }\n",
              "\n",
              "    [theme=dark] .colab-df-convert {\n",
              "      background-color: #3B4455;\n",
              "      fill: #D2E3FC;\n",
              "    }\n",
              "\n",
              "    [theme=dark] .colab-df-convert:hover {\n",
              "      background-color: #434B5C;\n",
              "      box-shadow: 0px 1px 3px 1px rgba(0, 0, 0, 0.15);\n",
              "      filter: drop-shadow(0px 1px 2px rgba(0, 0, 0, 0.3));\n",
              "      fill: #FFFFFF;\n",
              "    }\n",
              "  </style>\n",
              "\n",
              "      <script>\n",
              "        const buttonEl =\n",
              "          document.querySelector('#df-42618c68-55ef-4446-8e86-931e372ed730 button.colab-df-convert');\n",
              "        buttonEl.style.display =\n",
              "          google.colab.kernel.accessAllowed ? 'block' : 'none';\n",
              "\n",
              "        async function convertToInteractive(key) {\n",
              "          const element = document.querySelector('#df-42618c68-55ef-4446-8e86-931e372ed730');\n",
              "          const dataTable =\n",
              "            await google.colab.kernel.invokeFunction('convertToInteractive',\n",
              "                                                     [key], {});\n",
              "          if (!dataTable) return;\n",
              "\n",
              "          const docLinkHtml = 'Like what you see? Visit the ' +\n",
              "            '<a target=\"_blank\" href=https://colab.research.google.com/notebooks/data_table.ipynb>data table notebook</a>'\n",
              "            + ' to learn more about interactive tables.';\n",
              "          element.innerHTML = '';\n",
              "          dataTable['output_type'] = 'display_data';\n",
              "          await google.colab.output.renderOutput(dataTable, element);\n",
              "          const docLink = document.createElement('div');\n",
              "          docLink.innerHTML = docLinkHtml;\n",
              "          element.appendChild(docLink);\n",
              "        }\n",
              "      </script>\n",
              "    </div>\n",
              "  </div>\n",
              "  "
            ]
          },
          "metadata": {},
          "execution_count": 9
        }
      ]
    },
    {
      "cell_type": "code",
      "source": [
        "data_frame.drop(['date_id', 'datetime_id', 'market', 'rpt_key', 'created_at', 'updated_at'], inplace=True, axis=1)\n",
        "data_frame.head()"
      ],
      "metadata": {
        "id": "UBTMCVfHczh8",
        "colab": {
          "base_uri": "https://localhost:8080/",
          "height": 206
        },
        "outputId": "7d9058e1-1067-4b78-8186-322dda785842"
      },
      "execution_count": null,
      "outputs": [
        {
          "output_type": "execute_result",
          "data": {
            "text/plain": [
              "          last  diff_24h  diff_per_24h      bid      ask     low     high  \\\n",
              "77762  2344.00   2491.98     -5.938250  2335.01  2343.89  2307.0  2473.19   \n",
              "77763  2499.39   2682.25     -6.817411  2495.00  2499.33  2444.0  2780.62   \n",
              "77764  2337.18   2491.98     -6.211928  2337.18  2340.00  2307.0  2473.19   \n",
              "77765  2492.76   2682.25     -7.064591  2492.76  2495.00  2444.0  2780.62   \n",
              "77766  2335.02   2491.98     -6.298606  2335.01  2335.02  2307.0  2473.19   \n",
              "\n",
              "             volume            datetime  \n",
              "77762  20719.583592 2017-06-28 00:01:00  \n",
              "77763   2265.557866 2017-06-28 00:01:00  \n",
              "77764  20732.082581 2017-06-28 00:02:00  \n",
              "77765   2262.618866 2017-06-28 00:02:00  \n",
              "77766  20665.357191 2017-06-28 00:03:00  "
            ],
            "text/html": [
              "\n",
              "  <div id=\"df-6dacc49b-8560-404f-b2eb-076d2a84fc65\">\n",
              "    <div class=\"colab-df-container\">\n",
              "      <div>\n",
              "<style scoped>\n",
              "    .dataframe tbody tr th:only-of-type {\n",
              "        vertical-align: middle;\n",
              "    }\n",
              "\n",
              "    .dataframe tbody tr th {\n",
              "        vertical-align: top;\n",
              "    }\n",
              "\n",
              "    .dataframe thead th {\n",
              "        text-align: right;\n",
              "    }\n",
              "</style>\n",
              "<table border=\"1\" class=\"dataframe\">\n",
              "  <thead>\n",
              "    <tr style=\"text-align: right;\">\n",
              "      <th></th>\n",
              "      <th>last</th>\n",
              "      <th>diff_24h</th>\n",
              "      <th>diff_per_24h</th>\n",
              "      <th>bid</th>\n",
              "      <th>ask</th>\n",
              "      <th>low</th>\n",
              "      <th>high</th>\n",
              "      <th>volume</th>\n",
              "      <th>datetime</th>\n",
              "    </tr>\n",
              "  </thead>\n",
              "  <tbody>\n",
              "    <tr>\n",
              "      <th>77762</th>\n",
              "      <td>2344.00</td>\n",
              "      <td>2491.98</td>\n",
              "      <td>-5.938250</td>\n",
              "      <td>2335.01</td>\n",
              "      <td>2343.89</td>\n",
              "      <td>2307.0</td>\n",
              "      <td>2473.19</td>\n",
              "      <td>20719.583592</td>\n",
              "      <td>2017-06-28 00:01:00</td>\n",
              "    </tr>\n",
              "    <tr>\n",
              "      <th>77763</th>\n",
              "      <td>2499.39</td>\n",
              "      <td>2682.25</td>\n",
              "      <td>-6.817411</td>\n",
              "      <td>2495.00</td>\n",
              "      <td>2499.33</td>\n",
              "      <td>2444.0</td>\n",
              "      <td>2780.62</td>\n",
              "      <td>2265.557866</td>\n",
              "      <td>2017-06-28 00:01:00</td>\n",
              "    </tr>\n",
              "    <tr>\n",
              "      <th>77764</th>\n",
              "      <td>2337.18</td>\n",
              "      <td>2491.98</td>\n",
              "      <td>-6.211928</td>\n",
              "      <td>2337.18</td>\n",
              "      <td>2340.00</td>\n",
              "      <td>2307.0</td>\n",
              "      <td>2473.19</td>\n",
              "      <td>20732.082581</td>\n",
              "      <td>2017-06-28 00:02:00</td>\n",
              "    </tr>\n",
              "    <tr>\n",
              "      <th>77765</th>\n",
              "      <td>2492.76</td>\n",
              "      <td>2682.25</td>\n",
              "      <td>-7.064591</td>\n",
              "      <td>2492.76</td>\n",
              "      <td>2495.00</td>\n",
              "      <td>2444.0</td>\n",
              "      <td>2780.62</td>\n",
              "      <td>2262.618866</td>\n",
              "      <td>2017-06-28 00:02:00</td>\n",
              "    </tr>\n",
              "    <tr>\n",
              "      <th>77766</th>\n",
              "      <td>2335.02</td>\n",
              "      <td>2491.98</td>\n",
              "      <td>-6.298606</td>\n",
              "      <td>2335.01</td>\n",
              "      <td>2335.02</td>\n",
              "      <td>2307.0</td>\n",
              "      <td>2473.19</td>\n",
              "      <td>20665.357191</td>\n",
              "      <td>2017-06-28 00:03:00</td>\n",
              "    </tr>\n",
              "  </tbody>\n",
              "</table>\n",
              "</div>\n",
              "      <button class=\"colab-df-convert\" onclick=\"convertToInteractive('df-6dacc49b-8560-404f-b2eb-076d2a84fc65')\"\n",
              "              title=\"Convert this dataframe to an interactive table.\"\n",
              "              style=\"display:none;\">\n",
              "        \n",
              "  <svg xmlns=\"http://www.w3.org/2000/svg\" height=\"24px\"viewBox=\"0 0 24 24\"\n",
              "       width=\"24px\">\n",
              "    <path d=\"M0 0h24v24H0V0z\" fill=\"none\"/>\n",
              "    <path d=\"M18.56 5.44l.94 2.06.94-2.06 2.06-.94-2.06-.94-.94-2.06-.94 2.06-2.06.94zm-11 1L8.5 8.5l.94-2.06 2.06-.94-2.06-.94L8.5 2.5l-.94 2.06-2.06.94zm10 10l.94 2.06.94-2.06 2.06-.94-2.06-.94-.94-2.06-.94 2.06-2.06.94z\"/><path d=\"M17.41 7.96l-1.37-1.37c-.4-.4-.92-.59-1.43-.59-.52 0-1.04.2-1.43.59L10.3 9.45l-7.72 7.72c-.78.78-.78 2.05 0 2.83L4 21.41c.39.39.9.59 1.41.59.51 0 1.02-.2 1.41-.59l7.78-7.78 2.81-2.81c.8-.78.8-2.07 0-2.86zM5.41 20L4 18.59l7.72-7.72 1.47 1.35L5.41 20z\"/>\n",
              "  </svg>\n",
              "      </button>\n",
              "      \n",
              "  <style>\n",
              "    .colab-df-container {\n",
              "      display:flex;\n",
              "      flex-wrap:wrap;\n",
              "      gap: 12px;\n",
              "    }\n",
              "\n",
              "    .colab-df-convert {\n",
              "      background-color: #E8F0FE;\n",
              "      border: none;\n",
              "      border-radius: 50%;\n",
              "      cursor: pointer;\n",
              "      display: none;\n",
              "      fill: #1967D2;\n",
              "      height: 32px;\n",
              "      padding: 0 0 0 0;\n",
              "      width: 32px;\n",
              "    }\n",
              "\n",
              "    .colab-df-convert:hover {\n",
              "      background-color: #E2EBFA;\n",
              "      box-shadow: 0px 1px 2px rgba(60, 64, 67, 0.3), 0px 1px 3px 1px rgba(60, 64, 67, 0.15);\n",
              "      fill: #174EA6;\n",
              "    }\n",
              "\n",
              "    [theme=dark] .colab-df-convert {\n",
              "      background-color: #3B4455;\n",
              "      fill: #D2E3FC;\n",
              "    }\n",
              "\n",
              "    [theme=dark] .colab-df-convert:hover {\n",
              "      background-color: #434B5C;\n",
              "      box-shadow: 0px 1px 3px 1px rgba(0, 0, 0, 0.15);\n",
              "      filter: drop-shadow(0px 1px 2px rgba(0, 0, 0, 0.3));\n",
              "      fill: #FFFFFF;\n",
              "    }\n",
              "  </style>\n",
              "\n",
              "      <script>\n",
              "        const buttonEl =\n",
              "          document.querySelector('#df-6dacc49b-8560-404f-b2eb-076d2a84fc65 button.colab-df-convert');\n",
              "        buttonEl.style.display =\n",
              "          google.colab.kernel.accessAllowed ? 'block' : 'none';\n",
              "\n",
              "        async function convertToInteractive(key) {\n",
              "          const element = document.querySelector('#df-6dacc49b-8560-404f-b2eb-076d2a84fc65');\n",
              "          const dataTable =\n",
              "            await google.colab.kernel.invokeFunction('convertToInteractive',\n",
              "                                                     [key], {});\n",
              "          if (!dataTable) return;\n",
              "\n",
              "          const docLinkHtml = 'Like what you see? Visit the ' +\n",
              "            '<a target=\"_blank\" href=https://colab.research.google.com/notebooks/data_table.ipynb>data table notebook</a>'\n",
              "            + ' to learn more about interactive tables.';\n",
              "          element.innerHTML = '';\n",
              "          dataTable['output_type'] = 'display_data';\n",
              "          await google.colab.output.renderOutput(dataTable, element);\n",
              "          const docLink = document.createElement('div');\n",
              "          docLink.innerHTML = docLinkHtml;\n",
              "          element.appendChild(docLink);\n",
              "        }\n",
              "      </script>\n",
              "    </div>\n",
              "  </div>\n",
              "  "
            ]
          },
          "metadata": {},
          "execution_count": 10
        }
      ]
    },
    {
      "cell_type": "markdown",
      "source": [
        "> we require only the last value, so we subset that and convert it to numpy array"
      ],
      "metadata": {
        "id": "dplShBz5lQED"
      }
    },
    {
      "cell_type": "code",
      "source": [
        "df = data_frame[['last']]\n",
        "df.head()"
      ],
      "metadata": {
        "colab": {
          "base_uri": "https://localhost:8080/",
          "height": 206
        },
        "id": "A5rEK3V-lX0d",
        "outputId": "582c80a2-1eff-4c00-ed4a-0448514b8b2e"
      },
      "execution_count": null,
      "outputs": [
        {
          "output_type": "execute_result",
          "data": {
            "text/plain": [
              "          last\n",
              "77762  2344.00\n",
              "77763  2499.39\n",
              "77764  2337.18\n",
              "77765  2492.76\n",
              "77766  2335.02"
            ],
            "text/html": [
              "\n",
              "  <div id=\"df-516f4ec8-8a20-4b6b-8959-156ec486c1c8\">\n",
              "    <div class=\"colab-df-container\">\n",
              "      <div>\n",
              "<style scoped>\n",
              "    .dataframe tbody tr th:only-of-type {\n",
              "        vertical-align: middle;\n",
              "    }\n",
              "\n",
              "    .dataframe tbody tr th {\n",
              "        vertical-align: top;\n",
              "    }\n",
              "\n",
              "    .dataframe thead th {\n",
              "        text-align: right;\n",
              "    }\n",
              "</style>\n",
              "<table border=\"1\" class=\"dataframe\">\n",
              "  <thead>\n",
              "    <tr style=\"text-align: right;\">\n",
              "      <th></th>\n",
              "      <th>last</th>\n",
              "    </tr>\n",
              "  </thead>\n",
              "  <tbody>\n",
              "    <tr>\n",
              "      <th>77762</th>\n",
              "      <td>2344.00</td>\n",
              "    </tr>\n",
              "    <tr>\n",
              "      <th>77763</th>\n",
              "      <td>2499.39</td>\n",
              "    </tr>\n",
              "    <tr>\n",
              "      <th>77764</th>\n",
              "      <td>2337.18</td>\n",
              "    </tr>\n",
              "    <tr>\n",
              "      <th>77765</th>\n",
              "      <td>2492.76</td>\n",
              "    </tr>\n",
              "    <tr>\n",
              "      <th>77766</th>\n",
              "      <td>2335.02</td>\n",
              "    </tr>\n",
              "  </tbody>\n",
              "</table>\n",
              "</div>\n",
              "      <button class=\"colab-df-convert\" onclick=\"convertToInteractive('df-516f4ec8-8a20-4b6b-8959-156ec486c1c8')\"\n",
              "              title=\"Convert this dataframe to an interactive table.\"\n",
              "              style=\"display:none;\">\n",
              "        \n",
              "  <svg xmlns=\"http://www.w3.org/2000/svg\" height=\"24px\"viewBox=\"0 0 24 24\"\n",
              "       width=\"24px\">\n",
              "    <path d=\"M0 0h24v24H0V0z\" fill=\"none\"/>\n",
              "    <path d=\"M18.56 5.44l.94 2.06.94-2.06 2.06-.94-2.06-.94-.94-2.06-.94 2.06-2.06.94zm-11 1L8.5 8.5l.94-2.06 2.06-.94-2.06-.94L8.5 2.5l-.94 2.06-2.06.94zm10 10l.94 2.06.94-2.06 2.06-.94-2.06-.94-.94-2.06-.94 2.06-2.06.94z\"/><path d=\"M17.41 7.96l-1.37-1.37c-.4-.4-.92-.59-1.43-.59-.52 0-1.04.2-1.43.59L10.3 9.45l-7.72 7.72c-.78.78-.78 2.05 0 2.83L4 21.41c.39.39.9.59 1.41.59.51 0 1.02-.2 1.41-.59l7.78-7.78 2.81-2.81c.8-.78.8-2.07 0-2.86zM5.41 20L4 18.59l7.72-7.72 1.47 1.35L5.41 20z\"/>\n",
              "  </svg>\n",
              "      </button>\n",
              "      \n",
              "  <style>\n",
              "    .colab-df-container {\n",
              "      display:flex;\n",
              "      flex-wrap:wrap;\n",
              "      gap: 12px;\n",
              "    }\n",
              "\n",
              "    .colab-df-convert {\n",
              "      background-color: #E8F0FE;\n",
              "      border: none;\n",
              "      border-radius: 50%;\n",
              "      cursor: pointer;\n",
              "      display: none;\n",
              "      fill: #1967D2;\n",
              "      height: 32px;\n",
              "      padding: 0 0 0 0;\n",
              "      width: 32px;\n",
              "    }\n",
              "\n",
              "    .colab-df-convert:hover {\n",
              "      background-color: #E2EBFA;\n",
              "      box-shadow: 0px 1px 2px rgba(60, 64, 67, 0.3), 0px 1px 3px 1px rgba(60, 64, 67, 0.15);\n",
              "      fill: #174EA6;\n",
              "    }\n",
              "\n",
              "    [theme=dark] .colab-df-convert {\n",
              "      background-color: #3B4455;\n",
              "      fill: #D2E3FC;\n",
              "    }\n",
              "\n",
              "    [theme=dark] .colab-df-convert:hover {\n",
              "      background-color: #434B5C;\n",
              "      box-shadow: 0px 1px 3px 1px rgba(0, 0, 0, 0.15);\n",
              "      filter: drop-shadow(0px 1px 2px rgba(0, 0, 0, 0.3));\n",
              "      fill: #FFFFFF;\n",
              "    }\n",
              "  </style>\n",
              "\n",
              "      <script>\n",
              "        const buttonEl =\n",
              "          document.querySelector('#df-516f4ec8-8a20-4b6b-8959-156ec486c1c8 button.colab-df-convert');\n",
              "        buttonEl.style.display =\n",
              "          google.colab.kernel.accessAllowed ? 'block' : 'none';\n",
              "\n",
              "        async function convertToInteractive(key) {\n",
              "          const element = document.querySelector('#df-516f4ec8-8a20-4b6b-8959-156ec486c1c8');\n",
              "          const dataTable =\n",
              "            await google.colab.kernel.invokeFunction('convertToInteractive',\n",
              "                                                     [key], {});\n",
              "          if (!dataTable) return;\n",
              "\n",
              "          const docLinkHtml = 'Like what you see? Visit the ' +\n",
              "            '<a target=\"_blank\" href=https://colab.research.google.com/notebooks/data_table.ipynb>data table notebook</a>'\n",
              "            + ' to learn more about interactive tables.';\n",
              "          element.innerHTML = '';\n",
              "          dataTable['output_type'] = 'display_data';\n",
              "          await google.colab.output.renderOutput(dataTable, element);\n",
              "          const docLink = document.createElement('div');\n",
              "          docLink.innerHTML = docLinkHtml;\n",
              "          element.appendChild(docLink);\n",
              "        }\n",
              "      </script>\n",
              "    </div>\n",
              "  </div>\n",
              "  "
            ]
          },
          "metadata": {},
          "execution_count": 12
        }
      ]
    },
    {
      "cell_type": "code",
      "source": [
        "dataset = df.values\n",
        "dataset = dataset.astype('float32')\n",
        "dataset"
      ],
      "metadata": {
        "colab": {
          "base_uri": "https://localhost:8080/"
        },
        "id": "uhbynElph5h_",
        "outputId": "c79eef78-8b54-4d8e-b90d-bdf272385f60"
      },
      "execution_count": null,
      "outputs": [
        {
          "output_type": "execute_result",
          "data": {
            "text/plain": [
              "array([[2344.  ],\n",
              "       [2499.39],\n",
              "       [2337.18],\n",
              "       ...,\n",
              "       [2394.03],\n",
              "       [2320.47],\n",
              "       [2394.03]], dtype=float32)"
            ]
          },
          "metadata": {},
          "execution_count": 16
        }
      ]
    },
    {
      "cell_type": "markdown",
      "source": [
        ">Neural networks are sensitive to input data, especiallly when we are using activation functions like sigmoid or tanh activation functions are used. So we rescale our data to the range of 0-to-1, using MinMaxScaler"
      ],
      "metadata": {
        "id": "r0zpF7OOjYS1"
      }
    },
    {
      "cell_type": "code",
      "source": [
        "scaler = MinMaxScaler(feature_range=(0, 1))\n",
        "dataset = scaler.fit_transform(dataset)"
      ],
      "metadata": {
        "id": "Jyxil6E4ktJq"
      },
      "execution_count": null,
      "outputs": []
    },
    {
      "cell_type": "code",
      "source": [
        "dataset"
      ],
      "metadata": {
        "colab": {
          "base_uri": "https://localhost:8080/"
        },
        "id": "Zpw4HCHPlepB",
        "outputId": "a8277065-5d73-4f43-9ebf-b71c4b34deba"
      },
      "execution_count": null,
      "outputs": [
        {
          "output_type": "execute_result",
          "data": {
            "text/plain": [
              "array([[0.1997695 ],\n",
              "       [0.49828053],\n",
              "       [0.18666792],\n",
              "       ...,\n",
              "       [0.29587936],\n",
              "       [0.15456724],\n",
              "       [0.29587936]], dtype=float32)"
            ]
          },
          "metadata": {},
          "execution_count": 18
        }
      ]
    },
    {
      "cell_type": "code",
      "source": [
        "train_size = int(len(dataset) * 0.67)\n",
        "test_size = len(dataset) - train_size\n",
        "train, test = dataset[0:train_size, :], dataset[train_size:len(dataset), :]\n",
        "print(len(train), len(test))"
      ],
      "metadata": {
        "colab": {
          "base_uri": "https://localhost:8080/"
        },
        "id": "VdAYaRdbmA-c",
        "outputId": "e24d9c0f-5bae-4956-875e-b0c0668653f2"
      },
      "execution_count": null,
      "outputs": [
        {
          "output_type": "stream",
          "name": "stdout",
          "text": [
            "31942 15734\n"
          ]
        }
      ]
    },
    {
      "cell_type": "markdown",
      "source": [
        ">Now let us define the function called create_dataset, which take two inputs,\n",
        "1. Dataset - numpy array that we want to convert into a dataset,\n",
        "2. look_back - number of previous time steps to use as input variables to predict the next time period"
      ],
      "metadata": {
        "id": "fs4PLo8Yqyap"
      }
    },
    {
      "cell_type": "code",
      "source": [
        "# convert an array of values into a dataset\n",
        "def create_dataset(dataset, look_back=1):\n",
        "  dataX, dataY = [], []\n",
        "  for i in range(len(dataset)-look_back-1):\n",
        "    a = dataset[i:(i+look_back), 0]\n",
        "    dataX.append(a)\n",
        "    dataY.append(dataset[i + look_back, 0])\n",
        "  return np.array(dataX), np.array(dataY)"
      ],
      "metadata": {
        "id": "YYxSnNlJrIeY"
      },
      "execution_count": null,
      "outputs": []
    },
    {
      "cell_type": "code",
      "source": [
        "look_back = 10\n",
        "trainX, trainY = create_dataset(train, look_back=look_back)\n",
        "testX, testY = create_dataset(test, look_back=look_back)"
      ],
      "metadata": {
        "id": "DRH1oD-muDBS"
      },
      "execution_count": null,
      "outputs": []
    },
    {
      "cell_type": "code",
      "source": [
        "trainX"
      ],
      "metadata": {
        "colab": {
          "base_uri": "https://localhost:8080/"
        },
        "id": "43dPUfgGvPfP",
        "outputId": "04425508-ce44-4be7-f9c2-bb307dc40333"
      },
      "execution_count": null,
      "outputs": [
        {
          "output_type": "execute_result",
          "data": {
            "text/plain": [
              "array([[0.1997695 , 0.49828053, 0.18666792, ..., 0.4975314 , 0.19973087,\n",
              "        0.4860053 ],\n",
              "       [0.49828053, 0.18666792, 0.4855442 , ..., 0.19973087, 0.4860053 ,\n",
              "        0.18442059],\n",
              "       [0.18666792, 0.4855442 , 0.18251848, ..., 0.4860053 , 0.18442059,\n",
              "        0.48598576],\n",
              "       ...,\n",
              "       [0.53376245, 0.6943617 , 0.53105354, ..., 0.7082124 , 0.5205841 ,\n",
              "        0.7081547 ],\n",
              "       [0.6943617 , 0.53105354, 0.70823145, ..., 0.5205841 , 0.7081547 ,\n",
              "        0.52665424],\n",
              "       [0.53105354, 0.70823145, 0.5332055 , ..., 0.7081547 , 0.52665424,\n",
              "        0.7081547 ]], dtype=float32)"
            ]
          },
          "metadata": {},
          "execution_count": 22
        }
      ]
    },
    {
      "cell_type": "code",
      "source": [
        "trainY"
      ],
      "metadata": {
        "colab": {
          "base_uri": "https://localhost:8080/"
        },
        "id": "ZjuAz2vix8DY",
        "outputId": "4a66166c-c3d3-4764-c7b1-0e04f8efa870"
      },
      "execution_count": null,
      "outputs": [
        {
          "output_type": "execute_result",
          "data": {
            "text/plain": [
              "array([0.18442059, 0.48598576, 0.19208527, ..., 0.52665424, 0.7081547 ,\n",
              "       0.5206418 ], dtype=float32)"
            ]
          },
          "metadata": {},
          "execution_count": 23
        }
      ]
    },
    {
      "cell_type": "code",
      "source": [
        "# reshape input to be [samples, time steps, features]\n",
        "trainX = np.reshape(trainX, (trainX.shape[0], 1, trainX.shape[1]))\n",
        "testX = np.reshape(testX, (testX.shape[0], 1, testX.shape[1]))"
      ],
      "metadata": {
        "id": "2UekpGaByDby"
      },
      "execution_count": null,
      "outputs": []
    },
    {
      "cell_type": "markdown",
      "source": [
        ">Build our Model"
      ],
      "metadata": {
        "id": "0MBQFJmOzKRv"
      }
    },
    {
      "cell_type": "code",
      "source": [
        "model = Sequential()\n",
        "model.add(LSTM(4, input_shape=(1, look_back)))\n",
        "model.add(Dense(1))\n",
        "model.compile(loss='mean_squared_error', optimizer='adam')\n",
        "model.fit(trainX, trainY, epochs=100, batch_size=256, verbose=2)"
      ],
      "metadata": {
        "colab": {
          "base_uri": "https://localhost:8080/"
        },
        "id": "QMmwoccazRHv",
        "outputId": "242a549e-9e61-49b9-ffb9-116c14d021e2"
      },
      "execution_count": null,
      "outputs": [
        {
          "output_type": "stream",
          "name": "stdout",
          "text": [
            "Epoch 1/100\n",
            "125/125 - 3s - loss: 0.4481 - 3s/epoch - 22ms/step\n",
            "Epoch 2/100\n",
            "125/125 - 0s - loss: 0.0359 - 255ms/epoch - 2ms/step\n",
            "Epoch 3/100\n",
            "125/125 - 0s - loss: 0.0197 - 286ms/epoch - 2ms/step\n",
            "Epoch 4/100\n",
            "125/125 - 0s - loss: 0.0159 - 266ms/epoch - 2ms/step\n",
            "Epoch 5/100\n",
            "125/125 - 0s - loss: 0.0127 - 264ms/epoch - 2ms/step\n",
            "Epoch 6/100\n",
            "125/125 - 0s - loss: 0.0100 - 257ms/epoch - 2ms/step\n",
            "Epoch 7/100\n",
            "125/125 - 0s - loss: 0.0077 - 274ms/epoch - 2ms/step\n",
            "Epoch 8/100\n",
            "125/125 - 0s - loss: 0.0059 - 276ms/epoch - 2ms/step\n",
            "Epoch 9/100\n",
            "125/125 - 0s - loss: 0.0044 - 256ms/epoch - 2ms/step\n",
            "Epoch 10/100\n",
            "125/125 - 0s - loss: 0.0033 - 273ms/epoch - 2ms/step\n",
            "Epoch 11/100\n",
            "125/125 - 0s - loss: 0.0024 - 277ms/epoch - 2ms/step\n",
            "Epoch 12/100\n",
            "125/125 - 0s - loss: 0.0019 - 283ms/epoch - 2ms/step\n",
            "Epoch 13/100\n",
            "125/125 - 0s - loss: 0.0014 - 247ms/epoch - 2ms/step\n",
            "Epoch 14/100\n",
            "125/125 - 0s - loss: 0.0011 - 307ms/epoch - 2ms/step\n",
            "Epoch 15/100\n",
            "125/125 - 0s - loss: 9.2368e-04 - 304ms/epoch - 2ms/step\n",
            "Epoch 16/100\n",
            "125/125 - 0s - loss: 7.5081e-04 - 273ms/epoch - 2ms/step\n",
            "Epoch 17/100\n",
            "125/125 - 0s - loss: 6.1391e-04 - 290ms/epoch - 2ms/step\n",
            "Epoch 18/100\n",
            "125/125 - 0s - loss: 5.0632e-04 - 277ms/epoch - 2ms/step\n",
            "Epoch 19/100\n",
            "125/125 - 0s - loss: 4.2249e-04 - 267ms/epoch - 2ms/step\n",
            "Epoch 20/100\n",
            "125/125 - 0s - loss: 3.5886e-04 - 270ms/epoch - 2ms/step\n",
            "Epoch 21/100\n",
            "125/125 - 0s - loss: 3.1139e-04 - 277ms/epoch - 2ms/step\n",
            "Epoch 22/100\n",
            "125/125 - 0s - loss: 2.7648e-04 - 282ms/epoch - 2ms/step\n",
            "Epoch 23/100\n",
            "125/125 - 0s - loss: 2.5121e-04 - 269ms/epoch - 2ms/step\n",
            "Epoch 24/100\n",
            "125/125 - 0s - loss: 2.3285e-04 - 294ms/epoch - 2ms/step\n",
            "Epoch 25/100\n",
            "125/125 - 0s - loss: 2.1929e-04 - 295ms/epoch - 2ms/step\n",
            "Epoch 26/100\n",
            "125/125 - 0s - loss: 2.0913e-04 - 285ms/epoch - 2ms/step\n",
            "Epoch 27/100\n",
            "125/125 - 0s - loss: 2.0112e-04 - 276ms/epoch - 2ms/step\n",
            "Epoch 28/100\n",
            "125/125 - 0s - loss: 1.9428e-04 - 292ms/epoch - 2ms/step\n",
            "Epoch 29/100\n",
            "125/125 - 0s - loss: 1.8841e-04 - 289ms/epoch - 2ms/step\n",
            "Epoch 30/100\n",
            "125/125 - 0s - loss: 1.8291e-04 - 289ms/epoch - 2ms/step\n",
            "Epoch 31/100\n",
            "125/125 - 0s - loss: 1.7794e-04 - 303ms/epoch - 2ms/step\n",
            "Epoch 32/100\n",
            "125/125 - 0s - loss: 1.7303e-04 - 305ms/epoch - 2ms/step\n",
            "Epoch 33/100\n",
            "125/125 - 0s - loss: 1.6836e-04 - 281ms/epoch - 2ms/step\n",
            "Epoch 34/100\n",
            "125/125 - 0s - loss: 1.6395e-04 - 285ms/epoch - 2ms/step\n",
            "Epoch 35/100\n",
            "125/125 - 0s - loss: 1.5980e-04 - 271ms/epoch - 2ms/step\n",
            "Epoch 36/100\n",
            "125/125 - 0s - loss: 1.5579e-04 - 280ms/epoch - 2ms/step\n",
            "Epoch 37/100\n",
            "125/125 - 0s - loss: 1.5212e-04 - 255ms/epoch - 2ms/step\n",
            "Epoch 38/100\n",
            "125/125 - 0s - loss: 1.4861e-04 - 266ms/epoch - 2ms/step\n",
            "Epoch 39/100\n",
            "125/125 - 0s - loss: 1.4525e-04 - 264ms/epoch - 2ms/step\n",
            "Epoch 40/100\n",
            "125/125 - 0s - loss: 1.4235e-04 - 267ms/epoch - 2ms/step\n",
            "Epoch 41/100\n",
            "125/125 - 0s - loss: 1.3988e-04 - 254ms/epoch - 2ms/step\n",
            "Epoch 42/100\n",
            "125/125 - 0s - loss: 1.3719e-04 - 263ms/epoch - 2ms/step\n",
            "Epoch 43/100\n",
            "125/125 - 0s - loss: 1.3487e-04 - 292ms/epoch - 2ms/step\n",
            "Epoch 44/100\n",
            "125/125 - 0s - loss: 1.3275e-04 - 257ms/epoch - 2ms/step\n",
            "Epoch 45/100\n",
            "125/125 - 0s - loss: 1.3065e-04 - 290ms/epoch - 2ms/step\n",
            "Epoch 46/100\n",
            "125/125 - 0s - loss: 1.2877e-04 - 301ms/epoch - 2ms/step\n",
            "Epoch 47/100\n",
            "125/125 - 0s - loss: 1.2723e-04 - 297ms/epoch - 2ms/step\n",
            "Epoch 48/100\n",
            "125/125 - 0s - loss: 1.2555e-04 - 293ms/epoch - 2ms/step\n",
            "Epoch 49/100\n",
            "125/125 - 0s - loss: 1.2425e-04 - 293ms/epoch - 2ms/step\n",
            "Epoch 50/100\n",
            "125/125 - 0s - loss: 1.2282e-04 - 284ms/epoch - 2ms/step\n",
            "Epoch 51/100\n",
            "125/125 - 0s - loss: 1.2170e-04 - 269ms/epoch - 2ms/step\n",
            "Epoch 52/100\n",
            "125/125 - 0s - loss: 1.2047e-04 - 264ms/epoch - 2ms/step\n",
            "Epoch 53/100\n",
            "125/125 - 0s - loss: 1.1894e-04 - 263ms/epoch - 2ms/step\n",
            "Epoch 54/100\n",
            "125/125 - 0s - loss: 1.1787e-04 - 280ms/epoch - 2ms/step\n",
            "Epoch 55/100\n",
            "125/125 - 0s - loss: 1.1645e-04 - 257ms/epoch - 2ms/step\n",
            "Epoch 56/100\n",
            "125/125 - 0s - loss: 1.1595e-04 - 258ms/epoch - 2ms/step\n",
            "Epoch 57/100\n",
            "125/125 - 0s - loss: 1.1452e-04 - 272ms/epoch - 2ms/step\n",
            "Epoch 58/100\n",
            "125/125 - 0s - loss: 1.1334e-04 - 290ms/epoch - 2ms/step\n",
            "Epoch 59/100\n",
            "125/125 - 0s - loss: 1.1247e-04 - 276ms/epoch - 2ms/step\n",
            "Epoch 60/100\n",
            "125/125 - 0s - loss: 1.1107e-04 - 261ms/epoch - 2ms/step\n",
            "Epoch 61/100\n",
            "125/125 - 0s - loss: 1.1080e-04 - 284ms/epoch - 2ms/step\n",
            "Epoch 62/100\n",
            "125/125 - 0s - loss: 1.0922e-04 - 269ms/epoch - 2ms/step\n",
            "Epoch 63/100\n",
            "125/125 - 0s - loss: 1.0819e-04 - 270ms/epoch - 2ms/step\n",
            "Epoch 64/100\n",
            "125/125 - 0s - loss: 1.0734e-04 - 269ms/epoch - 2ms/step\n",
            "Epoch 65/100\n",
            "125/125 - 0s - loss: 1.0622e-04 - 289ms/epoch - 2ms/step\n",
            "Epoch 66/100\n",
            "125/125 - 0s - loss: 1.0542e-04 - 275ms/epoch - 2ms/step\n",
            "Epoch 67/100\n",
            "125/125 - 0s - loss: 1.0506e-04 - 295ms/epoch - 2ms/step\n",
            "Epoch 68/100\n",
            "125/125 - 0s - loss: 1.0349e-04 - 319ms/epoch - 3ms/step\n",
            "Epoch 69/100\n",
            "125/125 - 0s - loss: 1.0342e-04 - 277ms/epoch - 2ms/step\n",
            "Epoch 70/100\n",
            "125/125 - 0s - loss: 1.0240e-04 - 284ms/epoch - 2ms/step\n",
            "Epoch 71/100\n",
            "125/125 - 0s - loss: 1.0147e-04 - 277ms/epoch - 2ms/step\n",
            "Epoch 72/100\n",
            "125/125 - 0s - loss: 1.0013e-04 - 283ms/epoch - 2ms/step\n",
            "Epoch 73/100\n",
            "125/125 - 0s - loss: 1.0074e-04 - 266ms/epoch - 2ms/step\n",
            "Epoch 74/100\n",
            "125/125 - 0s - loss: 9.9119e-05 - 262ms/epoch - 2ms/step\n",
            "Epoch 75/100\n",
            "125/125 - 0s - loss: 9.9378e-05 - 277ms/epoch - 2ms/step\n",
            "Epoch 76/100\n",
            "125/125 - 0s - loss: 9.7767e-05 - 284ms/epoch - 2ms/step\n",
            "Epoch 77/100\n",
            "125/125 - 0s - loss: 9.7459e-05 - 270ms/epoch - 2ms/step\n",
            "Epoch 78/100\n",
            "125/125 - 0s - loss: 9.6391e-05 - 287ms/epoch - 2ms/step\n",
            "Epoch 79/100\n",
            "125/125 - 0s - loss: 9.6084e-05 - 289ms/epoch - 2ms/step\n",
            "Epoch 80/100\n",
            "125/125 - 0s - loss: 9.5814e-05 - 294ms/epoch - 2ms/step\n",
            "Epoch 81/100\n",
            "125/125 - 0s - loss: 9.5376e-05 - 281ms/epoch - 2ms/step\n",
            "Epoch 82/100\n",
            "125/125 - 0s - loss: 9.4631e-05 - 309ms/epoch - 2ms/step\n",
            "Epoch 83/100\n",
            "125/125 - 0s - loss: 9.3640e-05 - 283ms/epoch - 2ms/step\n",
            "Epoch 84/100\n",
            "125/125 - 0s - loss: 9.3233e-05 - 324ms/epoch - 3ms/step\n",
            "Epoch 85/100\n",
            "125/125 - 0s - loss: 9.2880e-05 - 272ms/epoch - 2ms/step\n",
            "Epoch 86/100\n",
            "125/125 - 0s - loss: 9.2381e-05 - 288ms/epoch - 2ms/step\n",
            "Epoch 87/100\n",
            "125/125 - 0s - loss: 9.2100e-05 - 291ms/epoch - 2ms/step\n",
            "Epoch 88/100\n",
            "125/125 - 0s - loss: 9.1656e-05 - 273ms/epoch - 2ms/step\n",
            "Epoch 89/100\n",
            "125/125 - 0s - loss: 9.1761e-05 - 288ms/epoch - 2ms/step\n",
            "Epoch 90/100\n",
            "125/125 - 0s - loss: 9.0988e-05 - 299ms/epoch - 2ms/step\n",
            "Epoch 91/100\n",
            "125/125 - 0s - loss: 9.1077e-05 - 272ms/epoch - 2ms/step\n",
            "Epoch 92/100\n",
            "125/125 - 0s - loss: 9.0013e-05 - 277ms/epoch - 2ms/step\n",
            "Epoch 93/100\n",
            "125/125 - 0s - loss: 9.0208e-05 - 280ms/epoch - 2ms/step\n",
            "Epoch 94/100\n",
            "125/125 - 0s - loss: 8.9333e-05 - 280ms/epoch - 2ms/step\n",
            "Epoch 95/100\n",
            "125/125 - 0s - loss: 8.8667e-05 - 272ms/epoch - 2ms/step\n",
            "Epoch 96/100\n",
            "125/125 - 0s - loss: 8.8144e-05 - 315ms/epoch - 3ms/step\n",
            "Epoch 97/100\n",
            "125/125 - 0s - loss: 8.9238e-05 - 302ms/epoch - 2ms/step\n",
            "Epoch 98/100\n",
            "125/125 - 0s - loss: 8.8408e-05 - 278ms/epoch - 2ms/step\n",
            "Epoch 99/100\n",
            "125/125 - 0s - loss: 8.8151e-05 - 305ms/epoch - 2ms/step\n",
            "Epoch 100/100\n",
            "125/125 - 0s - loss: 8.7464e-05 - 315ms/epoch - 3ms/step\n"
          ]
        },
        {
          "output_type": "execute_result",
          "data": {
            "text/plain": [
              "<keras.callbacks.History at 0x7f335f1ceb10>"
            ]
          },
          "metadata": {},
          "execution_count": 25
        }
      ]
    },
    {
      "cell_type": "code",
      "source": [
        "trainPredict = model.predict(trainX)\n",
        "testPredict = model.predict(testX)"
      ],
      "metadata": {
        "id": "O-1-6Oh40E4y"
      },
      "execution_count": null,
      "outputs": []
    },
    {
      "cell_type": "markdown",
      "source": [
        ">We have to invert the predictions before calculating error to so that reports will be in same units as our original data"
      ],
      "metadata": {
        "id": "KSUTHTbx3DLd"
      }
    },
    {
      "cell_type": "code",
      "source": [
        "trainPredict = scaler.inverse_transform(trainPredict)\n",
        "trainY = scaler.inverse_transform([trainY])\n",
        "testPredict = scaler.inverse_transform(testPredict)\n",
        "testY = scaler.inverse_transform([testY])"
      ],
      "metadata": {
        "id": "mTAG2Sy33GW2"
      },
      "execution_count": null,
      "outputs": []
    },
    {
      "cell_type": "code",
      "source": [
        "trainScore = math.sqrt(mean_squared_error(trainY[0], trainPredict[:, 0]))\n",
        "print('Train Score: %.2f RMSE' % (trainScore))\n",
        "testScore = math.sqrt(mean_squared_error(testY[0], testPredict[:, 0]))\n",
        "print('Test Score: %.2f RMSE' % (testScore))"
      ],
      "metadata": {
        "colab": {
          "base_uri": "https://localhost:8080/"
        },
        "id": "gurvlnvx4E6R",
        "outputId": "249e6492-b49b-40e8-9c86-2d2a8a7db0de"
      },
      "execution_count": null,
      "outputs": [
        {
          "output_type": "stream",
          "name": "stdout",
          "text": [
            "Train Score: 4.85 RMSE\n",
            "Test Score: 6.83 RMSE\n"
          ]
        }
      ]
    },
    {
      "cell_type": "code",
      "source": [
        "# shift train predictions for plotting\n",
        "trainPredictPlot = np.empty_like(dataset)\n",
        "trainPredictPlot[:, :] = np.nan\n",
        "trainPredictPlot[look_back:len(trainPredict) + look_back, :] = trainPredict\n"
      ],
      "metadata": {
        "id": "2cSq8S3N5hOn"
      },
      "execution_count": null,
      "outputs": []
    },
    {
      "cell_type": "code",
      "source": [
        "# shift test predictions for plotting\n",
        "testPredictPlot = np.empty_like(dataset)\n",
        "testPredictPlot[:, :] = np.nan\n",
        "testPredictPlot[len(trainPredict) + (look_back * 2) + 1:len(dataset) - 1, :] = testPredict"
      ],
      "metadata": {
        "id": "HcXChc386lmR"
      },
      "execution_count": null,
      "outputs": []
    },
    {
      "cell_type": "code",
      "source": [
        "plt.plot(df['last'], label='Actual')\n",
        "plt.plot(pd.DataFrame(trainPredictPlot, columns=[\"close\"], index=df.index).close, label='Training')\n",
        "plt.plot(pd.DataFrame(testPredictPlot, columns=[\"close\"], index=df.index).close, label='Testing')\n",
        "plt.legend(loc='best')\n",
        "plt.show()"
      ],
      "metadata": {
        "colab": {
          "base_uri": "https://localhost:8080/",
          "height": 265
        },
        "id": "j_Yls72j65Lg",
        "outputId": "05a6bf36-7c0e-474c-b9df-82a8c4270d5d"
      },
      "execution_count": null,
      "outputs": [
        {
          "output_type": "display_data",
          "data": {
            "text/plain": [
              "<Figure size 432x288 with 1 Axes>"
            ],
            "image/png": "[encoded data removed]"
          },
          "metadata": {
            "needs_background": "light"
          }
        }
      ]
    }
  ]
}