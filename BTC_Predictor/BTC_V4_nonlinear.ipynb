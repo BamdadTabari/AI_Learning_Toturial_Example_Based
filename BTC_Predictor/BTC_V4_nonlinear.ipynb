{
  "nbformat": 4,
  "nbformat_minor": 0,
  "metadata": {
    "colab": {
      "name": "BTC_V4_nonlinear.ipynb",
      "provenance": [],
      "collapsed_sections": []
    },
    "kernelspec": {
      "name": "python3",
      "display_name": "Python 3"
    },
    "language_info": {
      "name": "python"
    }
  },
  "cells": [
    {
      "cell_type": "markdown",
      "source": [
        "# What is this?\n",
        "in this part I gonna see how much my model doing well. \n",
        "\n",
        "we learn here how to normalize our data, add layer to our model.\n",
        "\n",
        "check model characteristic measurments like \"RecaLL\"\n",
        "\n",
        "And more important is that we finally see binary classification in action"
      ],
      "metadata": {
        "id": "WGmWKa7a35fq"
      }
    },
    {
      "cell_type": "code",
      "source": [
        "#@title Run on TensorFlow 2.x\n",
        "%tensorflow_version 2.x"
      ],
      "metadata": {
        "colab": {
          "base_uri": "https://localhost:8080/"
        },
        "id": "19HTv1bs4dZ3",
        "outputId": "ef2ec019-d315-4961-d21a-016f90d29f4f"
      },
      "execution_count": 1,
      "outputs": [
        {
          "output_type": "stream",
          "name": "stdout",
          "text": [
            "Colab only includes TensorFlow 2.x; %tensorflow_version has no effect.\n"
          ]
        }
      ]
    },
    {
      "cell_type": "code",
      "source": [
        "from google.colab import drive\n",
        "drive.mount('/content/drive')"
      ],
      "metadata": {
        "id": "HJmV_voHfiLY"
      },
      "execution_count": null,
      "outputs": []
    },
    {
      "cell_type": "code",
      "source": [
        "#  Import libs that we need /  be sure you read a bit about them\n",
        "\n",
        "\n",
        "import numpy as np\n",
        "import pandas as pd\n",
        "import tensorflow as tf\n",
        "from tensorflow.keras import layers\n",
        "from matplotlib import pyplot as plt\n",
        "\n",
        "# these are pandas configs\n",
        "# The following lines adjust the granularity of reporting.\n",
        "pd.options.display.max_rows = 10\n",
        "pd.options.display.float_format = \"{:.1f}\".format\n",
        "\n",
        "# nothing to attention. just config keras float data type\n",
        "tf.keras.backend.set_floatx('float32')"
      ],
      "metadata": {
        "id": "bS09ooY24mov"
      },
      "execution_count": 2,
      "outputs": []
    },
    {
      "cell_type": "code",
      "source": [
        "# like last verions we just get our row data from csv/  you can download it from my repo\n",
        "\n",
        "# get all data\n",
        "data_frame = pd.read_csv(\"/content/drive/MyDrive/bitcoin_ticker.csv\")\n",
        "# get btc data\n",
        "data_frame = data_frame.loc[(data_frame['rpt_key'] == 'btc_usd')]\n",
        "# in next versions we dont delete this columns at all. we del these here just to be simple for now\n",
        "del data_frame[\"datetime_id\"]\n",
        "del data_frame[\"date_id\"]\n",
        "del data_frame[\"created_at\"]\n",
        "del data_frame[\"updated_at\"]\n",
        "del data_frame[\"market\"]\n",
        "del data_frame[\"rpt_key\"]\n",
        "del data_frame[\"bid\"]\n",
        "del data_frame[\"ask\"]\n",
        " # shuffle the data_frame before doing anything\n",
        "data_frame = data_frame.reindex(np.random.permutation(data_frame.index))\n",
        "\n",
        "#  a big BUUUUT : we are not gonna use scale factor  we just gonna use z-score you will see\n",
        "# first let me build train and test dataset\n",
        "# build train data frame and test data frame\n",
        "train_last_index = int(len(data_frame) * 0.80)\n",
        "train_df, test_df = data_frame.iloc[0:train_last_index], data_frame.iloc[train_last_index:len(data_frame) + 1] # i just add +1 to make sure wont get anny train data in test data\n",
        " # shuffle the train_df after doing sepration\n",
        "train_df = train_df.reindex(np.random.permutation(train_df.index))\n",
        "train_df.head()"
      ],
      "metadata": {
        "id": "umyYcpF85l5K",
        "colab": {
          "base_uri": "https://localhost:8080/",
          "height": 206
        },
        "outputId": "6683acd4-8dd5-48a7-cbf7-766fc5825736"
      },
      "execution_count": 8,
      "outputs": [
        {
          "output_type": "execute_result",
          "data": {
            "text/plain": [
              "         last  diff_24h  diff_per_24h    low   high  volume\n",
              "553394 2659.5    2569.0           3.5 2520.0 2690.0   699.0\n",
              "194974 2801.8    2795.6           0.2 2700.0 2862.0  2543.7\n",
              "383673 2446.1    2492.0          -1.8 2315.0 2541.0 22662.8\n",
              "555034 2659.6    2576.0           3.2 2561.0 2690.0   632.7\n",
              "476703 2554.2    2475.6           3.2 2470.0 2595.0 11856.2"
            ],
            "text/html": [
              "\n",
              "  <div id=\"df-edac85f9-230a-4e92-a7e2-ef9f2dcb1ef6\">\n",
              "    <div class=\"colab-df-container\">\n",
              "      <div>\n",
              "<style scoped>\n",
              "    .dataframe tbody tr th:only-of-type {\n",
              "        vertical-align: middle;\n",
              "    }\n",
              "\n",
              "    .dataframe tbody tr th {\n",
              "        vertical-align: top;\n",
              "    }\n",
              "\n",
              "    .dataframe thead th {\n",
              "        text-align: right;\n",
              "    }\n",
              "</style>\n",
              "<table border=\"1\" class=\"dataframe\">\n",
              "  <thead>\n",
              "    <tr style=\"text-align: right;\">\n",
              "      <th></th>\n",
              "      <th>last</th>\n",
              "      <th>diff_24h</th>\n",
              "      <th>diff_per_24h</th>\n",
              "      <th>low</th>\n",
              "      <th>high</th>\n",
              "      <th>volume</th>\n",
              "    </tr>\n",
              "  </thead>\n",
              "  <tbody>\n",
              "    <tr>\n",
              "      <th>553394</th>\n",
              "      <td>2659.5</td>\n",
              "      <td>2569.0</td>\n",
              "      <td>3.5</td>\n",
              "      <td>2520.0</td>\n",
              "      <td>2690.0</td>\n",
              "      <td>699.0</td>\n",
              "    </tr>\n",
              "    <tr>\n",
              "      <th>194974</th>\n",
              "      <td>2801.8</td>\n",
              "      <td>2795.6</td>\n",
              "      <td>0.2</td>\n",
              "      <td>2700.0</td>\n",
              "      <td>2862.0</td>\n",
              "      <td>2543.7</td>\n",
              "    </tr>\n",
              "    <tr>\n",
              "      <th>383673</th>\n",
              "      <td>2446.1</td>\n",
              "      <td>2492.0</td>\n",
              "      <td>-1.8</td>\n",
              "      <td>2315.0</td>\n",
              "      <td>2541.0</td>\n",
              "      <td>22662.8</td>\n",
              "    </tr>\n",
              "    <tr>\n",
              "      <th>555034</th>\n",
              "      <td>2659.6</td>\n",
              "      <td>2576.0</td>\n",
              "      <td>3.2</td>\n",
              "      <td>2561.0</td>\n",
              "      <td>2690.0</td>\n",
              "      <td>632.7</td>\n",
              "    </tr>\n",
              "    <tr>\n",
              "      <th>476703</th>\n",
              "      <td>2554.2</td>\n",
              "      <td>2475.6</td>\n",
              "      <td>3.2</td>\n",
              "      <td>2470.0</td>\n",
              "      <td>2595.0</td>\n",
              "      <td>11856.2</td>\n",
              "    </tr>\n",
              "  </tbody>\n",
              "</table>\n",
              "</div>\n",
              "      <button class=\"colab-df-convert\" onclick=\"convertToInteractive('df-edac85f9-230a-4e92-a7e2-ef9f2dcb1ef6')\"\n",
              "              title=\"Convert this dataframe to an interactive table.\"\n",
              "              style=\"display:none;\">\n",
              "        \n",
              "  <svg xmlns=\"http://www.w3.org/2000/svg\" height=\"24px\"viewBox=\"0 0 24 24\"\n",
              "       width=\"24px\">\n",
              "    <path d=\"M0 0h24v24H0V0z\" fill=\"none\"/>\n",
              "    <path d=\"M18.56 5.44l.94 2.06.94-2.06 2.06-.94-2.06-.94-.94-2.06-.94 2.06-2.06.94zm-11 1L8.5 8.5l.94-2.06 2.06-.94-2.06-.94L8.5 2.5l-.94 2.06-2.06.94zm10 10l.94 2.06.94-2.06 2.06-.94-2.06-.94-.94-2.06-.94 2.06-2.06.94z\"/><path d=\"M17.41 7.96l-1.37-1.37c-.4-.4-.92-.59-1.43-.59-.52 0-1.04.2-1.43.59L10.3 9.45l-7.72 7.72c-.78.78-.78 2.05 0 2.83L4 21.41c.39.39.9.59 1.41.59.51 0 1.02-.2 1.41-.59l7.78-7.78 2.81-2.81c.8-.78.8-2.07 0-2.86zM5.41 20L4 18.59l7.72-7.72 1.47 1.35L5.41 20z\"/>\n",
              "  </svg>\n",
              "      </button>\n",
              "      \n",
              "  <style>\n",
              "    .colab-df-container {\n",
              "      display:flex;\n",
              "      flex-wrap:wrap;\n",
              "      gap: 12px;\n",
              "    }\n",
              "\n",
              "    .colab-df-convert {\n",
              "      background-color: #E8F0FE;\n",
              "      border: none;\n",
              "      border-radius: 50%;\n",
              "      cursor: pointer;\n",
              "      display: none;\n",
              "      fill: #1967D2;\n",
              "      height: 32px;\n",
              "      padding: 0 0 0 0;\n",
              "      width: 32px;\n",
              "    }\n",
              "\n",
              "    .colab-df-convert:hover {\n",
              "      background-color: #E2EBFA;\n",
              "      box-shadow: 0px 1px 2px rgba(60, 64, 67, 0.3), 0px 1px 3px 1px rgba(60, 64, 67, 0.15);\n",
              "      fill: #174EA6;\n",
              "    }\n",
              "\n",
              "    [theme=dark] .colab-df-convert {\n",
              "      background-color: #3B4455;\n",
              "      fill: #D2E3FC;\n",
              "    }\n",
              "\n",
              "    [theme=dark] .colab-df-convert:hover {\n",
              "      background-color: #434B5C;\n",
              "      box-shadow: 0px 1px 3px 1px rgba(0, 0, 0, 0.15);\n",
              "      filter: drop-shadow(0px 1px 2px rgba(0, 0, 0, 0.3));\n",
              "      fill: #FFFFFF;\n",
              "    }\n",
              "  </style>\n",
              "\n",
              "      <script>\n",
              "        const buttonEl =\n",
              "          document.querySelector('#df-edac85f9-230a-4e92-a7e2-ef9f2dcb1ef6 button.colab-df-convert');\n",
              "        buttonEl.style.display =\n",
              "          google.colab.kernel.accessAllowed ? 'block' : 'none';\n",
              "\n",
              "        async function convertToInteractive(key) {\n",
              "          const element = document.querySelector('#df-edac85f9-230a-4e92-a7e2-ef9f2dcb1ef6');\n",
              "          const dataTable =\n",
              "            await google.colab.kernel.invokeFunction('convertToInteractive',\n",
              "                                                     [key], {});\n",
              "          if (!dataTable) return;\n",
              "\n",
              "          const docLinkHtml = 'Like what you see? Visit the ' +\n",
              "            '<a target=\"_blank\" href=https://colab.research.google.com/notebooks/data_table.ipynb>data table notebook</a>'\n",
              "            + ' to learn more about interactive tables.';\n",
              "          element.innerHTML = '';\n",
              "          dataTable['output_type'] = 'display_data';\n",
              "          await google.colab.output.renderOutput(dataTable, element);\n",
              "          const docLink = document.createElement('div');\n",
              "          docLink.innerHTML = docLinkHtml;\n",
              "          element.appendChild(docLink);\n",
              "        }\n",
              "      </script>\n",
              "    </div>\n",
              "  </div>\n",
              "  "
            ]
          },
          "metadata": {},
          "execution_count": 8
        }
      ]
    },
    {
      "cell_type": "markdown",
      "source": [
        "#SO What is the z-score that i call it \"Big But\" loudly \n",
        "\n",
        "z-score convert our mutiple ranged data. to a flat and goodboy data\n",
        "so we can use it easily. more than you think.\n",
        "\n",
        "# we call it normalization babe"
      ],
      "metadata": {
        "id": "-tMTZZA08RxU"
      }
    },
    {
      "cell_type": "code",
      "source": [
        "# Calculate the Z-scores of each column in the training set and\n",
        "# write those Z-scores into a new pandas DataFrame named train_df_norm.\n",
        "train_df_mean = train_df.mean()\n",
        "train_df_std = train_df.std()\n",
        "train_df_norm = (train_df - train_df_mean)/train_df_std\n",
        "\n",
        "# Calculate the Z-scores of each column in the test set and\n",
        "# write those Z-scores into a new pandas DataFrame named test_df_norm.\n",
        "test_df_mean = test_df.mean()\n",
        "test_df_std  = test_df.std()\n",
        "test_df_norm = (test_df - test_df_mean)/test_df_std"
      ],
      "metadata": {
        "id": "3u894dgL9VFD"
      },
      "execution_count": 9,
      "outputs": []
    },
    {
      "cell_type": "markdown",
      "source": [
        "as you can see we don't define threshold\n",
        "This code cell specifies the features that you'll ultimately train the model on and how each of those features will be represented. The transformations (collected in feature_layer) don't actually get applied until you pass a DataFrame to it, which will happen when we train the model.\n",
        "( i just copied this code cell and use its own definition to descripe the code job )"
      ],
      "metadata": {
        "id": "ZaiDAoZ4Hxt_"
      }
    },
    {
      "cell_type": "code",
      "source": [
        "# Create an empty list that will eventually hold all created feature columns.\n",
        "feature_columns = []\n",
        "\n",
        "\n",
        "resolution_in_Zs = 0.3  # 3/10 of a standard deviation.\n",
        "\n",
        "# Create a bucket feature column for latitude.\n",
        "diff24h_as_a_numeric_column = tf.feature_column.numeric_column(\"diff_24h\")\n",
        "diff24h_boundaries = list(np.arange(int(min(train_df_norm['diff_24h'])), \n",
        "                                     int(max(train_df_norm['diff_24h'])), \n",
        "                                     resolution_in_Zs))\n",
        "diff24h = tf.feature_column.bucketized_column(diff24h_as_a_numeric_column, diff24h_boundaries)\n",
        "\n",
        "# Create a bucket feature column for longitude.\n",
        "volume_as_a_numeric_column = tf.feature_column.numeric_column(\"volume\")\n",
        "volume_boundaries = list(np.arange(int(min(train_df_norm['volume'])), \n",
        "                                      int(max(train_df_norm['volume'])), \n",
        "                                      resolution_in_Zs))\n",
        "volume = tf.feature_column.bucketized_column(volume_as_a_numeric_column, \n",
        "                                                volume_boundaries)\n",
        "volume_x_diff24h = tf.feature_column.crossed_column([volume, diff24h], hash_bucket_size=100)\n",
        "crossed_feature = tf.feature_column.indicator_column(volume_x_diff24h)\n",
        "feature_columns.append(crossed_feature)\n",
        "\n",
        "\n",
        "low = tf.feature_column.numeric_column(\"low\")\n",
        "feature_columns.append(low)\n",
        "\n",
        "high = tf.feature_column.numeric_column(\"high\")\n",
        "feature_columns.append(high)\n",
        "\n",
        "# add feature  columns as layers for our model\n",
        "feature_layer = layers.DenseFeatures(feature_columns)"
      ],
      "metadata": {
        "id": "WNGNa2pkGK1y"
      },
      "execution_count": 10,
      "outputs": []
    },
    {
      "cell_type": "code",
      "source": [
        "def plot_the_loss_curve(epochs, mse):\n",
        "  \"\"\"Plot a curve of loss vs. epoch.\"\"\"\n",
        "\n",
        "  plt.figure()\n",
        "  plt.xlabel(\"Epoch\")\n",
        "  plt.ylabel(\"Mean Squared Error\")\n",
        "\n",
        "  plt.plot(epochs, mse, label=\"Loss\")\n",
        "  plt.legend()\n",
        "  plt.ylim([mse.min()*0.95, mse.max() * 1.03])\n",
        "  plt.show()  "
      ],
      "metadata": {
        "id": "1itl8KhCju_1"
      },
      "execution_count": 11,
      "outputs": []
    },
    {
      "cell_type": "markdown",
      "source": [
        ">> and like last two train we define our function. but with a little difference.\n",
        "check and find it !"
      ],
      "metadata": {
        "id": "K9TCgoUPgUqZ"
      }
    },
    {
      "cell_type": "code",
      "source": [
        "def create_model(my_learning_rate, feature_layer):\n",
        "  \"\"\"Create and compile a simple linear regression model.\"\"\"\n",
        "  # Most simple tf.keras models are sequential.\n",
        "  model = tf.keras.models.Sequential()\n",
        "\n",
        "  # Add the layer containing the feature columns to the model.\n",
        "  model.add(feature_layer)\n",
        "\n",
        "  # Add one linear layer to the model to yield a simple linear regressor.\n",
        "  model.add(tf.keras.layers.Dense(units=1, input_shape=(1,)))\n",
        "\n",
        "  # Construct the layers into a model that TensorFlow can execute.\n",
        "  model.compile(optimizer=tf.keras.optimizers.RMSprop(lr=my_learning_rate),\n",
        "                loss=\"mean_squared_error\",\n",
        "                metrics=[tf.keras.metrics.MeanSquaredError()])\n",
        "  return model           \n",
        "\n",
        "\n",
        "def train_model(model, dataset, epochs, batch_size, label_name):\n",
        "  \"\"\"Feed a dataset into the model in order to train it.\"\"\"\n",
        "\n",
        "  # Split the dataset into features and label.\n",
        "  features = {name:np.array(value) for name, value in dataset.items()}\n",
        "  label = np.array(features.pop(label_name))\n",
        "  history = model.fit(x=features, y=label, batch_size=batch_size,\n",
        "                      epochs=epochs, shuffle=True)\n",
        "\n",
        "  # Get details that will be useful for plotting the loss curve.\n",
        "  epochs = history.epoch\n",
        "  hist = pd.DataFrame(history.history)\n",
        "  rmse = hist[\"mean_squared_error\"]\n",
        "\n",
        "  return epochs, rmse   \n",
        "\n",
        "print(\"Defined the create_model and train_model functions.\")"
      ],
      "metadata": {
        "id": "hZAguP0vg0yI",
        "colab": {
          "base_uri": "https://localhost:8080/"
        },
        "outputId": "a5cd7e9a-52fe-4bae-d51e-9c61520c24b1"
      },
      "execution_count": 12,
      "outputs": [
        {
          "output_type": "stream",
          "name": "stdout",
          "text": [
            "Defined the create_model and train_model functions.\n"
          ]
        }
      ]
    },
    {
      "cell_type": "markdown",
      "source": [
        "# Invoke the creating, training, and plotting functions\n"
      ],
      "metadata": {
        "id": "kX6ksYviiIYY"
      }
    },
    {
      "cell_type": "code",
      "source": [
        "# The following variables are the hyperparameters.\n",
        "learning_rate = 0.01\n",
        "epochs = 15\n",
        "batch_size = 1000\n",
        "label_name = \"last\"\n",
        "\n",
        "# Establish the model's topography.\n",
        "my_model = create_model(learning_rate, feature_layer)\n",
        "\n",
        "# Train the model on the normalized training set.\n",
        "epochs, mse = train_model(my_model, train_df_norm, epochs, batch_size, label_name)\n",
        "plot_the_loss_curve(epochs, mse)\n",
        "\n",
        "test_features = {name:np.array(value) for name, value in test_df_norm.items()}\n",
        "test_label = np.array(test_features.pop(label_name)) # isolate the label\n",
        "print(\"\\n Evaluate the linear regression model against the test set:\")\n",
        "my_model.evaluate(x = test_features, y = test_label, batch_size=batch_size)"
      ],
      "metadata": {
        "colab": {
          "base_uri": "https://localhost:8080/",
          "height": 941
        },
        "id": "V6SGiQbClf7J",
        "outputId": "1cec89d9-eab5-4dc7-9d8e-ca676144dd9e"
      },
      "execution_count": 14,
      "outputs": [
        {
          "output_type": "stream",
          "name": "stdout",
          "text": [
            "Epoch 1/15\n"
          ]
        },
        {
          "output_type": "stream",
          "name": "stderr",
          "text": [
            "WARNING:tensorflow:Layers in a Sequential model should only have a single input tensor. Received: inputs={'diff_24h': <tf.Tensor 'IteratorGetNext:0' shape=(None,) dtype=float32>, 'diff_per_24h': <tf.Tensor 'IteratorGetNext:1' shape=(None,) dtype=float32>, 'low': <tf.Tensor 'IteratorGetNext:3' shape=(None,) dtype=float32>, 'high': <tf.Tensor 'IteratorGetNext:2' shape=(None,) dtype=float32>, 'volume': <tf.Tensor 'IteratorGetNext:4' shape=(None,) dtype=float32>}. Consider rewriting this model with the Functional API.\n",
            "WARNING:tensorflow:Layers in a Sequential model should only have a single input tensor. Received: inputs={'diff_24h': <tf.Tensor 'IteratorGetNext:0' shape=(None,) dtype=float32>, 'diff_per_24h': <tf.Tensor 'IteratorGetNext:1' shape=(None,) dtype=float32>, 'low': <tf.Tensor 'IteratorGetNext:3' shape=(None,) dtype=float32>, 'high': <tf.Tensor 'IteratorGetNext:2' shape=(None,) dtype=float32>, 'volume': <tf.Tensor 'IteratorGetNext:4' shape=(None,) dtype=float32>}. Consider rewriting this model with the Functional API.\n"
          ]
        },
        {
          "output_type": "stream",
          "name": "stdout",
          "text": [
            "101/101 [==============================] - 1s 3ms/step - loss: 0.2423 - mean_squared_error: 0.2423\n",
            "Epoch 2/15\n",
            "101/101 [==============================] - 0s 3ms/step - loss: 0.0656 - mean_squared_error: 0.0656\n",
            "Epoch 3/15\n",
            "101/101 [==============================] - 0s 3ms/step - loss: 0.0638 - mean_squared_error: 0.0638\n",
            "Epoch 4/15\n",
            "101/101 [==============================] - 0s 3ms/step - loss: 0.0637 - mean_squared_error: 0.0637\n",
            "Epoch 5/15\n",
            "101/101 [==============================] - 0s 3ms/step - loss: 0.0637 - mean_squared_error: 0.0637\n",
            "Epoch 6/15\n",
            "101/101 [==============================] - 0s 3ms/step - loss: 0.0637 - mean_squared_error: 0.0637\n",
            "Epoch 7/15\n",
            "101/101 [==============================] - 0s 3ms/step - loss: 0.0637 - mean_squared_error: 0.0637\n",
            "Epoch 8/15\n",
            "101/101 [==============================] - 0s 3ms/step - loss: 0.0637 - mean_squared_error: 0.0637\n",
            "Epoch 9/15\n",
            "101/101 [==============================] - 0s 3ms/step - loss: 0.0637 - mean_squared_error: 0.0637\n",
            "Epoch 10/15\n",
            "101/101 [==============================] - 0s 3ms/step - loss: 0.0637 - mean_squared_error: 0.0637\n",
            "Epoch 11/15\n",
            "101/101 [==============================] - 0s 3ms/step - loss: 0.0637 - mean_squared_error: 0.0637\n",
            "Epoch 12/15\n",
            "101/101 [==============================] - 0s 3ms/step - loss: 0.0637 - mean_squared_error: 0.0637\n",
            "Epoch 13/15\n",
            "101/101 [==============================] - 0s 3ms/step - loss: 0.0637 - mean_squared_error: 0.0637\n",
            "Epoch 14/15\n",
            "101/101 [==============================] - 0s 3ms/step - loss: 0.0637 - mean_squared_error: 0.0637\n",
            "Epoch 15/15\n",
            "101/101 [==============================] - 0s 3ms/step - loss: 0.0637 - mean_squared_error: 0.0637\n"
          ]
        },
        {
          "output_type": "display_data",
          "data": {
            "text/plain": [
              "<Figure size 432x288 with 1 Axes>"
            ],
            "image/png": "[encoded data removed]"
          },
          "metadata": {
            "needs_background": "light"
          }
        },
        {
          "output_type": "stream",
          "name": "stderr",
          "text": [
            "WARNING:tensorflow:Layers in a Sequential model should only have a single input tensor. Received: inputs={'diff_24h': <tf.Tensor 'IteratorGetNext:0' shape=(None,) dtype=float32>, 'diff_per_24h': <tf.Tensor 'IteratorGetNext:1' shape=(None,) dtype=float32>, 'low': <tf.Tensor 'IteratorGetNext:3' shape=(None,) dtype=float32>, 'high': <tf.Tensor 'IteratorGetNext:2' shape=(None,) dtype=float32>, 'volume': <tf.Tensor 'IteratorGetNext:4' shape=(None,) dtype=float32>}. Consider rewriting this model with the Functional API.\n"
          ]
        },
        {
          "output_type": "stream",
          "name": "stdout",
          "text": [
            "\n",
            " Evaluate the linear regression model against the test set:\n",
            "26/26 [==============================] - 0s 3ms/step - loss: 0.1111 - mean_squared_error: 0.1111\n"
          ]
        },
        {
          "output_type": "execute_result",
          "data": {
            "text/plain": [
              "[0.11111327260732651, 0.11111327260732651]"
            ]
          },
          "metadata": {},
          "execution_count": 14
        }
      ]
    }
  ]
}